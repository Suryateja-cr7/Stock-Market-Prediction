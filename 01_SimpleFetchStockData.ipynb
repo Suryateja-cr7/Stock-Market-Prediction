{
  "cells": [
    {
      "cell_type": "markdown",
      "metadata": {},
      "source": [
        "# Simple Download Stock Data Site"
      ]
    },
    {
      "cell_type": "markdown",
      "metadata": {},
      "source": [
        "There are many sites you can download or fetch stock historical data or fundamental data such as yahoo, google, alpha vantage, quandl and other sites. Some are free and some you have to paid. Some you will need to sign up and some you do not need to sign up."
      ]
    },
    {
      "cell_type": "markdown",
      "metadata": {},
      "source": [
        "## 1. fix yahoo is the most common\n",
        "https://pypi.org/project/fix-yahoo-finance/"
      ]
    },
    {
      "cell_type": "code",
      "execution_count": 1,
      "metadata": {
        "collapsed": false,
        "inputHidden": false,
        "outputHidden": false
      },
      "outputs": [],
      "source": [
        "# Libraries\n",
        "import pandas as pd\n",
        "import numpy as np\n",
        "\n",
        "import warnings\n",
        "warnings.filterwarnings(\"ignore\")"
      ]
    },
    {
      "cell_type": "code",
      "execution_count": 2,
      "metadata": {},
      "outputs": [
        {
          "name": "stdout",
          "output_type": "stream",
          "text": [
            "usage: conda [-h] [--no-plugins] [-V] COMMAND ...\n",
            "conda: error: argument COMMAND: invalid choice: 'activate' (choose from 'clean', 'compare', 'config', 'create', 'info', 'init', 'install', 'list', 'notices', 'package', 'remove', 'uninstall', 'rename', 'run', 'search', 'update', 'upgrade', 'build', 'convert', 'debug', 'develop', 'doctor', 'index', 'inspect', 'metapackage', 'render', 'skeleton', 'content-trust', 'pack', 'server', 'token', 'env', 'repo', 'verify')\n"
          ]
        }
      ],
      "source": [
        "! conda activate ml"
      ]
    },
    {
      "cell_type": "code",
      "execution_count": 3,
      "metadata": {
        "collapsed": false,
        "inputHidden": false,
        "outputHidden": false
      },
      "outputs": [],
      "source": [
        "# fix_yahoo_finance is used to fetch data \n",
        "import yfinance as yf\n",
        "yf.pdr_override()"
      ]
    },
    {
      "cell_type": "code",
      "execution_count": 4,
      "metadata": {
        "collapsed": false,
        "inputHidden": false,
        "outputHidden": false
      },
      "outputs": [],
      "source": [
        "# input\n",
        "symbol = 'AAPL'\n",
        "start = '2014-01-01'\n",
        "end = '2018-01-01'"
      ]
    },
    {
      "cell_type": "code",
      "execution_count": 5,
      "metadata": {
        "collapsed": false,
        "inputHidden": false,
        "outputHidden": false
      },
      "outputs": [
        {
          "name": "stdout",
          "output_type": "stream",
          "text": [
            "[*********************100%%**********************]  1 of 1 completed\n"
          ]
        },
        {
          "data": {
            "text/html": [
              "<div>\n",
              "<style scoped>\n",
              "    .dataframe tbody tr th:only-of-type {\n",
              "        vertical-align: middle;\n",
              "    }\n",
              "\n",
              "    .dataframe tbody tr th {\n",
              "        vertical-align: top;\n",
              "    }\n",
              "\n",
              "    .dataframe thead th {\n",
              "        text-align: right;\n",
              "    }\n",
              "</style>\n",
              "<table border=\"1\" class=\"dataframe\">\n",
              "  <thead>\n",
              "    <tr style=\"text-align: right;\">\n",
              "      <th></th>\n",
              "      <th>Open</th>\n",
              "      <th>High</th>\n",
              "      <th>Low</th>\n",
              "      <th>Close</th>\n",
              "      <th>Adj Close</th>\n",
              "      <th>Volume</th>\n",
              "    </tr>\n",
              "    <tr>\n",
              "      <th>Date</th>\n",
              "      <th></th>\n",
              "      <th></th>\n",
              "      <th></th>\n",
              "      <th></th>\n",
              "      <th></th>\n",
              "      <th></th>\n",
              "    </tr>\n",
              "  </thead>\n",
              "  <tbody>\n",
              "    <tr>\n",
              "      <th>2014-01-02</th>\n",
              "      <td>19.845715</td>\n",
              "      <td>19.893929</td>\n",
              "      <td>19.715000</td>\n",
              "      <td>19.754642</td>\n",
              "      <td>17.341541</td>\n",
              "      <td>234684800</td>\n",
              "    </tr>\n",
              "    <tr>\n",
              "      <th>2014-01-03</th>\n",
              "      <td>19.745001</td>\n",
              "      <td>19.775000</td>\n",
              "      <td>19.301071</td>\n",
              "      <td>19.320715</td>\n",
              "      <td>16.960621</td>\n",
              "      <td>392467600</td>\n",
              "    </tr>\n",
              "    <tr>\n",
              "      <th>2014-01-06</th>\n",
              "      <td>19.194643</td>\n",
              "      <td>19.528570</td>\n",
              "      <td>19.057142</td>\n",
              "      <td>19.426071</td>\n",
              "      <td>17.053116</td>\n",
              "      <td>412610800</td>\n",
              "    </tr>\n",
              "    <tr>\n",
              "      <th>2014-01-07</th>\n",
              "      <td>19.440001</td>\n",
              "      <td>19.498571</td>\n",
              "      <td>19.211430</td>\n",
              "      <td>19.287144</td>\n",
              "      <td>16.931158</td>\n",
              "      <td>317209200</td>\n",
              "    </tr>\n",
              "    <tr>\n",
              "      <th>2014-01-08</th>\n",
              "      <td>19.243214</td>\n",
              "      <td>19.484285</td>\n",
              "      <td>19.238930</td>\n",
              "      <td>19.409286</td>\n",
              "      <td>17.038378</td>\n",
              "      <td>258529600</td>\n",
              "    </tr>\n",
              "  </tbody>\n",
              "</table>\n",
              "</div>"
            ],
            "text/plain": [
              "                 Open       High        Low      Close  Adj Close     Volume\n",
              "Date                                                                        \n",
              "2014-01-02  19.845715  19.893929  19.715000  19.754642  17.341541  234684800\n",
              "2014-01-03  19.745001  19.775000  19.301071  19.320715  16.960621  392467600\n",
              "2014-01-06  19.194643  19.528570  19.057142  19.426071  17.053116  412610800\n",
              "2014-01-07  19.440001  19.498571  19.211430  19.287144  16.931158  317209200\n",
              "2014-01-08  19.243214  19.484285  19.238930  19.409286  17.038378  258529600"
            ]
          },
          "execution_count": 5,
          "metadata": {},
          "output_type": "execute_result"
        }
      ],
      "source": [
        "# Read data \n",
        "df = yf.download(symbol,start,end)\n",
        "\n",
        "# Only keep close columns \n",
        "df.head()"
      ]
    },
    {
      "cell_type": "markdown",
      "metadata": {},
      "source": [
        "## 2. pandas_datareader\n",
        "This library work sometimes. I recommend not to use to this one.\n",
        "\n",
        "https://pandas-datareader.readthedocs.io/en/latest/"
      ]
    },
    {
      "cell_type": "code",
      "execution_count": 6,
      "metadata": {},
      "outputs": [],
      "source": [
        "import pandas_datareader  as pdr"
      ]
    },
    {
      "cell_type": "code",
      "execution_count": 12,
      "metadata": {
        "collapsed": false,
        "inputHidden": false,
        "outputHidden": false
      },
      "outputs": [
        {
          "name": "stdout",
          "output_type": "stream",
          "text": [
            "[*********************100%%**********************]  1 of 1 completed\n",
            "                 Open       High        Low      Close  Adj Close     Volume\n",
            "Date                                                                        \n",
            "2014-01-02  19.845715  19.893929  19.715000  19.754642  17.341539  234684800\n",
            "2014-01-03  19.745001  19.775000  19.301071  19.320715  16.960629  392467600\n",
            "2014-01-06  19.194643  19.528570  19.057142  19.426071  17.053110  412610800\n",
            "2014-01-07  19.440001  19.498571  19.211430  19.287144  16.931158  317209200\n",
            "2014-01-08  19.243214  19.484285  19.238930  19.409286  17.038378  258529600\n"
          ]
        }
      ],
      "source": [
        "import yfinance as yf\n",
        "symbol = 'AAPL'\n",
        "start = '2014-01-01'\n",
        "end = '2018-01-01'\n",
        "data = yf.download(symbol, start=start, end=end)\n",
        "print(data.head())\n"
      ]
    },
    {
      "cell_type": "code",
      "execution_count": 13,
      "metadata": {
        "collapsed": false,
        "inputHidden": false,
        "outputHidden": false
      },
      "outputs": [
        {
          "data": {
            "text/html": [
              "<div>\n",
              "<style scoped>\n",
              "    .dataframe tbody tr th:only-of-type {\n",
              "        vertical-align: middle;\n",
              "    }\n",
              "\n",
              "    .dataframe tbody tr th {\n",
              "        vertical-align: top;\n",
              "    }\n",
              "\n",
              "    .dataframe thead th {\n",
              "        text-align: right;\n",
              "    }\n",
              "</style>\n",
              "<table border=\"1\" class=\"dataframe\">\n",
              "  <thead>\n",
              "    <tr style=\"text-align: right;\">\n",
              "      <th></th>\n",
              "      <th>Open</th>\n",
              "      <th>High</th>\n",
              "      <th>Low</th>\n",
              "      <th>Close</th>\n",
              "      <th>Adj Close</th>\n",
              "      <th>Volume</th>\n",
              "    </tr>\n",
              "    <tr>\n",
              "      <th>Date</th>\n",
              "      <th></th>\n",
              "      <th></th>\n",
              "      <th></th>\n",
              "      <th></th>\n",
              "      <th></th>\n",
              "      <th></th>\n",
              "    </tr>\n",
              "  </thead>\n",
              "  <tbody>\n",
              "    <tr>\n",
              "      <th>2014-01-02</th>\n",
              "      <td>19.845715</td>\n",
              "      <td>19.893929</td>\n",
              "      <td>19.715000</td>\n",
              "      <td>19.754642</td>\n",
              "      <td>17.341539</td>\n",
              "      <td>234684800</td>\n",
              "    </tr>\n",
              "    <tr>\n",
              "      <th>2014-01-03</th>\n",
              "      <td>19.745001</td>\n",
              "      <td>19.775000</td>\n",
              "      <td>19.301071</td>\n",
              "      <td>19.320715</td>\n",
              "      <td>16.960629</td>\n",
              "      <td>392467600</td>\n",
              "    </tr>\n",
              "    <tr>\n",
              "      <th>2014-01-06</th>\n",
              "      <td>19.194643</td>\n",
              "      <td>19.528570</td>\n",
              "      <td>19.057142</td>\n",
              "      <td>19.426071</td>\n",
              "      <td>17.053110</td>\n",
              "      <td>412610800</td>\n",
              "    </tr>\n",
              "    <tr>\n",
              "      <th>2014-01-07</th>\n",
              "      <td>19.440001</td>\n",
              "      <td>19.498571</td>\n",
              "      <td>19.211430</td>\n",
              "      <td>19.287144</td>\n",
              "      <td>16.931158</td>\n",
              "      <td>317209200</td>\n",
              "    </tr>\n",
              "    <tr>\n",
              "      <th>2014-01-08</th>\n",
              "      <td>19.243214</td>\n",
              "      <td>19.484285</td>\n",
              "      <td>19.238930</td>\n",
              "      <td>19.409286</td>\n",
              "      <td>17.038378</td>\n",
              "      <td>258529600</td>\n",
              "    </tr>\n",
              "  </tbody>\n",
              "</table>\n",
              "</div>"
            ],
            "text/plain": [
              "                 Open       High        Low      Close  Adj Close     Volume\n",
              "Date                                                                        \n",
              "2014-01-02  19.845715  19.893929  19.715000  19.754642  17.341539  234684800\n",
              "2014-01-03  19.745001  19.775000  19.301071  19.320715  16.960629  392467600\n",
              "2014-01-06  19.194643  19.528570  19.057142  19.426071  17.053110  412610800\n",
              "2014-01-07  19.440001  19.498571  19.211430  19.287144  16.931158  317209200\n",
              "2014-01-08  19.243214  19.484285  19.238930  19.409286  17.038378  258529600"
            ]
          },
          "execution_count": 13,
          "metadata": {},
          "output_type": "execute_result"
        }
      ],
      "source": [
        "data.head()"
      ]
    },
    {
      "cell_type": "markdown",
      "metadata": {},
      "source": [
        "## 3. alpha_vantage\n",
        "https://alpha-vantage.readthedocs.io/en/latest/\n",
        "\n",
        "For this one, you will need to sign up and is free. You will get a free api key.\n",
        "\n",
        "https://www.alphavantage.co/support/#api-key"
      ]
    },
    {
      "cell_type": "code",
      "execution_count": 15,
      "metadata": {},
      "outputs": [],
      "source": [
        "from alpha_vantage.timeseries import TimeSeries"
      ]
    },
    {
      "cell_type": "code",
      "execution_count": 18,
      "metadata": {
        "collapsed": false,
        "inputHidden": false,
        "outputHidden": false
      },
      "outputs": [
        {
          "name": "stdout",
          "output_type": "stream",
          "text": [
            "{'2023-08-24 19:45:00': {'1. open': '176.3800', '2. high': '176.4600', '3. low': '176.3200', '4. close': '176.3800', '5. volume': '11357'}, '2023-08-24 19:30:00': {'1. open': '176.3500', '2. high': '176.5000', '3. low': '176.2700', '4. close': '176.3300', '5. volume': '5664'}, '2023-08-24 19:15:00': {'1. open': '176.2750', '2. high': '176.3900', '3. low': '176.2100', '4. close': '176.2600', '5. volume': '3135'}, '2023-08-24 19:00:00': {'1. open': '176.6500', '2. high': '176.6500', '3. low': '176.2100', '4. close': '176.2750', '5. volume': '10368'}, '2023-08-24 18:45:00': {'1. open': '176.5700', '2. high': '176.6500', '3. low': '176.5100', '4. close': '176.6500', '5. volume': '8361'}, '2023-08-24 18:30:00': {'1. open': '176.3200', '2. high': '176.6500', '3. low': '176.2900', '4. close': '176.5700', '5. volume': '14214'}, '2023-08-24 18:15:00': {'1. open': '176.3700', '2. high': '176.3700', '3. low': '176.2500', '4. close': '176.3200', '5. volume': '16042'}, '2023-08-24 18:00:00': {'1. open': '176.0650', '2. high': '176.4700', '3. low': '176.0500', '4. close': '176.3400', '5. volume': '15871'}, '2023-08-24 17:45:00': {'1. open': '176.0400', '2. high': '176.0900', '3. low': '176.0300', '4. close': '176.0800', '5. volume': '4031'}, '2023-08-24 17:30:00': {'1. open': '175.9600', '2. high': '176.0600', '3. low': '175.9100', '4. close': '176.0600', '5. volume': '20568'}, '2023-08-24 17:15:00': {'1. open': '175.9000', '2. high': '175.9800', '3. low': '175.8700', '4. close': '175.9700', '5. volume': '13126'}, '2023-08-24 17:00:00': {'1. open': '176.1100', '2. high': '176.3800', '3. low': '169.5730', '4. close': '175.9100', '5. volume': '1423570'}, '2023-08-24 16:45:00': {'1. open': '176.0000', '2. high': '177.1890', '3. low': '175.9800', '4. close': '176.1000', '5. volume': '138549'}, '2023-08-24 16:30:00': {'1. open': '176.0300', '2. high': '176.1700', '3. low': '175.9100', '4. close': '176.0000', '5. volume': '36180'}, '2023-08-24 16:15:00': {'1. open': '176.3700', '2. high': '177.2150', '3. low': '176.0100', '4. close': '176.0400', '5. volume': '40207'}, '2023-08-24 16:00:00': {'1. open': '176.3300', '2. high': '176.4640', '3. low': '175.9900', '4. close': '176.3800', '5. volume': '21030966'}, '2023-08-24 15:45:00': {'1. open': '176.3600', '2. high': '176.6700', '3. low': '176.0100', '4. close': '176.3300', '5. volume': '5227177'}, '2023-08-24 15:30:00': {'1. open': '176.8200', '2. high': '176.8900', '3. low': '176.2400', '4. close': '176.3550', '5. volume': '2030018'}, '2023-08-24 15:15:00': {'1. open': '177.1000', '2. high': '177.3200', '3. low': '176.8000', '4. close': '176.8200', '5. volume': '1382112'}, '2023-08-24 15:00:00': {'1. open': '177.3600', '2. high': '177.4700', '3. low': '176.9500', '4. close': '177.1000', '5. volume': '1273998'}, '2023-08-24 14:45:00': {'1. open': '177.2000', '2. high': '177.3750', '3. low': '177.0000', '4. close': '177.3540', '5. volume': '1488229'}, '2023-08-24 14:30:00': {'1. open': '177.5200', '2. high': '177.6400', '3. low': '177.1700', '4. close': '177.1900', '5. volume': '1042689'}, '2023-08-24 14:15:00': {'1. open': '177.8760', '2. high': '177.8800', '3. low': '177.4650', '4. close': '177.5240', '5. volume': '915092'}, '2023-08-24 14:00:00': {'1. open': '177.5600', '2. high': '177.8800', '3. low': '177.4750', '4. close': '177.8780', '5. volume': '927509'}, '2023-08-24 13:45:00': {'1. open': '177.7300', '2. high': '177.8600', '3. low': '177.4300', '4. close': '177.5510', '5. volume': '817127'}, '2023-08-24 13:30:00': {'1. open': '177.7300', '2. high': '177.9300', '3. low': '177.6900', '4. close': '177.7250', '5. volume': '664379'}, '2023-08-24 13:15:00': {'1. open': '178.0200', '2. high': '178.0300', '3. low': '177.6810', '4. close': '177.7400', '5. volume': '625360'}, '2023-08-24 13:00:00': {'1. open': '177.9600', '2. high': '178.1400', '3. low': '177.8100', '4. close': '178.0280', '5. volume': '653964'}, '2023-08-24 12:45:00': {'1. open': '178.2100', '2. high': '178.3100', '3. low': '177.9500', '4. close': '177.9550', '5. volume': '1020982'}, '2023-08-24 12:30:00': {'1. open': '178.0500', '2. high': '178.2900', '3. low': '178.0000', '4. close': '178.2050', '5. volume': '687378'}, '2023-08-24 12:15:00': {'1. open': '178.0950', '2. high': '178.3000', '3. low': '178.0000', '4. close': '178.0600', '5. volume': '777135'}, '2023-08-24 12:00:00': {'1. open': '177.6100', '2. high': '178.1300', '3. low': '177.5000', '4. close': '178.0980', '5. volume': '1042915'}, '2023-08-24 11:45:00': {'1. open': '177.8400', '2. high': '178.0700', '3. low': '177.5200', '4. close': '177.6100', '5. volume': '1240711'}, '2023-08-24 11:30:00': {'1. open': '178.1200', '2. high': '178.1300', '3. low': '177.6600', '4. close': '177.8500', '5. volume': '1384348'}, '2023-08-24 11:15:00': {'1. open': '178.1100', '2. high': '178.4100', '3. low': '177.8400', '4. close': '178.1250', '5. volume': '1218274'}, '2023-08-24 11:00:00': {'1. open': '177.9100', '2. high': '178.1400', '3. low': '177.6500', '4. close': '178.1050', '5. volume': '1624413'}, '2023-08-24 10:45:00': {'1. open': '177.7910', '2. high': '178.3200', '3. low': '177.6800', '4. close': '177.8950', '5. volume': '1646695'}, '2023-08-24 10:30:00': {'1. open': '178.4100', '2. high': '178.4560', '3. low': '177.6800', '4. close': '177.7900', '5. volume': '2710612'}, '2023-08-24 10:15:00': {'1. open': '179.2000', '2. high': '179.2600', '3. low': '178.3900', '4. close': '178.4020', '5. volume': '2260843'}, '2023-08-24 10:00:00': {'1. open': '180.0200', '2. high': '180.1300', '3. low': '179.0990', '4. close': '179.2050', '5. volume': '1981292'}, '2023-08-24 09:45:00': {'1. open': '180.2200', '2. high': '180.2300', '3. low': '179.7600', '4. close': '180.0200', '5. volume': '1907698'}, '2023-08-24 09:30:00': {'1. open': '180.6740', '2. high': '181.1040', '3. low': '179.6100', '4. close': '180.2100', '5. volume': '3974329'}, '2023-08-24 09:15:00': {'1. open': '180.7900', '2. high': '181.0300', '3. low': '180.2800', '4. close': '180.7000', '5. volume': '152846'}, '2023-08-24 09:00:00': {'1. open': '180.7600', '2. high': '181.2250', '3. low': '174.7300', '4. close': '180.8100', '5. volume': '310546'}, '2023-08-24 08:45:00': {'1. open': '180.7300', '2. high': '180.9900', '3. low': '180.6000', '4. close': '180.7850', '5. volume': '51949'}, '2023-08-24 08:30:00': {'1. open': '181.1500', '2. high': '181.2700', '3. low': '177.7900', '4. close': '180.7200', '5. volume': '127504'}, '2023-08-24 08:15:00': {'1. open': '181.1600', '2. high': '181.2700', '3. low': '180.9500', '4. close': '181.2000', '5. volume': '69942'}, '2023-08-24 08:00:00': {'1. open': '181.7300', '2. high': '183.3400', '3. low': '180.8200', '4. close': '181.1500', '5. volume': '222265'}, '2023-08-24 07:45:00': {'1. open': '181.8500', '2. high': '181.8800', '3. low': '181.4700', '4. close': '181.4700', '5. volume': '29906'}, '2023-08-24 07:30:00': {'1. open': '181.7800', '2. high': '181.9900', '3. low': '181.7600', '4. close': '181.8600', '5. volume': '9968'}, '2023-08-24 07:15:00': {'1. open': '181.7600', '2. high': '182.0000', '3. low': '181.7600', '4. close': '181.7900', '5. volume': '34648'}, '2023-08-24 07:00:00': {'1. open': '181.7600', '2. high': '181.8000', '3. low': '181.5000', '4. close': '181.7600', '5. volume': '32306'}, '2023-08-24 06:45:00': {'1. open': '181.8500', '2. high': '181.8700', '3. low': '181.6900', '4. close': '181.7300', '5. volume': '7082'}, '2023-08-24 06:30:00': {'1. open': '181.8500', '2. high': '181.8900', '3. low': '181.7900', '4. close': '181.8700', '5. volume': '12262'}, '2023-08-24 06:15:00': {'1. open': '181.7900', '2. high': '181.8900', '3. low': '181.7500', '4. close': '181.8600', '5. volume': '15953'}, '2023-08-24 06:00:00': {'1. open': '181.8500', '2. high': '181.9000', '3. low': '181.7800', '4. close': '181.7900', '5. volume': '21548'}, '2023-08-24 05:45:00': {'1. open': '181.8600', '2. high': '181.9000', '3. low': '181.7500', '4. close': '181.8500', '5. volume': '2958'}, '2023-08-24 05:30:00': {'1. open': '181.8000', '2. high': '181.8800', '3. low': '181.5500', '4. close': '181.8800', '5. volume': '18574'}, '2023-08-24 05:15:00': {'1. open': '181.8300', '2. high': '181.8300', '3. low': '181.3900', '4. close': '181.7800', '5. volume': '31296'}, '2023-08-24 05:00:00': {'1. open': '181.9500', '2. high': '181.9600', '3. low': '181.7100', '4. close': '181.8400', '5. volume': '11247'}, '2023-08-24 04:45:00': {'1. open': '181.9200', '2. high': '181.9900', '3. low': '181.7800', '4. close': '181.9800', '5. volume': '14078'}, '2023-08-24 04:30:00': {'1. open': '182.4300', '2. high': '182.4400', '3. low': '181.9000', '4. close': '181.9200', '5. volume': '18788'}, '2023-08-24 04:15:00': {'1. open': '182.3000', '2. high': '182.5600', '3. low': '182.3000', '4. close': '182.3900', '5. volume': '15981'}, '2023-08-24 04:00:00': {'1. open': '182.4000', '2. high': '182.7800', '3. low': '181.9400', '4. close': '182.3000', '5. volume': '41899'}, '2023-08-23 19:45:00': {'1. open': '181.3500', '2. high': '181.5600', '3. low': '181.1300', '4. close': '181.3850', '5. volume': '24998'}, '2023-08-23 19:30:00': {'1. open': '181.7000', '2. high': '181.9500', '3. low': '181.2800', '4. close': '181.3500', '5. volume': '34453'}, '2023-08-23 19:15:00': {'1. open': '181.2600', '2. high': '181.9000', '3. low': '181.1200', '4. close': '181.7000', '5. volume': '67665'}, '2023-08-23 19:00:00': {'1. open': '180.8900', '2. high': '181.2500', '3. low': '180.8000', '4. close': '181.2500', '5. volume': '29625'}, '2023-08-23 18:45:00': {'1. open': '180.8400', '2. high': '180.8900', '3. low': '180.8100', '4. close': '180.8900', '5. volume': '11493'}, '2023-08-23 18:30:00': {'1. open': '180.7900', '2. high': '180.8900', '3. low': '180.6900', '4. close': '180.8550', '5. volume': '17380'}, '2023-08-23 18:15:00': {'1. open': '180.8800', '2. high': '180.9200', '3. low': '180.7000', '4. close': '180.7650', '5. volume': '12306'}, '2023-08-23 18:00:00': {'1. open': '180.8500', '2. high': '181.0000', '3. low': '180.8000', '4. close': '180.9100', '5. volume': '22673'}, '2023-08-23 17:45:00': {'1. open': '180.8400', '2. high': '181.0000', '3. low': '180.7100', '4. close': '180.8950', '5. volume': '20698'}, '2023-08-23 17:30:00': {'1. open': '180.9900', '2. high': '181.1200', '3. low': '180.6900', '4. close': '180.8400', '5. volume': '71271'}, '2023-08-23 17:15:00': {'1. open': '180.9400', '2. high': '181.0800', '3. low': '180.8200', '4. close': '181.0000', '5. volume': '61559'}, '2023-08-23 17:00:00': {'1. open': '180.9300', '2. high': '181.3000', '3. low': '180.3740', '4. close': '180.9300', '5. volume': '190451'}, '2023-08-23 16:45:00': {'1. open': '180.7700', '2. high': '181.2000', '3. low': '180.5900', '4. close': '180.8600', '5. volume': '532976'}, '2023-08-23 16:30:00': {'1. open': '180.6900', '2. high': '181.1100', '3. low': '180.5200', '4. close': '180.8900', '5. volume': '157795'}, '2023-08-23 16:15:00': {'1. open': '180.9300', '2. high': '181.2300', '3. low': '180.5900', '4. close': '180.7200', '5. volume': '253893'}, '2023-08-23 16:00:00': {'1. open': '181.1400', '2. high': '181.3300', '3. low': '177.2150', '4. close': '180.9300', '5. volume': '13548404'}, '2023-08-23 15:45:00': {'1. open': '181.4400', '2. high': '181.4700', '3. low': '181.0000', '4. close': '181.1400', '5. volume': '4194704'}, '2023-08-23 15:30:00': {'1. open': '181.5350', '2. high': '181.5400', '3. low': '181.3710', '4. close': '181.4500', '5. volume': '1443275'}, '2023-08-23 15:15:00': {'1. open': '181.2400', '2. high': '181.5400', '3. low': '181.2250', '4. close': '181.5350', '5. volume': '1229856'}, '2023-08-23 15:00:00': {'1. open': '180.9500', '2. high': '181.3100', '3. low': '180.8100', '4. close': '181.2400', '5. volume': '1124107'}, '2023-08-23 14:45:00': {'1. open': '180.8550', '2. high': '181.0900', '3. low': '180.8100', '4. close': '180.9450', '5. volume': '827574'}, '2023-08-23 14:30:00': {'1. open': '181.0690', '2. high': '181.1200', '3. low': '180.8000', '4. close': '180.8600', '5. volume': '852551'}, '2023-08-23 14:15:00': {'1. open': '181.1900', '2. high': '181.2000', '3. low': '180.8910', '4. close': '181.0600', '5. volume': '1138554'}, '2023-08-23 14:00:00': {'1. open': '181.3990', '2. high': '181.4000', '3. low': '181.1200', '4. close': '181.1820', '5. volume': '890136'}, '2023-08-23 13:45:00': {'1. open': '181.3050', '2. high': '181.5500', '3. low': '181.2800', '4. close': '181.3990', '5. volume': '1009404'}, '2023-08-23 13:30:00': {'1. open': '181.2320', '2. high': '181.3950', '3. low': '181.1400', '4. close': '181.3000', '5. volume': '1258984'}, '2023-08-23 13:15:00': {'1. open': '180.8600', '2. high': '181.2900', '3. low': '180.8500', '4. close': '181.2400', '5. volume': '1514937'}, '2023-08-23 13:00:00': {'1. open': '180.6800', '2. high': '180.8800', '3. low': '180.6300', '4. close': '180.8550', '5. volume': '574267'}, '2023-08-23 12:45:00': {'1. open': '180.7850', '2. high': '180.9200', '3. low': '180.6700', '4. close': '180.6800', '5. volume': '754725'}, '2023-08-23 12:30:00': {'1. open': '180.7300', '2. high': '180.8100', '3. low': '180.6500', '4. close': '180.7780', '5. volume': '746879'}, '2023-08-23 12:15:00': {'1. open': '180.9050', '2. high': '180.9700', '3. low': '180.6300', '4. close': '180.7300', '5. volume': '1142744'}, '2023-08-23 12:00:00': {'1. open': '181.1300', '2. high': '181.1800', '3. low': '180.7800', '4. close': '180.9100', '5. volume': '879529'}, '2023-08-23 11:45:00': {'1. open': '180.8350', '2. high': '181.3100', '3. low': '180.7900', '4. close': '181.1300', '5. volume': '1665975'}, '2023-08-23 11:30:00': {'1. open': '181.1500', '2. high': '181.2400', '3. low': '180.8000', '4. close': '180.8450', '5. volume': '1384021'}, '2023-08-23 11:15:00': {'1. open': '181.1000', '2. high': '181.3310', '3. low': '180.9400', '4. close': '181.1500', '5. volume': '1495813'}, '2023-08-23 11:00:00': {'1. open': '181.2110', '2. high': '181.2850', '3. low': '180.8700', '4. close': '181.1100', '5. volume': '1661099'}}\n"
          ]
        }
      ],
      "source": [
        "ts = TimeSeries(key='S8VOMQK22UJHYHTE') # Input your API KEY in ...\n",
        "# Get json object with the intraday data and another with  the call's metadata\n",
        "data, meta_data = ts.get_intraday('AAPL')\n",
        "print(data)"
      ]
    },
    {
      "cell_type": "markdown",
      "metadata": {},
      "source": [
        "## 4. iexfinance"
      ]
    },
    {
      "cell_type": "code",
      "execution_count": 20,
      "metadata": {
        "collapsed": false,
        "inputHidden": false,
        "outputHidden": false
      },
      "outputs": [],
      "source": [
        "from iexfinance.stocks import Stock"
      ]
    },
    {
      "cell_type": "code",
      "execution_count": 22,
      "metadata": {
        "collapsed": false,
        "inputHidden": false,
        "outputHidden": false
      },
      "outputs": [
        {
          "name": "stdout",
          "output_type": "stream",
          "text": [
            "Open Price: 238.65\n",
            "Current Price:          TSLA\n",
            "price  230.04\n"
          ]
        }
      ],
      "source": [
        "\n",
        "symbol = 'TSLA'\n",
        "api_token = 'sk_b6762c61dab8444ebfbacbaf096a66d1'\n",
        "\n",
        "tsla = Stock(symbol, token=api_token)\n",
        "open_price = tsla.get_open()\n",
        "current_price = tsla.get_price()\n",
        "\n",
        "print(\"Open Price:\", open_price)\n",
        "print(\"Current Price:\", current_price)\n"
      ]
    },
    {
      "cell_type": "code",
      "execution_count": 24,
      "metadata": {
        "collapsed": false,
        "inputHidden": false,
        "outputHidden": false
      },
      "outputs": [
        {
          "name": "stdout",
          "output_type": "stream",
          "text": [
            "[*********************100%%**********************]  1 of 1 completed\n"
          ]
        },
        {
          "data": {
            "text/html": [
              "<div>\n",
              "<style scoped>\n",
              "    .dataframe tbody tr th:only-of-type {\n",
              "        vertical-align: middle;\n",
              "    }\n",
              "\n",
              "    .dataframe tbody tr th {\n",
              "        vertical-align: top;\n",
              "    }\n",
              "\n",
              "    .dataframe thead th {\n",
              "        text-align: right;\n",
              "    }\n",
              "</style>\n",
              "<table border=\"1\" class=\"dataframe\">\n",
              "  <thead>\n",
              "    <tr style=\"text-align: right;\">\n",
              "      <th></th>\n",
              "      <th>Open</th>\n",
              "      <th>High</th>\n",
              "      <th>Low</th>\n",
              "      <th>Close</th>\n",
              "      <th>Adj Close</th>\n",
              "      <th>Volume</th>\n",
              "    </tr>\n",
              "    <tr>\n",
              "      <th>Date</th>\n",
              "      <th></th>\n",
              "      <th></th>\n",
              "      <th></th>\n",
              "      <th></th>\n",
              "      <th></th>\n",
              "      <th></th>\n",
              "    </tr>\n",
              "  </thead>\n",
              "  <tbody>\n",
              "    <tr>\n",
              "      <th>2014-01-02</th>\n",
              "      <td>19.845715</td>\n",
              "      <td>19.893929</td>\n",
              "      <td>19.715000</td>\n",
              "      <td>19.754642</td>\n",
              "      <td>17.341539</td>\n",
              "      <td>234684800</td>\n",
              "    </tr>\n",
              "    <tr>\n",
              "      <th>2014-01-03</th>\n",
              "      <td>19.745001</td>\n",
              "      <td>19.775000</td>\n",
              "      <td>19.301071</td>\n",
              "      <td>19.320715</td>\n",
              "      <td>16.960629</td>\n",
              "      <td>392467600</td>\n",
              "    </tr>\n",
              "    <tr>\n",
              "      <th>2014-01-06</th>\n",
              "      <td>19.194643</td>\n",
              "      <td>19.528570</td>\n",
              "      <td>19.057142</td>\n",
              "      <td>19.426071</td>\n",
              "      <td>17.053102</td>\n",
              "      <td>412610800</td>\n",
              "    </tr>\n",
              "    <tr>\n",
              "      <th>2014-01-07</th>\n",
              "      <td>19.440001</td>\n",
              "      <td>19.498571</td>\n",
              "      <td>19.211430</td>\n",
              "      <td>19.287144</td>\n",
              "      <td>16.931154</td>\n",
              "      <td>317209200</td>\n",
              "    </tr>\n",
              "    <tr>\n",
              "      <th>2014-01-08</th>\n",
              "      <td>19.243214</td>\n",
              "      <td>19.484285</td>\n",
              "      <td>19.238930</td>\n",
              "      <td>19.409286</td>\n",
              "      <td>17.038382</td>\n",
              "      <td>258529600</td>\n",
              "    </tr>\n",
              "  </tbody>\n",
              "</table>\n",
              "</div>"
            ],
            "text/plain": [
              "                 Open       High        Low      Close  Adj Close     Volume\n",
              "Date                                                                        \n",
              "2014-01-02  19.845715  19.893929  19.715000  19.754642  17.341539  234684800\n",
              "2014-01-03  19.745001  19.775000  19.301071  19.320715  16.960629  392467600\n",
              "2014-01-06  19.194643  19.528570  19.057142  19.426071  17.053102  412610800\n",
              "2014-01-07  19.440001  19.498571  19.211430  19.287144  16.931154  317209200\n",
              "2014-01-08  19.243214  19.484285  19.238930  19.409286  17.038382  258529600"
            ]
          },
          "execution_count": 24,
          "metadata": {},
          "output_type": "execute_result"
        }
      ],
      "source": [
        "import yfinance as yf\n",
        "from datetime import datetime\n",
        "\n",
        "start = datetime(2014, 1, 1)\n",
        "end = datetime(2018, 1, 1)\n",
        "\n",
        "df = yf.download(\"AAPL\", start=start, end=end)\n",
        "df.head()\n"
      ]
    },
    {
      "cell_type": "markdown",
      "metadata": {},
      "source": [
        "## 5. quandl \n",
        "\n",
        "For this one you need to sign up and is very limited."
      ]
    },
    {
      "cell_type": "code",
      "execution_count": 25,
      "metadata": {},
      "outputs": [],
      "source": [
        "# import needed libraries\n",
        "import quandl"
      ]
    },
    {
      "cell_type": "code",
      "execution_count": 26,
      "metadata": {
        "collapsed": false,
        "inputHidden": false,
        "outputHidden": false
      },
      "outputs": [
        {
          "ename": "AuthenticationError",
          "evalue": "(Status 400) (Quandl Error QEAx01) We could not recognize your API key: .... Please check your API key and try again. You can find your API key under your account settings.",
          "output_type": "error",
          "traceback": [
            "\u001b[0;31m---------------------------------------------------------------------------\u001b[0m",
            "\u001b[0;31mAuthenticationError\u001b[0m                       Traceback (most recent call last)",
            "Cell \u001b[0;32mIn[26], line 2\u001b[0m\n\u001b[1;32m      1\u001b[0m token \u001b[39m=\u001b[39m \u001b[39m\"\u001b[39m\u001b[39m...\u001b[39m\u001b[39m\"\u001b[39m \u001b[39m# Input your token ...\u001b[39;00m\n\u001b[0;32m----> 2\u001b[0m data \u001b[39m=\u001b[39m quandl\u001b[39m.\u001b[39;49mget(\u001b[39m\"\u001b[39;49m\u001b[39mWIKI/AAPL\u001b[39;49m\u001b[39m\"\u001b[39;49m, start_date\u001b[39m=\u001b[39;49m\u001b[39m\"\u001b[39;49m\u001b[39m2014-01-01\u001b[39;49m\u001b[39m\"\u001b[39;49m, end_date\u001b[39m=\u001b[39;49m\u001b[39m\"\u001b[39;49m\u001b[39m2018-01-01\u001b[39;49m\u001b[39m\"\u001b[39;49m, api_key\u001b[39m=\u001b[39;49mtoken)\n",
            "File \u001b[0;32m~/anaconda3/envs/ml/lib/python3.9/site-packages/quandl/get.py:48\u001b[0m, in \u001b[0;36mget\u001b[0;34m(dataset, **kwargs)\u001b[0m\n\u001b[1;32m     46\u001b[0m     \u001b[39mif\u001b[39;00m dataset_args[\u001b[39m'\u001b[39m\u001b[39mcolumn_index\u001b[39m\u001b[39m'\u001b[39m] \u001b[39mis\u001b[39;00m \u001b[39mnot\u001b[39;00m \u001b[39mNone\u001b[39;00m:\n\u001b[1;32m     47\u001b[0m         kwargs\u001b[39m.\u001b[39mupdate({\u001b[39m'\u001b[39m\u001b[39mcolumn_index\u001b[39m\u001b[39m'\u001b[39m: dataset_args[\u001b[39m'\u001b[39m\u001b[39mcolumn_index\u001b[39m\u001b[39m'\u001b[39m]})\n\u001b[0;32m---> 48\u001b[0m     data \u001b[39m=\u001b[39m Dataset(dataset_args[\u001b[39m'\u001b[39;49m\u001b[39mcode\u001b[39;49m\u001b[39m'\u001b[39;49m])\u001b[39m.\u001b[39;49mdata(params\u001b[39m=\u001b[39;49mkwargs, handle_column_not_found\u001b[39m=\u001b[39;49m\u001b[39mTrue\u001b[39;49;00m)\n\u001b[1;32m     49\u001b[0m \u001b[39m# Array\u001b[39;00m\n\u001b[1;32m     50\u001b[0m \u001b[39melif\u001b[39;00m \u001b[39misinstance\u001b[39m(dataset, \u001b[39mlist\u001b[39m):\n",
            "File \u001b[0;32m~/anaconda3/envs/ml/lib/python3.9/site-packages/quandl/model/dataset.py:47\u001b[0m, in \u001b[0;36mDataset.data\u001b[0;34m(self, **options)\u001b[0m\n\u001b[1;32m     45\u001b[0m updated_options \u001b[39m=\u001b[39m Util\u001b[39m.\u001b[39mmerge_options(\u001b[39m'\u001b[39m\u001b[39mparams\u001b[39m\u001b[39m'\u001b[39m, params, \u001b[39m*\u001b[39m\u001b[39m*\u001b[39moptions)\n\u001b[1;32m     46\u001b[0m \u001b[39mtry\u001b[39;00m:\n\u001b[0;32m---> 47\u001b[0m     \u001b[39mreturn\u001b[39;00m Data\u001b[39m.\u001b[39;49mall(\u001b[39m*\u001b[39;49m\u001b[39m*\u001b[39;49mupdated_options)\n\u001b[1;32m     48\u001b[0m \u001b[39mexcept\u001b[39;00m NotFoundError:\n\u001b[1;32m     49\u001b[0m     \u001b[39mif\u001b[39;00m handle_not_found_error:\n",
            "File \u001b[0;32m~/anaconda3/envs/ml/lib/python3.9/site-packages/quandl/operations/list.py:15\u001b[0m, in \u001b[0;36mListOperation.all\u001b[0;34m(cls, **options)\u001b[0m\n\u001b[1;32m     13\u001b[0m     options[\u001b[39m'\u001b[39m\u001b[39mparams\u001b[39m\u001b[39m'\u001b[39m] \u001b[39m=\u001b[39m {}\n\u001b[1;32m     14\u001b[0m path \u001b[39m=\u001b[39m Util\u001b[39m.\u001b[39mconstructed_path(\u001b[39mcls\u001b[39m\u001b[39m.\u001b[39mlist_path(), options[\u001b[39m'\u001b[39m\u001b[39mparams\u001b[39m\u001b[39m'\u001b[39m])\n\u001b[0;32m---> 15\u001b[0m r \u001b[39m=\u001b[39m Connection\u001b[39m.\u001b[39;49mrequest(\u001b[39m'\u001b[39;49m\u001b[39mget\u001b[39;49m\u001b[39m'\u001b[39;49m, path, \u001b[39m*\u001b[39;49m\u001b[39m*\u001b[39;49moptions)\n\u001b[1;32m     16\u001b[0m response_data \u001b[39m=\u001b[39m r\u001b[39m.\u001b[39mjson()\n\u001b[1;32m     17\u001b[0m Util\u001b[39m.\u001b[39mconvert_to_dates(response_data)\n",
            "File \u001b[0;32m~/anaconda3/envs/ml/lib/python3.9/site-packages/quandl/connection.py:38\u001b[0m, in \u001b[0;36mConnection.request\u001b[0;34m(cls, http_verb, url, **options)\u001b[0m\n\u001b[1;32m     34\u001b[0m options[\u001b[39m'\u001b[39m\u001b[39mheaders\u001b[39m\u001b[39m'\u001b[39m] \u001b[39m=\u001b[39m headers\n\u001b[1;32m     36\u001b[0m abs_url \u001b[39m=\u001b[39m \u001b[39m'\u001b[39m\u001b[39m%s\u001b[39;00m\u001b[39m/\u001b[39m\u001b[39m%s\u001b[39;00m\u001b[39m'\u001b[39m \u001b[39m%\u001b[39m (ApiConfig\u001b[39m.\u001b[39mapi_base, url)\n\u001b[0;32m---> 38\u001b[0m \u001b[39mreturn\u001b[39;00m \u001b[39mcls\u001b[39;49m\u001b[39m.\u001b[39;49mexecute_request(http_verb, abs_url, \u001b[39m*\u001b[39;49m\u001b[39m*\u001b[39;49moptions)\n",
            "File \u001b[0;32m~/anaconda3/envs/ml/lib/python3.9/site-packages/quandl/connection.py:50\u001b[0m, in \u001b[0;36mConnection.execute_request\u001b[0;34m(cls, http_verb, url, **options)\u001b[0m\n\u001b[1;32m     45\u001b[0m response \u001b[39m=\u001b[39m session\u001b[39m.\u001b[39mrequest(method\u001b[39m=\u001b[39mhttp_verb,\n\u001b[1;32m     46\u001b[0m                            url\u001b[39m=\u001b[39murl,\n\u001b[1;32m     47\u001b[0m                            verify\u001b[39m=\u001b[39mApiConfig\u001b[39m.\u001b[39mverify_ssl,\n\u001b[1;32m     48\u001b[0m                            \u001b[39m*\u001b[39m\u001b[39m*\u001b[39moptions)\n\u001b[1;32m     49\u001b[0m \u001b[39mif\u001b[39;00m response\u001b[39m.\u001b[39mstatus_code \u001b[39m<\u001b[39m \u001b[39m200\u001b[39m \u001b[39mor\u001b[39;00m response\u001b[39m.\u001b[39mstatus_code \u001b[39m>\u001b[39m\u001b[39m=\u001b[39m \u001b[39m300\u001b[39m:\n\u001b[0;32m---> 50\u001b[0m     \u001b[39mcls\u001b[39;49m\u001b[39m.\u001b[39;49mhandle_api_error(response)\n\u001b[1;32m     51\u001b[0m \u001b[39melse\u001b[39;00m:\n\u001b[1;32m     52\u001b[0m     \u001b[39mreturn\u001b[39;00m response\n",
            "File \u001b[0;32m~/anaconda3/envs/ml/lib/python3.9/site-packages/quandl/connection.py:114\u001b[0m, in \u001b[0;36mConnection.handle_api_error\u001b[0;34m(cls, resp)\u001b[0m\n\u001b[1;32m    103\u001b[0m d_klass \u001b[39m=\u001b[39m {\n\u001b[1;32m    104\u001b[0m     \u001b[39m'\u001b[39m\u001b[39mL\u001b[39m\u001b[39m'\u001b[39m: LimitExceededError,\n\u001b[1;32m    105\u001b[0m     \u001b[39m'\u001b[39m\u001b[39mM\u001b[39m\u001b[39m'\u001b[39m: InternalServerError,\n\u001b[0;32m   (...)\u001b[0m\n\u001b[1;32m    110\u001b[0m     \u001b[39m'\u001b[39m\u001b[39mX\u001b[39m\u001b[39m'\u001b[39m: ServiceUnavailableError\n\u001b[1;32m    111\u001b[0m }\n\u001b[1;32m    112\u001b[0m klass \u001b[39m=\u001b[39m d_klass\u001b[39m.\u001b[39mget(code_letter, QuandlError)\n\u001b[0;32m--> 114\u001b[0m \u001b[39mraise\u001b[39;00m klass(message, resp\u001b[39m.\u001b[39mstatus_code, resp\u001b[39m.\u001b[39mtext, resp\u001b[39m.\u001b[39mheaders, code)\n",
            "\u001b[0;31mAuthenticationError\u001b[0m: (Status 400) (Quandl Error QEAx01) We could not recognize your API key: .... Please check your API key and try again. You can find your API key under your account settings."
          ]
        }
      ],
      "source": [
        "token = \"...\" # Input your token ...\n",
        "data = quandl.get(\"WIKI/AAPL\", start_date=\"2014-01-01\", end_date=\"2018-01-01\", api_key=token)"
      ]
    },
    {
      "cell_type": "markdown",
      "metadata": {},
      "source": [
        "## 5. Yahoo, Google, or other sites (download csv)\n",
        "This one has historical data and economic data.\n",
        "\n",
        "For example: https://finance.yahoo.com/quote/AAPL/history?p=AAPL\n",
        "\n",
        "You should see: Download Data and click that icon. "
      ]
    },
    {
      "cell_type": "code",
      "execution_count": null,
      "metadata": {
        "collapsed": false,
        "inputHidden": false,
        "outputHidden": false
      },
      "outputs": [],
      "source": [
        "aapl.to_csv('aapl.csv') # Make sure you have the right directory path\n",
        "df = pd.read_csv('aapl.csv', header=0, index_col='Date', parse_dates=True)"
      ]
    },
    {
      "cell_type": "markdown",
      "metadata": {},
      "source": [
        "## 6. yahoo-finance\n",
        "\n",
        "https://github.com/lukaszbanasiak/yahoo-finance"
      ]
    },
    {
      "cell_type": "code",
      "execution_count": null,
      "metadata": {
        "collapsed": false,
        "inputHidden": false,
        "outputHidden": false
      },
      "outputs": [],
      "source": [
        "from yahoo_finance import Share"
      ]
    },
    {
      "cell_type": "code",
      "execution_count": null,
      "metadata": {
        "collapsed": false,
        "inputHidden": false,
        "outputHidden": false
      },
      "outputs": [],
      "source": [
        "data = Share('AAPL')\n",
        "print(data.get_open())\n",
        "print(data.get_price())"
      ]
    },
    {
      "cell_type": "code",
      "execution_count": null,
      "metadata": {
        "collapsed": false,
        "inputHidden": false,
        "outputHidden": false
      },
      "outputs": [],
      "source": [
        "# Get Historical Data\n",
        "# This one does not show nice dataframe\n",
        "print(data.get_historical('2014-01-01', '2018-01-01'))"
      ]
    },
    {
      "cell_type": "markdown",
      "metadata": {},
      "source": [
        "## 7. Macrotrends\n",
        "\n",
        "Scrape Data\n",
        "\n",
        "https://www.macrotrends.net/"
      ]
    },
    {
      "cell_type": "code",
      "execution_count": null,
      "metadata": {
        "collapsed": false,
        "inputHidden": false,
        "outputHidden": false
      },
      "outputs": [],
      "source": [
        "symbol = 'AAPL'\n",
        "url = 'https://www.macrotrends.net/assets/php/stock_data_export.php?t=' + symbol\n",
        "stock_price = pd.read_csv(url, skiprows=10)"
      ]
    },
    {
      "cell_type": "code",
      "execution_count": null,
      "metadata": {
        "collapsed": false,
        "inputHidden": false,
        "outputHidden": false
      },
      "outputs": [
        {
          "data": {
            "text/html": [
              "<div>\n",
              "<style scoped>\n",
              "    .dataframe tbody tr th:only-of-type {\n",
              "        vertical-align: middle;\n",
              "    }\n",
              "\n",
              "    .dataframe tbody tr th {\n",
              "        vertical-align: top;\n",
              "    }\n",
              "\n",
              "    .dataframe thead th {\n",
              "        text-align: right;\n",
              "    }\n",
              "</style>\n",
              "<table border=\"1\" class=\"dataframe\">\n",
              "  <thead>\n",
              "    <tr style=\"text-align: right;\">\n",
              "      <th></th>\n",
              "      <th>date</th>\n",
              "      <th>open</th>\n",
              "      <th>high</th>\n",
              "      <th>low</th>\n",
              "      <th>close</th>\n",
              "      <th>volume</th>\n",
              "    </tr>\n",
              "  </thead>\n",
              "  <tbody>\n",
              "    <tr>\n",
              "      <th>0</th>\n",
              "      <td>1980-12-12</td>\n",
              "      <td>0.4164</td>\n",
              "      <td>0.4182</td>\n",
              "      <td>0.4164</td>\n",
              "      <td>0.4164</td>\n",
              "      <td>117258400</td>\n",
              "    </tr>\n",
              "    <tr>\n",
              "      <th>1</th>\n",
              "      <td>1980-12-15</td>\n",
              "      <td>0.3966</td>\n",
              "      <td>0.3966</td>\n",
              "      <td>0.3947</td>\n",
              "      <td>0.3947</td>\n",
              "      <td>43971200</td>\n",
              "    </tr>\n",
              "    <tr>\n",
              "      <th>2</th>\n",
              "      <td>1980-12-16</td>\n",
              "      <td>0.3675</td>\n",
              "      <td>0.3675</td>\n",
              "      <td>0.3657</td>\n",
              "      <td>0.3657</td>\n",
              "      <td>26432000</td>\n",
              "    </tr>\n",
              "    <tr>\n",
              "      <th>3</th>\n",
              "      <td>1980-12-17</td>\n",
              "      <td>0.3747</td>\n",
              "      <td>0.3766</td>\n",
              "      <td>0.3747</td>\n",
              "      <td>0.3747</td>\n",
              "      <td>21610400</td>\n",
              "    </tr>\n",
              "    <tr>\n",
              "      <th>4</th>\n",
              "      <td>1980-12-18</td>\n",
              "      <td>0.3857</td>\n",
              "      <td>0.3874</td>\n",
              "      <td>0.3857</td>\n",
              "      <td>0.3857</td>\n",
              "      <td>18362400</td>\n",
              "    </tr>\n",
              "  </tbody>\n",
              "</table>\n",
              "</div>"
            ],
            "text/plain": [
              "         date    open    high     low   close     volume\n",
              "0  1980-12-12  0.4164  0.4182  0.4164  0.4164  117258400\n",
              "1  1980-12-15  0.3966  0.3966  0.3947  0.3947   43971200\n",
              "2  1980-12-16  0.3675  0.3675  0.3657  0.3657   26432000\n",
              "3  1980-12-17  0.3747  0.3766  0.3747  0.3747   21610400\n",
              "4  1980-12-18  0.3857  0.3874  0.3857  0.3857   18362400"
            ]
          },
          "execution_count": 10,
          "metadata": {},
          "output_type": "execute_result"
        }
      ],
      "source": [
        "stock_price.head()"
      ]
    },
    {
      "cell_type": "markdown",
      "metadata": {},
      "source": [
        "## 8. eoddata-client\n",
        "\n",
        "This one is not free. You will need to paid for the service.\n",
        "\n",
        "https://github.com/apologist/eoddata-client\n",
        "\n",
        "http://eoddata.com/"
      ]
    },
    {
      "cell_type": "code",
      "execution_count": null,
      "metadata": {
        "collapsed": false,
        "inputHidden": false,
        "outputHidden": false
      },
      "outputs": [],
      "source": [
        "import os\n",
        "\n",
        "from eoddata_client import EodDataHttpClient\n",
        "\n",
        "client = EodDataHttpClient(os.environ['EOD_DATA_LOGIN'],\n",
        "                           os.environ['EOD_DATA_PASSWORD'])\n",
        "\n",
        "quotes = client.symbol_history('nasdaq', 'aapl', datetime.date(2014, 1, 1))\n",
        "quotes['Diff'] = quotes['Close'].shift(1) - quotes['Close']\n",
        "print(quotes.tail())"
      ]
    },
    {
      "cell_type": "markdown",
      "metadata": {},
      "source": [
        "## 9. yahoo-historical\n",
        "\n",
        "https://pypi.org/project/yahoo-historical/"
      ]
    },
    {
      "cell_type": "code",
      "execution_count": null,
      "metadata": {},
      "outputs": [],
      "source": [
        "from yahoo_historical import Fetcher\n",
        "data = Fetcher(\"AAPL\", [2014,1,1], [2018,1,1])\n",
        "print(data.getHistorical())"
      ]
    },
    {
      "cell_type": "markdown",
      "metadata": {},
      "source": [
        "## 10. yahoofinancials\n",
        "\n",
        "This one is to get fundamental data.\n",
        "\n",
        "https://github.com/JECSand/yahoofinancials"
      ]
    },
    {
      "cell_type": "code",
      "execution_count": null,
      "metadata": {},
      "outputs": [],
      "source": [
        "from yahoofinancials import YahooFinancials\n",
        "\n",
        "ticker = 'AAPL'\n",
        "yahoo_financials = YahooFinancials(ticker)"
      ]
    },
    {
      "cell_type": "markdown",
      "metadata": {},
      "source": [
        "## 11. pandas-finance"
      ]
    },
    {
      "cell_type": "markdown",
      "metadata": {},
      "source": [
        "https://github.com/davidastephens/pandas-finance"
      ]
    },
    {
      "cell_type": "code",
      "execution_count": null,
      "metadata": {
        "collapsed": false,
        "inputHidden": false,
        "outputHidden": false
      },
      "outputs": [],
      "source": [
        "from pandas_finance import Equity\n",
        "aapl = Equity('AAPL')\n",
        "aapl.annual_dividend\n",
        "aapl.dividend_yield\n",
        "aapl.price\n",
        "aapl.options\n",
        "aapl.hist_vol(30)\n",
        "aapl.rolling_hist_vol(30)"
      ]
    },
    {
      "cell_type": "markdown",
      "metadata": {},
      "source": [
        "## 12. FinanceDataReader"
      ]
    },
    {
      "cell_type": "markdown",
      "metadata": {},
      "source": [
        "https://github.com/FinanceData/FinanceDataReader"
      ]
    },
    {
      "cell_type": "code",
      "execution_count": null,
      "metadata": {
        "collapsed": false,
        "inputHidden": false,
        "outputHidden": false
      },
      "outputs": [],
      "source": [
        "import FinanceDataReader as fdr\n",
        "\n",
        "# Apple(AAPL), 2017-01-01 ~ Now\n",
        "df = fdr.DataReader('AAPL', '2017')\n",
        "\n",
        "# AMAZON(AMZN), 2017\n",
        "df = fdr.DataReader('AMZN', '2017-01-01', '2017-12-31')"
      ]
    },
    {
      "cell_type": "markdown",
      "metadata": {},
      "source": [
        "# If there are more places you can download historical data, I will add more. Let me know. Email me please."
      ]
    }
  ],
  "metadata": {
    "kernel_info": {
      "name": "python3"
    },
    "kernelspec": {
      "display_name": "Python 3",
      "language": "python",
      "name": "python3"
    },
    "language_info": {
      "codemirror_mode": {
        "name": "ipython",
        "version": 3
      },
      "file_extension": ".py",
      "mimetype": "text/x-python",
      "name": "python",
      "nbconvert_exporter": "python",
      "pygments_lexer": "ipython3",
      "version": "3.9.17"
    },
    "nteract": {
      "version": "0.12.2"
    }
  },
  "nbformat": 4,
  "nbformat_minor": 4
}
