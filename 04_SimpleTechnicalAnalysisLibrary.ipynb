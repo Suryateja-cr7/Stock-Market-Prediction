{
  "cells": [
    {
      "cell_type": "markdown",
      "source": [
        "# List Technical Analysis Library"
      ],
      "metadata": {}
    },
    {
      "cell_type": "markdown",
      "source": [
        "Here the list of technical analysis library. It is very simple to use and you do not need to write on your own when you can use these libraries.\n",
        "\nThank you for these people that wrote the library for people to use."
      ],
      "metadata": {}
    },
    {
      "cell_type": "markdown",
      "source": [
        "## 1. ta-lib \n",
        "Most common library for Technical Analysis\n",
        "\n",
        "http://mrjbq7.github.io/ta-lib/\n",
        "\nhttps://github.com/mrjbq7/ta-lib"
      ],
      "metadata": {}
    },
    {
      "cell_type": "markdown",
      "source": [
        "## 2. ta (Technical Analysis Library in Python)\n",
        "\n",
        "https://github.com/bukosabino/ta\n",
        "\nhttps://technical-analysis-library-in-python.readthedocs.io/en/latest/"
      ],
      "metadata": {}
    },
    {
      "cell_type": "markdown",
      "source": [
        "## 3. pyti\n",
        "\nhttps://github.com/kylejusticemagnuson/pyti"
      ],
      "metadata": {}
    },
    {
      "cell_type": "markdown",
      "source": [
        "## 4. finta FinTA (Financial Technical Analysis)\n",
        "\nhttps://github.com/peerchemist/finta"
      ],
      "metadata": {}
    },
    {
      "cell_type": "markdown",
      "source": [
        "## 5. stockstats\n",
        "\nhttps://github.com/jealous/stockstats"
      ],
      "metadata": {}
    },
    {
      "cell_type": "markdown",
      "source": [
        "There are more libraries out there but these five libraries have the most stars and many people use them. Other libraries, people still working on it or is a fail library.\n",
        "\nIf there are more libraries out there and is a pass, I will add more."
      ],
      "metadata": {}
    }
  ],
  "metadata": {
    "kernel_info": {
      "name": "python3"
    },
    "language_info": {
      "name": "python",
      "codemirror_mode": {
        "name": "ipython",
        "version": 3
      },
      "pygments_lexer": "ipython3",
      "version": "3.5.5",
      "file_extension": ".py",
      "nbconvert_exporter": "python",
      "mimetype": "text/x-python"
    },
    "kernelspec": {
      "name": "python3",
      "language": "python",
      "display_name": "Python 3"
    },
    "nteract": {
      "version": "0.12.2"
    }
  },
  "nbformat": 4,
  "nbformat_minor": 4
}
