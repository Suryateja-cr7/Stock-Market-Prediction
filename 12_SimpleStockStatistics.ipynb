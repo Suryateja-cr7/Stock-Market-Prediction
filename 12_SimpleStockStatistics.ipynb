{
  "cells": [
    {
      "cell_type": "markdown",
      "source": [
        "# Simple Stock Statistics "
      ],
      "metadata": {}
    },
    {
      "cell_type": "markdown",
      "source": [
        "Statistics is a mathematics that deals with data collection, organization, analysis, interpretation and presentation. In addition, statistical analysis use probabilities. \n",
        "\n\n",
        "Stock price in statistics give the probability of rising or falling.\n",
        "\nApplied stock to statistics."
      ],
      "metadata": {}
    },
    {
      "cell_type": "markdown",
      "source": [
        "## Packages Libraries"
      ],
      "metadata": {}
    },
    {
      "cell_type": "code",
      "source": [
        "import numpy as np\n",
        "import matplotlib.pyplot as plt\n",
        "import seaborn as sns\n",
        "import pandas as pd\n",
        "\n",
        "import math\n",
        "from scipy.stats import norm\n",
        "\n",
        "import warnings\n",
        "warnings.filterwarnings(\"ignore\") \n",
        "\n",
        "# fix_yahoo_finance is used to fetch data \n",
        "import fix_yahoo_finance as yf\n",
        "yf.pdr_override()"
      ],
      "outputs": [],
      "execution_count": 1,
      "metadata": {
        "collapsed": false,
        "outputHidden": false,
        "inputHidden": false
      }
    },
    {
      "cell_type": "markdown",
      "source": [
        "## Input Stock Symbol and Date"
      ],
      "metadata": {}
    },
    {
      "cell_type": "code",
      "source": [
        "# input\n",
        "symbol = 'AAPL'\n",
        "start = '2014-01-01'\n",
        "end = '2019-01-01'\n",
        "\n",
        "# Read data \n",
        "dataset = yf.download(symbol,start,end)\n",
        "\n",
        "# View Columns\n",
        "dataset.head()"
      ],
      "outputs": [
        {
          "output_type": "stream",
          "name": "stdout",
          "text": [
            "[*********************100%***********************]  1 of 1 downloaded\n"
          ]
        },
        {
          "output_type": "execute_result",
          "execution_count": 2,
          "data": {
            "text/plain": [
              "                 Open       High        Low      Close  Adj Close     Volume\n",
              "Date                                                                        \n",
              "2014-01-02  79.382858  79.575714  78.860001  79.018570  66.964325   58671200\n",
              "2014-01-03  78.980003  79.099998  77.204285  77.282860  65.493416   98116900\n",
              "2014-01-06  76.778572  78.114288  76.228569  77.704285  65.850533  103152700\n",
              "2014-01-07  77.760002  77.994286  76.845711  77.148575  65.379593   79302300\n",
              "2014-01-08  76.972855  77.937141  76.955711  77.637146  65.793633   64632400"
            ],
            "text/html": [
              "<div>\n",
              "<style scoped>\n",
              "    .dataframe tbody tr th:only-of-type {\n",
              "        vertical-align: middle;\n",
              "    }\n",
              "\n",
              "    .dataframe tbody tr th {\n",
              "        vertical-align: top;\n",
              "    }\n",
              "\n",
              "    .dataframe thead th {\n",
              "        text-align: right;\n",
              "    }\n",
              "</style>\n",
              "<table border=\"1\" class=\"dataframe\">\n",
              "  <thead>\n",
              "    <tr style=\"text-align: right;\">\n",
              "      <th></th>\n",
              "      <th>Open</th>\n",
              "      <th>High</th>\n",
              "      <th>Low</th>\n",
              "      <th>Close</th>\n",
              "      <th>Adj Close</th>\n",
              "      <th>Volume</th>\n",
              "    </tr>\n",
              "    <tr>\n",
              "      <th>Date</th>\n",
              "      <th></th>\n",
              "      <th></th>\n",
              "      <th></th>\n",
              "      <th></th>\n",
              "      <th></th>\n",
              "      <th></th>\n",
              "    </tr>\n",
              "  </thead>\n",
              "  <tbody>\n",
              "    <tr>\n",
              "      <th>2014-01-02</th>\n",
              "      <td>79.382858</td>\n",
              "      <td>79.575714</td>\n",
              "      <td>78.860001</td>\n",
              "      <td>79.018570</td>\n",
              "      <td>66.964325</td>\n",
              "      <td>58671200</td>\n",
              "    </tr>\n",
              "    <tr>\n",
              "      <th>2014-01-03</th>\n",
              "      <td>78.980003</td>\n",
              "      <td>79.099998</td>\n",
              "      <td>77.204285</td>\n",
              "      <td>77.282860</td>\n",
              "      <td>65.493416</td>\n",
              "      <td>98116900</td>\n",
              "    </tr>\n",
              "    <tr>\n",
              "      <th>2014-01-06</th>\n",
              "      <td>76.778572</td>\n",
              "      <td>78.114288</td>\n",
              "      <td>76.228569</td>\n",
              "      <td>77.704285</td>\n",
              "      <td>65.850533</td>\n",
              "      <td>103152700</td>\n",
              "    </tr>\n",
              "    <tr>\n",
              "      <th>2014-01-07</th>\n",
              "      <td>77.760002</td>\n",
              "      <td>77.994286</td>\n",
              "      <td>76.845711</td>\n",
              "      <td>77.148575</td>\n",
              "      <td>65.379593</td>\n",
              "      <td>79302300</td>\n",
              "    </tr>\n",
              "    <tr>\n",
              "      <th>2014-01-08</th>\n",
              "      <td>76.972855</td>\n",
              "      <td>77.937141</td>\n",
              "      <td>76.955711</td>\n",
              "      <td>77.637146</td>\n",
              "      <td>65.793633</td>\n",
              "      <td>64632400</td>\n",
              "    </tr>\n",
              "  </tbody>\n",
              "</table>\n",
              "</div>"
            ]
          },
          "metadata": {}
        }
      ],
      "execution_count": 2,
      "metadata": {
        "collapsed": false,
        "outputHidden": false,
        "inputHidden": false
      }
    },
    {
      "cell_type": "markdown",
      "source": [
        "## Stock Data Analysis"
      ],
      "metadata": {}
    },
    {
      "cell_type": "code",
      "source": [
        "print(\"__________________Exploratory Data Analysis__________________\")\n",
        "print(\"Stock Data\")\n",
        "print('-'*60)\n",
        "print(\"Dataset information\") \n",
        "print(dataset.info(memory_usage='deep',verbose=False))\n",
        "print('-'*60)\n",
        "print(dataset.info())\n",
        "print('-'*60)\n",
        "print(\"Data type:\")\n",
        "print(dataset.dtypes)\n",
        "print('-'*60)\n",
        "print(\"Check unique values wihtout NaN\")\n",
        "print(dataset.nunique())\n",
        "print('-'*60)\n",
        "print(\"Data shape:\")\n",
        "print(dataset.shape)\n",
        "print('-'*60)\n",
        "print(\"Data columns Names:\")\n",
        "print(dataset.columns)\n",
        "print('-'*60)\n",
        "print(\"Check for NaNs:\")\n",
        "print(dataset.isnull().values.any())\n",
        "print('-'*60)\n",
        "print(\"Data Statistics Summary:\")\n",
        "print(dataset.describe())"
      ],
      "outputs": [
        {
          "output_type": "stream",
          "name": "stdout",
          "text": [
            "__________________Exploratory Data Analysis__________________\n",
            "Stock Data\n",
            "------------------------------------------------------------\n",
            "Dataset information\n",
            "<class 'pandas.core.frame.DataFrame'>\n",
            "DatetimeIndex: 1258 entries, 2014-01-02 to 2018-12-31\n",
            "Columns: 6 entries, Open to Volume\n",
            "dtypes: float64(5), int32(1)\n",
            "memory usage: 63.9 KB\n",
            "None\n",
            "------------------------------------------------------------\n",
            "<class 'pandas.core.frame.DataFrame'>\n",
            "DatetimeIndex: 1258 entries, 2014-01-02 to 2018-12-31\n",
            "Data columns (total 6 columns):\n",
            "Open         1258 non-null float64\n",
            "High         1258 non-null float64\n",
            "Low          1258 non-null float64\n",
            "Close        1258 non-null float64\n",
            "Adj Close    1258 non-null float64\n",
            "Volume       1258 non-null int32\n",
            "dtypes: float64(5), int32(1)\n",
            "memory usage: 63.9 KB\n",
            "None\n",
            "------------------------------------------------------------\n",
            "Data type:\n",
            "Open         float64\n",
            "High         float64\n",
            "Low          float64\n",
            "Close        float64\n",
            "Adj Close    float64\n",
            "Volume         int32\n",
            "dtype: object\n",
            "------------------------------------------------------------\n",
            "Check unique values wihtout NaN\n",
            "Open         1184\n",
            "High         1179\n",
            "Low          1180\n",
            "Close        1170\n",
            "Adj Close    1232\n",
            "Volume       1255\n",
            "dtype: int64\n",
            "------------------------------------------------------------\n",
            "Data shape:\n",
            "(1258, 6)\n",
            "------------------------------------------------------------\n",
            "Data columns Names:\n",
            "Index(['Open', 'High', 'Low', 'Close', 'Adj Close', 'Volume'], dtype='object')\n",
            "------------------------------------------------------------\n",
            "Check for NaNs:\n",
            "False\n",
            "------------------------------------------------------------\n",
            "Data Statistics Summary:\n",
            "              Open         High          Low        Close    Adj Close  \\\n",
            "count  1258.000000  1258.000000  1258.000000  1258.000000  1258.000000   \n",
            "mean    131.227685   132.355248   130.079289   131.241425   125.947447   \n",
            "std      37.428791    37.771772    37.064776    37.414122    39.320418   \n",
            "min      70.739998    71.647141    70.507141    71.397141    60.505547   \n",
            "25%     102.900000   104.374998   102.440003   103.037502    97.125576   \n",
            "50%     118.940002   119.889999   118.215000   119.180001   112.998409   \n",
            "75%     158.522499   159.990002   156.707500   157.830002   155.141937   \n",
            "max     230.779999   233.470001   229.779999   232.070007   230.275482   \n",
            "\n",
            "             Volume  \n",
            "count  1.258000e+03  \n",
            "mean   4.293058e+07  \n",
            "std    2.358262e+07  \n",
            "min    1.147590e+07  \n",
            "25%    2.660325e+07  \n",
            "50%    3.694200e+07  \n",
            "75%    5.234740e+07  \n",
            "max    2.663808e+08  \n"
          ]
        }
      ],
      "execution_count": 3,
      "metadata": {
        "collapsed": false,
        "outputHidden": false,
        "inputHidden": false
      }
    },
    {
      "cell_type": "markdown",
      "source": [
        "## Calculate Stock Daily Returns"
      ],
      "metadata": {}
    },
    {
      "cell_type": "code",
      "source": [
        "# Create Log Returns\n",
        "dataset['Log_Returns'] = np.log(dataset['Adj Close'].shift(-1)) - np.log(dataset['Adj Close'])"
      ],
      "outputs": [],
      "execution_count": 4,
      "metadata": {
        "collapsed": false,
        "outputHidden": false,
        "inputHidden": false
      }
    },
    {
      "cell_type": "markdown",
      "source": [
        "## Histogram of Log Returns"
      ],
      "metadata": {}
    },
    {
      "cell_type": "code",
      "source": [
        "mu = dataset['Log_Returns'].mean()\n",
        "sigma = dataset['Log_Returns'].std(ddof=1)\n",
        "\n",
        "density = pd.DataFrame()\n",
        "density['x'] = np.arange(dataset['Log_Returns'].min()-0.01, dataset['Log_Returns'].max()+0.01, 0.001)\n",
        "density['pdf'] = norm.pdf(density['x'], mu, sigma)\n",
        "\n",
        "dataset['Log_Returns'].hist(bins=50, figsize=(15, 8))\n",
        "plt.plot(density['x'], density['pdf'], color='red')\n",
        "plt.show()"
      ],
      "outputs": [
        {
          "output_type": "display_data",
          "data": {
            "text/plain": [
              "<Figure size 1080x576 with 1 Axes>"
            ],
            "image/png": "[encoded data removed]"
          },
          "metadata": {}
        }
      ],
      "execution_count": 5,
      "metadata": {}
    },
    {
      "cell_type": "code",
      "source": [
        "# Log return goes up and down during the period\n",
        "dataset['Log_Returns'].plot(figsize=(20, 8))\n",
        "plt.title(\"Stock Log Returns\")\n",
        "plt.axhline(0, color='red')\n",
        "plt.ylabel('Log Returns')\n",
        "plt.show()"
      ],
      "outputs": [
        {
          "output_type": "display_data",
          "data": {
            "text/plain": [
              "<Figure size 1440x576 with 1 Axes>"
            ],
            "image/png": "[encoded data removed]"
          },
          "metadata": {}
        }
      ],
      "execution_count": 6,
      "metadata": {
        "collapsed": false,
        "outputHidden": false,
        "inputHidden": false
      }
    },
    {
      "cell_type": "markdown",
      "source": [
        "## Calculate the probability of the stock price will drop over a certain percentage in a day"
      ],
      "metadata": {}
    },
    {
      "cell_type": "code",
      "source": [
        "drops = [-0.01, -0.05, -0.10, -0.15, -0.20, -0.25, -0.30, -0.35, -0.40, -0.45, -0.50]\n",
        "for d in drops:\n",
        "    prob_returns = norm.cdf(d, mu, sigma)\n",
        "    print('The Probability of', d, 'is', prob_returns)"
      ],
      "outputs": [
        {
          "output_type": "stream",
          "name": "stdout",
          "text": [
            "The Probability of -0.01 is 0.240442527847\n",
            "The Probability of -0.05 is 0.000410935787335\n",
            "The Probability of -0.1 is 1.50711215759e-11\n",
            "The Probability of -0.15 is 1.30700421785e-23\n",
            "The Probability of -0.2 is 2.34866144412e-40\n",
            "The Probability of -0.25 is 8.34010885145e-62\n",
            "The Probability of -0.3 is 5.72414835482e-88\n",
            "The Probability of -0.35 is 7.50222945271e-119\n",
            "The Probability of -0.4 is 1.86396725051e-154\n",
            "The Probability of -0.45 is 8.73761235682e-195\n",
            "The Probability of -0.5 is 7.70262240044e-240\n"
          ]
        }
      ],
      "execution_count": 7,
      "metadata": {}
    },
    {
      "cell_type": "code",
      "source": [
        "prob_return = norm.cdf(-0.03, mu, sigma)\n",
        "print('The Probability is ', prob_return)"
      ],
      "outputs": [
        {
          "output_type": "stream",
          "name": "stdout",
          "text": [
            "The Probability is  0.0214285083264\n"
          ]
        }
      ],
      "execution_count": 8,
      "metadata": {
        "collapsed": false,
        "outputHidden": false,
        "inputHidden": false
      }
    },
    {
      "cell_type": "markdown",
      "source": [
        "## Calculate the probability of the stock price will drop over a certain percentage in a year"
      ],
      "metadata": {}
    },
    {
      "cell_type": "code",
      "source": [
        "# There are 252 trading days in a year\n",
        "# There are exactly 252 trading days in 2019. February has the fewest (19), and October the most (23), with an average of 21 per month, or 63 per quarter. Out of a possible 365 days, 104 days are weekend days (Saturday and Sunday) when the stock exchanges are closed.\n",
        "# drop over 40% in 220 days\n",
        "mu225 = 225*mu\n",
        "sigma225 = (225**0.5) * sigma\n",
        "print('The probability of dropping over 10% in 225 days is ', norm.cdf(-0.10, mu225, sigma225))"
      ],
      "outputs": [
        {
          "output_type": "stream",
          "name": "stdout",
          "text": [
            "The probability of dropping over 10% in 225 days is  0.133152331582\n"
          ]
        }
      ],
      "execution_count": 9,
      "metadata": {
        "collapsed": false,
        "outputHidden": false,
        "inputHidden": false
      }
    },
    {
      "cell_type": "code",
      "source": [
        "drops = [-0.01, -0.05, -0.10, -0.15, -0.20, -0.25, -0.30, -0.35, -0.40, -0.45, -0.50]\n",
        "for d in drops:\n",
        "    prob_returns = norm.cdf(d, mu225, sigma225)\n",
        "    print('The Probability of dropping over', d,'% in 225 days is', round(prob_returns, 5))"
      ],
      "outputs": [
        {
          "output_type": "stream",
          "name": "stdout",
          "text": [
            "The Probability of dropping over -0.01 % in 225 days is 0.23714\n",
            "The Probability of dropping over -0.05 % in 225 days is 0.18631\n",
            "The Probability of dropping over -0.1 % in 225 days is 0.13315\n",
            "The Probability of dropping over -0.15 % in 225 days is 0.09149\n",
            "The Probability of dropping over -0.2 % in 225 days is 0.06037\n",
            "The Probability of dropping over -0.25 % in 225 days is 0.03822\n",
            "The Probability of dropping over -0.3 % in 225 days is 0.0232\n",
            "The Probability of dropping over -0.35 % in 225 days is 0.01349\n",
            "The Probability of dropping over -0.4 % in 225 days is 0.00751\n",
            "The Probability of dropping over -0.45 % in 225 days is 0.004\n",
            "The Probability of dropping over -0.5 % in 225 days is 0.00204\n"
          ]
        }
      ],
      "execution_count": 10,
      "metadata": {
        "collapsed": false,
        "outputHidden": false,
        "inputHidden": false
      }
    },
    {
      "cell_type": "markdown",
      "source": [
        "## Calculate Value at Risk (VaR)"
      ],
      "metadata": {}
    },
    {
      "cell_type": "markdown",
      "source": [
        "Value at risk is a measurment of risk for loss of investment. On the other hand, it estimates how much of investments might lose in a normal market or any market conditions."
      ],
      "metadata": {}
    },
    {
      "cell_type": "code",
      "source": [
        "# Value at risk(VaR)\n",
        "VaR = norm.ppf(0.05, mu, sigma)\n",
        "print('Stock value at risk ', VaR)"
      ],
      "outputs": [
        {
          "output_type": "stream",
          "name": "stdout",
          "text": [
            "Stock value at risk  -0.0242396439117\n"
          ]
        }
      ],
      "execution_count": 11,
      "metadata": {}
    },
    {
      "cell_type": "markdown",
      "source": [
        "## Calculate Quantile"
      ],
      "metadata": {}
    },
    {
      "cell_type": "markdown",
      "source": [
        "Quantile is a probability that divides in the range of a probability distribution into continuous interval with equal probabilities. \n",
        "\n\nFor example, if we were to look at all of the closing prices for a specific stock for every day in the last year, the top 20% of those prices would represent the upper quintile of the data. The bottom 20% of those prices would represent the lower quintile of the data. There would be three quintiles in between the upper and lower quintiles. The average of all the stock prices typically falls between the second and fourth quintiles, which is the middle point of the data. https://www.investopedia.com/terms/q/quintile.asp"
      ],
      "metadata": {}
    },
    {
      "cell_type": "code",
      "source": [
        "# Quatile \n",
        "# 5% quantile\n",
        "print('5% quantile ', norm.ppf(0.05, mu, sigma))\n",
        "# 95% quantile\n",
        "print('95% quantile ', norm.ppf(0.95, mu, sigma))"
      ],
      "outputs": [
        {
          "output_type": "stream",
          "name": "stdout",
          "text": [
            "5% quantile  -0.0242396439117\n",
            "95% quantile  0.025596061538\n"
          ]
        }
      ],
      "execution_count": 12,
      "metadata": {}
    },
    {
      "cell_type": "code",
      "source": [
        "# Calcuate the 25% and 75% Quantile of the stock's returns\n",
        "# 25% quantile\n",
        "q25 = norm.ppf(0.25, mu, sigma)\n",
        "print('25% quantile ', q25)\n",
        "# 75% quantile\n",
        "q75 = norm.ppf(0.75, mu, sigma) \n",
        "print('75% quantile ', q75)"
      ],
      "outputs": [
        {
          "output_type": "stream",
          "name": "stdout",
          "text": [
            "25% quantile  -0.00953962211378\n",
            "75% quantile  0.0108960397402\n"
          ]
        }
      ],
      "execution_count": 13,
      "metadata": {
        "collapsed": false,
        "outputHidden": false,
        "inputHidden": false
      }
    },
    {
      "cell_type": "markdown",
      "source": [
        "## Statistical Hypothesis Tests"
      ],
      "metadata": {}
    },
    {
      "cell_type": "markdown",
      "source": [
        "Hypothesis test is a statistical method that is used to make statistical decisions for experimental data. In addition, is used for to compare two dataset. \n",
        "\n",
        "Statistical tests is used to check if the data has a Gaussian distribution or not\n",
        "\n",
        "Alpha or α: is the probability of rejecting the null hypothesis when it is true.\n",
        "\n",
        "P-values: the probability of obtaining an effect at least as extreme as the one in the sample data while assuming the truth of the null hypothesis.\n",
        "\n",
        "p-value <= alpha: reject H0, not normal.\n",
        "\np-value > alpha: fail to reject H0, normal."
      ],
      "metadata": {}
    },
    {
      "cell_type": "markdown",
      "source": [
        "## Calculate test Statistics"
      ],
      "metadata": {}
    },
    {
      "cell_type": "code",
      "source": [
        "# https://www.statisticshowto.datasciencecentral.com/standardized-test-statistic/\n",
        "mu = dataset['Log_Returns'].mean()\n",
        "sigma = dataset['Log_Returns'].std(ddof=1)\n",
        "n = dataset['Log_Returns'].shape[0]\n",
        "\n",
        "# if sample size n is large enough, we can use z-distribution, instead of t-distribtuion\n",
        "# mu = 0 under the null hypothesis\n",
        "zhat = (mu - 0)/(sigma/n**0.5)\n",
        "print(zhat)"
      ],
      "outputs": [
        {
          "output_type": "stream",
          "name": "stdout",
          "text": [
            "1.5878899198671632\n"
          ]
        }
      ],
      "execution_count": 14,
      "metadata": {
        "collapsed": false,
        "outputHidden": false,
        "inputHidden": false
      }
    },
    {
      "cell_type": "markdown",
      "source": [
        "## Set decision criteria"
      ],
      "metadata": {}
    },
    {
      "cell_type": "code",
      "source": [
        "# confidence level\n",
        "alpha = 0.05\n",
        "\n",
        "zleft = norm.ppf(alpha/2, 0, 1)\n",
        "zright = -zleft  # z-distribution is symmetric \n",
        "print(zleft, zright)"
      ],
      "outputs": [
        {
          "output_type": "stream",
          "name": "stdout",
          "text": [
            "-1.95996398454 1.95996398454\n"
          ]
        }
      ],
      "execution_count": 15,
      "metadata": {
        "collapsed": false,
        "outputHidden": false,
        "inputHidden": false
      }
    },
    {
      "cell_type": "markdown",
      "source": [
        "## Decision to reject H0 or not"
      ],
      "metadata": {}
    },
    {
      "cell_type": "code",
      "source": [
        "print('At significant level of {}, shall we reject: {}'.format(alpha, zhat>zright or zhat<zleft))"
      ],
      "outputs": [
        {
          "output_type": "stream",
          "name": "stdout",
          "text": [
            "At significant level of 0.05, shall we reject: False\n"
          ]
        }
      ],
      "execution_count": 16,
      "metadata": {
        "collapsed": false,
        "outputHidden": false,
        "inputHidden": false
      }
    },
    {
      "cell_type": "markdown",
      "source": [
        "## One Tail Test"
      ],
      "metadata": {}
    },
    {
      "cell_type": "code",
      "source": [
        "# Test one tail\n",
        "mu = dataset['Log_Returns'].mean()\n",
        "sigma = dataset['Log_Returns'].std(ddof=1)\n",
        "n = dataset['Log_Returns'].shape[0]\n",
        "\n",
        "# if sample size n is large enough, we can use z-distribution, instead of t-distribtuion\n",
        "# mu = 0 under the null hypothesis\n",
        "zhat = (mu - 0)/(sigma/n**0.5)\n",
        "print(zhat)"
      ],
      "outputs": [
        {
          "output_type": "stream",
          "name": "stdout",
          "text": [
            "1.5878899198671632\n"
          ]
        }
      ],
      "execution_count": 17,
      "metadata": {
        "collapsed": false,
        "outputHidden": false,
        "inputHidden": false
      }
    },
    {
      "cell_type": "code",
      "source": [
        "alpha = 0.05\n",
        "\n",
        "zright = norm.ppf(1-alpha, 0, 1)\n",
        "print(zright)"
      ],
      "outputs": [
        {
          "output_type": "stream",
          "name": "stdout",
          "text": [
            "1.64485362695\n"
          ]
        }
      ],
      "execution_count": 18,
      "metadata": {
        "collapsed": false,
        "outputHidden": false,
        "inputHidden": false
      }
    },
    {
      "cell_type": "code",
      "source": [
        "print('At significant level of {}, shall we reject: {}'.format(alpha, zhat>zright))"
      ],
      "outputs": [
        {
          "output_type": "stream",
          "name": "stdout",
          "text": [
            "At significant level of 0.05, shall we reject: False\n"
          ]
        }
      ],
      "execution_count": 19,
      "metadata": {
        "collapsed": false,
        "outputHidden": false,
        "inputHidden": false
      }
    },
    {
      "cell_type": "markdown",
      "source": [
        "## Test for p-value"
      ],
      "metadata": {}
    },
    {
      "cell_type": "code",
      "source": [
        "p_value = 1 - norm.cdf(zhat, 0, 1)\n",
        "print(p_value)"
      ],
      "outputs": [
        {
          "output_type": "stream",
          "name": "stdout",
          "text": [
            "0.056155616634\n"
          ]
        }
      ],
      "execution_count": 20,
      "metadata": {
        "collapsed": false,
        "outputHidden": false,
        "inputHidden": false
      }
    },
    {
      "cell_type": "code",
      "source": [
        "print('At significant level of {}, shall we reject: {}'.format(alpha, p_value < alpha))"
      ],
      "outputs": [
        {
          "output_type": "stream",
          "name": "stdout",
          "text": [
            "At significant level of 0.05, shall we reject: False\n"
          ]
        }
      ],
      "execution_count": 21,
      "metadata": {
        "collapsed": false,
        "outputHidden": false,
        "inputHidden": false
      }
    },
    {
      "cell_type": "markdown",
      "source": [
        "The stock data is continuous data. Here the list of doing hypothesis test.\n",
        "\n",
        "For this part, is about comparing features and targets or two samples. Some of the hypothesis testing, we can test one samples.\n",
        "\n",
        "List of continuous:\n",
        "https://docs.scipy.org/doc/scipy/reference/tutorial/stats/continuous.html"
      ],
      "metadata": {}
    },
    {
      "cell_type": "markdown",
      "source": [
        "## Shapiro-Wilk Test"
      ],
      "metadata": {}
    },
    {
      "cell_type": "code",
      "source": [
        "# Shapiro-Wilk Test\n",
        "from scipy.stats import shapiro\n",
        "import scipy as sp\n",
        "\n\nW_test, p_value = shapiro(dataset['Log_Returns'])"
      ],
      "outputs": [],
      "execution_count": 22,
      "metadata": {
        "collapsed": false,
        "outputHidden": false,
        "inputHidden": false
      }
    },
    {
      "cell_type": "code",
      "source": [
        "# confidence level is 95%, that is, alpha=0.05\n",
        "print('Shapiro-Wilk Test')\n",
        "print('-'*40)\n",
        "\n",
        "alpha = 0.05\n",
        "if p_value < alpha:  # null hypothesis: x comes from a normal distribution\n",
        "    print(\"H0: the sample has a Gaussian distribution.\")\n",
        "    print(\"The null hypothesis can be rejected\")\n",
        "else:\n",
        "    print(\"H1: the sample does not have a Gaussian distribution.\")\n",
        "    print(\"The null hypothesis cannot be rejected\")"
      ],
      "outputs": [
        {
          "output_type": "stream",
          "name": "stdout",
          "text": [
            "Shapiro-Wilk Test\n",
            "----------------------------------------\n",
            "H1: the sample does not have a Gaussian distribution.\n",
            "The null hypothesis cannot be rejected\n"
          ]
        }
      ],
      "execution_count": 23,
      "metadata": {
        "collapsed": false,
        "outputHidden": false,
        "inputHidden": false
      }
    },
    {
      "cell_type": "markdown",
      "source": [
        "## D’Agostino’s K^2 Test"
      ],
      "metadata": {}
    },
    {
      "cell_type": "code",
      "source": [
        "# Anderson_Darling Test\n",
        "from scipy.stats import anderson\n",
        "\n",
        "result = anderson(dataset['Log_Returns'])\n",
        "result"
      ],
      "outputs": [
        {
          "output_type": "execute_result",
          "execution_count": 24,
          "data": {
            "text/plain": [
              "AndersonResult(statistic=nan, critical_values=array([ 0.574,  0.654,  0.785,  0.915,  1.089]), significance_level=array([ 15. ,  10. ,   5. ,   2.5,   1. ]))"
            ]
          },
          "metadata": {}
        }
      ],
      "execution_count": 24,
      "metadata": {
        "collapsed": false,
        "outputHidden": false,
        "inputHidden": false
      }
    },
    {
      "cell_type": "code",
      "source": [
        "print('D’Agostino’s K^2 Test')\n",
        "print('-'*40)\n",
        "print('Statistic: %.3f' % result.statistic)\n",
        "p = 0\n",
        "for i in range(len(result.critical_values)):\n",
        "\tsl, cv = result.significance_level[i], result.critical_values[i]\n",
        "\tif result.statistic < result.critical_values[i]:\n",
        "\t\tprint('%.3f: %.3f, data looks normal (fail to reject H0)' % (sl, cv))\n",
        "\telse:\n",
        "\t\tprint('%.3f: %.3f, data does not look normal (reject H0)' % (sl, cv))"
      ],
      "outputs": [
        {
          "output_type": "stream",
          "name": "stdout",
          "text": [
            "D’Agostino’s K^2 Test\n",
            "----------------------------------------\n",
            "Statistic: nan\n",
            "15.000: 0.574, data does not look normal (reject H0)\n",
            "10.000: 0.654, data does not look normal (reject H0)\n",
            "5.000: 0.785, data does not look normal (reject H0)\n",
            "2.500: 0.915, data does not look normal (reject H0)\n",
            "1.000: 1.089, data does not look normal (reject H0)\n"
          ]
        }
      ],
      "execution_count": 25,
      "metadata": {
        "collapsed": false,
        "outputHidden": false,
        "inputHidden": false
      }
    },
    {
      "cell_type": "markdown",
      "source": [
        "The correlation is used to test out the samples or features is correlation or not.\n",
        "\nTherefore, to check two samples or features are related or not."
      ],
      "metadata": {}
    },
    {
      "cell_type": "markdown",
      "source": [
        "## # Pearson’s Correlation Coefficient"
      ],
      "metadata": {}
    },
    {
      "cell_type": "code",
      "source": [
        "from scipy.stats import pearsonr\n",
        "\ncoef, p_value = pearsonr(dataset['Open'], dataset['Adj Close'])"
      ],
      "outputs": [],
      "execution_count": 26,
      "metadata": {
        "collapsed": false,
        "outputHidden": false,
        "inputHidden": false
      }
    },
    {
      "cell_type": "code",
      "source": [
        "print('Pearson’s Correlation Coefficient')\n",
        "print('-'*40)\n",
        "print('Correlation Test: %.3f' % coef)\n",
        "# interpret the significance\n",
        "alpha = 0.05\n",
        "if p_value > alpha:\n",
        "\tprint('H0: the two samples are independent. p=%.3f' % p_value)\n",
        "else:\n",
        "\tprint('H1: there is a dependency between the samples. p=%.3f' % p_value)"
      ],
      "outputs": [
        {
          "output_type": "stream",
          "name": "stdout",
          "text": [
            "Pearson’s Correlation Coefficient\n",
            "----------------------------------------\n",
            "Correlation Test: 0.998\n",
            "H1: there is a dependency between the samples. p=0.000\n"
          ]
        }
      ],
      "execution_count": 27,
      "metadata": {
        "collapsed": false,
        "outputHidden": false,
        "inputHidden": false
      }
    },
    {
      "cell_type": "markdown",
      "source": [
        "## Spearman's Rank Correlation"
      ],
      "metadata": {}
    },
    {
      "cell_type": "code",
      "source": [
        "# Spearman's Rank Correlation\n",
        "from scipy.stats import spearmanr\n",
        "\ncoef, p_value = spearmanr(dataset['Open'], dataset['Adj Close'])"
      ],
      "outputs": [],
      "execution_count": 28,
      "metadata": {
        "collapsed": false,
        "outputHidden": false,
        "inputHidden": false
      }
    },
    {
      "cell_type": "code",
      "source": [
        "print('Spearman’s Rank Correlation')\n",
        "print('-'*40)\n",
        "print('Spearmans correlation coefficient: %.3f' % coef)\n",
        "# interpret the significance\n",
        "alpha = 0.05\n",
        "if p_value > alpha:\n",
        "\tprint('Samples are uncorrelated (fail to reject H0) p=%.3f' % p_value)\n",
        "else:\n",
        "\tprint('Samples are correlated (reject H0) p=%.3f' % p_value)"
      ],
      "outputs": [
        {
          "output_type": "stream",
          "name": "stdout",
          "text": [
            "Spearman’s Rank Correlation\n",
            "----------------------------------------\n",
            "Spearmans correlation coefficient: 0.996\n",
            "Samples are correlated (reject H0) p=0.000\n"
          ]
        }
      ],
      "execution_count": 29,
      "metadata": {
        "collapsed": false,
        "outputHidden": false,
        "inputHidden": false
      }
    },
    {
      "cell_type": "markdown",
      "source": [
        "## Kendall's Rank Correlation "
      ],
      "metadata": {}
    },
    {
      "cell_type": "code",
      "source": [
        "# Kendall's Rank Correlation\n",
        "from scipy.stats import kendalltau\n",
        "\ncoef, p_value = kendalltau(dataset['Open'], dataset['Adj Close'])"
      ],
      "outputs": [],
      "execution_count": 30,
      "metadata": {}
    },
    {
      "cell_type": "code",
      "source": [
        "print('Kendall’s Rank Correlation')\n",
        "print('-'*40)\n",
        "print('Kendall correlation coefficient: %.3f' % coef)\n",
        "# interpret the significance\n",
        "alpha = 0.05\n",
        "if p > alpha:\n",
        "\tprint('Samples are uncorrelated (fail to reject H0) p=%.3f' % p_value)\n",
        "else:\n",
        "\tprint('Samples are correlated (reject H0) p=%.3f' % p_value)"
      ],
      "outputs": [
        {
          "output_type": "stream",
          "name": "stdout",
          "text": [
            "Kendall’s Rank Correlation\n",
            "----------------------------------------\n",
            "Kendall correlation coefficient: 0.953\n",
            "Samples are correlated (reject H0) p=0.000\n"
          ]
        }
      ],
      "execution_count": 31,
      "metadata": {
        "collapsed": false,
        "outputHidden": false,
        "inputHidden": false
      }
    },
    {
      "cell_type": "markdown",
      "source": [
        "## Chi-Squared Test"
      ],
      "metadata": {}
    },
    {
      "cell_type": "code",
      "source": [
        "# Chi-Squared Test\n",
        "from scipy.stats import chi2_contingency\n",
        "from scipy.stats import chi2\n",
        "\nstat, p_value, dof, expected = chi2_contingency(dataset[['Open','Low','High','Adj Close','Volume']])"
      ],
      "outputs": [],
      "execution_count": 32,
      "metadata": {
        "collapsed": false,
        "outputHidden": false,
        "inputHidden": false
      }
    },
    {
      "cell_type": "code",
      "source": [
        "# interpret test-statistic\n",
        "print('Chi-Squared Test')\n",
        "print('-'*40)\n",
        "\n",
        "prob = 0.95\n",
        "critical = chi2.ppf(prob, dof)\n",
        "if abs(stat) >= critical:\n",
        "\tprint('Dependent (reject H0)')\n",
        "else:\n",
        "\tprint('Independent (fail to reject H0)')"
      ],
      "outputs": [
        {
          "output_type": "stream",
          "name": "stdout",
          "text": [
            "Chi-Squared Test\n",
            "----------------------------------------\n",
            "Dependent (reject H0)\n"
          ]
        }
      ],
      "execution_count": 33,
      "metadata": {
        "collapsed": false,
        "outputHidden": false,
        "inputHidden": false
      }
    },
    {
      "cell_type": "code",
      "source": [
        "# interpret p-value\n",
        "alpha = 1.0 - prob\n",
        "if p_value <= alpha:\n",
        "\tprint('Dependent (reject H0)')\n",
        "else:\n",
        "\tprint('Independent (fail to reject H0)')"
      ],
      "outputs": [
        {
          "output_type": "stream",
          "name": "stdout",
          "text": [
            "Dependent (reject H0)\n"
          ]
        }
      ],
      "execution_count": 34,
      "metadata": {
        "collapsed": false,
        "outputHidden": false,
        "inputHidden": false
      }
    },
    {
      "cell_type": "code",
      "source": [
        "print('dof=%d' % dof)\n",
        "print(expected)\n",
        "# interpret test-statistic\n",
        "prob = 0.95\n",
        "critical = chi2.ppf(prob, dof)\n",
        "print('probability=%.3f, critical=%.3f, stat=%.3f' % (prob, critical, stat))\n",
        "if abs(stat) >= critical:\n",
        "\tprint('Dependent (reject H0)')\n",
        "else:\n",
        "\tprint('Independent (fail to reject H0)')\n",
        "# interpret p-value\n",
        "alpha = 1.0 - prob\n",
        "print('significance=%.3f, p=%.3f' % (alpha, p_value))\n",
        "if p <= alpha:\n",
        "\tprint('Dependent (reject H0)')\n",
        "else:\n",
        "\tprint('Independent (fail to reject H0)')"
      ],
      "outputs": [
        {
          "output_type": "stream",
          "name": "stdout",
          "text": [
            "dof=5028\n",
            "[[  1.79341454e+02   1.77772007e+02   1.80882430e+02   1.72125252e+02\n",
            "    5.86707947e+07]\n",
            " [  2.99915291e+02   2.97290682e+02   3.02492288e+02   2.87847533e+02\n",
            "    9.81160132e+07]\n",
            " [  3.15308232e+02   3.12548917e+02   3.18017492e+02   3.02621105e+02\n",
            "    1.03151748e+08]\n",
            " ..., \n",
            " [  1.62365169e+02   1.60944284e+02   1.63760278e+02   1.55832046e+02\n",
            "    5.31170753e+07]\n",
            " [  1.29274227e+02   1.28142927e+02   1.30385005e+02   1.24072592e+02\n",
            "    4.22915143e+07]\n",
            " [  1.06997287e+02   1.06060936e+02   1.07916652e+02   1.02692013e+02\n",
            "    3.50037078e+07]]\n",
            "probability=0.950, critical=5194.074, stat=335688.814\n",
            "Dependent (reject H0)\n",
            "significance=0.050, p=0.000\n",
            "Dependent (reject H0)\n"
          ]
        }
      ],
      "execution_count": 35,
      "metadata": {
        "collapsed": false,
        "outputHidden": false,
        "inputHidden": false
      }
    },
    {
      "cell_type": "markdown",
      "source": [
        "This part is to compare two samples or features; as a results, to check if they both independent samples."
      ],
      "metadata": {}
    },
    {
      "cell_type": "markdown",
      "source": [
        "## Parametric Statistical Hypothesis Tests"
      ],
      "metadata": {}
    },
    {
      "cell_type": "markdown",
      "source": [
        "T-test for the means of two independent samples of scores\n",
        "Two-sided test for the null hypothesis that 2 independent samples have identical average (expected) values"
      ],
      "metadata": {}
    },
    {
      "cell_type": "code",
      "source": [
        "# Parametric Statistical Hypothesis Tests\n",
        "# Student’s t-test\n",
        "from scipy.stats import ttest_ind\n",
        "\nstat, p_value = ttest_ind(dataset['Open'], dataset['Adj Close'])"
      ],
      "outputs": [],
      "execution_count": 36,
      "metadata": {}
    },
    {
      "cell_type": "code",
      "source": [
        "print('Paired Students t-Test')\n",
        "print('-'*40)\n",
        "print('Statistics=%.3f, p=%.3f' % (stat, p_value))\n",
        "# interpret\n",
        "alpha = 0.05\n",
        "if p_value > alpha:\n",
        "\tprint('Same distributions (fail to reject H0)')\n",
        "else:\n",
        "\tprint('Different distributions (reject H0)')"
      ],
      "outputs": [
        {
          "output_type": "stream",
          "name": "stdout",
          "text": [
            "Paired Students t-Test\n",
            "----------------------------------------\n",
            "Statistics=3.450, p=0.001\n",
            "Different distributions (reject H0)\n"
          ]
        }
      ],
      "execution_count": 37,
      "metadata": {
        "collapsed": false,
        "outputHidden": false,
        "inputHidden": false
      }
    },
    {
      "cell_type": "markdown",
      "source": [
        "## Paired Student’s t-test"
      ],
      "metadata": {}
    },
    {
      "cell_type": "code",
      "source": [
        "# Paired Student’s t-test\n",
        "from scipy.stats import ttest_rel\n",
        "\nstat, p_value = ttest_rel(dataset['Open'], dataset['Adj Close'])"
      ],
      "outputs": [],
      "execution_count": 38,
      "metadata": {
        "collapsed": false,
        "outputHidden": false,
        "inputHidden": false
      }
    },
    {
      "cell_type": "code",
      "source": [
        "print('Paired Students t-Test')\n",
        "print('-'*40)\n",
        "print('Statistics=%.3f, p=%.3f' % (stat, p))\n",
        "# interpret\n",
        "alpha = 0.05\n",
        "if p_value > alpha:\n",
        "\tprint('Same distributions (fail to reject H0)')\n",
        "else:\n",
        "\tprint('Different distributions (reject H0)')"
      ],
      "outputs": [
        {
          "output_type": "stream",
          "name": "stdout",
          "text": [
            "Paired Students t-Test\n",
            "----------------------------------------\n",
            "Statistics=62.959, p=0.000\n",
            "Different distributions (reject H0)\n"
          ]
        }
      ],
      "execution_count": 39,
      "metadata": {
        "collapsed": false,
        "outputHidden": false,
        "inputHidden": false
      }
    },
    {
      "cell_type": "markdown",
      "source": [
        "## Analysis of Variance Test (ANOVA)"
      ],
      "metadata": {}
    },
    {
      "cell_type": "code",
      "source": [
        "# Analysis of Variance Test (ANOVA)\n",
        "from scipy.stats import f_oneway\n",
        "\nstat, p_value = f_oneway(dataset['Open'], dataset['Adj Close'], dataset['Volume'])"
      ],
      "outputs": [],
      "execution_count": 40,
      "metadata": {
        "collapsed": false,
        "outputHidden": false,
        "inputHidden": false
      }
    },
    {
      "cell_type": "code",
      "source": [
        "print('Analysis of Variance Test (ANOVA)')\n",
        "print('-'*40)\n",
        "print('Statistics=%.3f, p=%.3f' % (stat, p_value))\n",
        "# interpret\n",
        "alpha = 0.05\n",
        "if p_value > alpha:\n",
        "\tprint('Same distributions (fail to reject H0)')\n",
        "else:\n",
        "\tprint('Different distributions (reject H0)')"
      ],
      "outputs": [
        {
          "output_type": "stream",
          "name": "stdout",
          "text": [
            "Analysis of Variance Test (ANOVA)\n",
            "----------------------------------------\n",
            "Statistics=4168.958, p=0.000\n",
            "Different distributions (reject H0)\n"
          ]
        }
      ],
      "execution_count": 41,
      "metadata": {
        "collapsed": false,
        "outputHidden": false,
        "inputHidden": false
      }
    },
    {
      "cell_type": "markdown",
      "source": [
        "## Mann-Whitney U Test"
      ],
      "metadata": {}
    },
    {
      "cell_type": "code",
      "source": [
        "# Nonparametric Statistical Hypothesis Tests\n",
        "# Mann-Whitney U Test\n",
        "from scipy.stats import mannwhitneyu\n",
        "\nstat, p_value = mannwhitneyu(dataset['Open'], dataset['Adj Close'])"
      ],
      "outputs": [],
      "execution_count": 42,
      "metadata": {}
    },
    {
      "cell_type": "code",
      "source": [
        "print('Mann-Whitney U Test')\n",
        "print('-'*40)\n",
        "print('Statistics=%.3f, p=%.3f' % (stat, p_value))\n",
        "# interpret\n",
        "alpha = 0.05\n",
        "if p_value > alpha:\n",
        "\tprint('Same distribution (fail to reject H0)')\n",
        "else:\n",
        "\tprint('Different distribution (reject H0)')"
      ],
      "outputs": [
        {
          "output_type": "stream",
          "name": "stdout",
          "text": [
            "Mann-Whitney U Test\n",
            "----------------------------------------\n",
            "Statistics=707543.000, p=0.000\n",
            "Different distribution (reject H0)\n"
          ]
        }
      ],
      "execution_count": 43,
      "metadata": {}
    },
    {
      "cell_type": "markdown",
      "source": [
        "## Wilcoxon Signed-Rank Test"
      ],
      "metadata": {}
    },
    {
      "cell_type": "code",
      "source": [
        "# Wilcoxon Signed-Rank Test\n",
        "from scipy.stats import wilcoxon\n",
        "\nstat, p_value = wilcoxon(dataset['Open'], dataset['Adj Close'])"
      ],
      "outputs": [],
      "execution_count": 44,
      "metadata": {
        "collapsed": false,
        "outputHidden": false,
        "inputHidden": false
      }
    },
    {
      "cell_type": "code",
      "source": [
        "print('Wilcoxon Signed-Rank Test')\n",
        "print('-'*40)\n",
        "print('Statistics=%.3f, p=%.3f' % (stat, p_value))\n",
        "# interpret\n",
        "alpha = 0.05\n",
        "if p_value > alpha:\n",
        "\tprint('Same distribution (fail to reject H0)')\n",
        "else:\n",
        "\tprint('Different distribution (reject H0)')"
      ],
      "outputs": [
        {
          "output_type": "stream",
          "name": "stdout",
          "text": [
            "Wilcoxon Signed-Rank Test\n",
            "----------------------------------------\n",
            "Statistics=7095.000, p=0.000\n",
            "Different distribution (reject H0)\n"
          ]
        }
      ],
      "execution_count": 45,
      "metadata": {
        "collapsed": false,
        "outputHidden": false,
        "inputHidden": false
      }
    },
    {
      "cell_type": "markdown",
      "source": [
        "## Kruskal-Wallis Test"
      ],
      "metadata": {}
    },
    {
      "cell_type": "code",
      "source": [
        "# Kruskal-Wallis Test\n",
        "from scipy.stats import kruskal\n",
        "\nstat, p_value = kruskal(dataset['Open'], dataset['Adj Close'], dataset['Volume'])"
      ],
      "outputs": [],
      "execution_count": 46,
      "metadata": {
        "collapsed": false,
        "outputHidden": false,
        "inputHidden": false
      }
    },
    {
      "cell_type": "code",
      "source": [
        "print('Kruskal-Wallis Test')\n",
        "print('-'*40)\n",
        "print('Statistics=%.3f, p=%.3f' % (stat, p_value))\n",
        "# interpret\n",
        "alpha = 0.05\n",
        "if p_value > alpha:\n",
        "\tprint('Same distributions (fail to reject H0)')\n",
        "else:\n",
        "\tprint('Different distributions (reject H0)')"
      ],
      "outputs": [
        {
          "output_type": "stream",
          "name": "stdout",
          "text": [
            "Kruskal-Wallis Test\n",
            "----------------------------------------\n",
            "Statistics=2524.724, p=0.000\n",
            "Different distributions (reject H0)\n"
          ]
        }
      ],
      "execution_count": 47,
      "metadata": {
        "collapsed": false,
        "outputHidden": false,
        "inputHidden": false
      }
    },
    {
      "cell_type": "markdown",
      "source": [
        "## Friedman Test"
      ],
      "metadata": {}
    },
    {
      "cell_type": "code",
      "source": [
        "from scipy.stats import friedmanchisquare\n",
        "\nstat, p_value = friedmanchisquare(dataset['Open'], dataset['Adj Close'], dataset['Volume'])"
      ],
      "outputs": [],
      "execution_count": 48,
      "metadata": {}
    },
    {
      "cell_type": "code",
      "source": [
        "print('Friedman Test')\n",
        "print('-'*40)\n",
        "print('Statistics=%.3f, p=%.3f' % (stat, p_value))\n",
        "# interpret\n",
        "alpha = 0.05\n",
        "if p_value > alpha:\n",
        "\tprint('Same distributions (fail to reject H0)')\n",
        "else:\n",
        "\tprint('Different distributions (reject H0)')"
      ],
      "outputs": [
        {
          "output_type": "stream",
          "name": "stdout",
          "text": [
            "Friedman Test\n",
            "----------------------------------------\n",
            "Statistics=2429.219, p=0.000\n",
            "Different distributions (reject H0)\n"
          ]
        }
      ],
      "execution_count": 49,
      "metadata": {
        "collapsed": false,
        "outputHidden": false,
        "inputHidden": false
      }
    },
    {
      "cell_type": "markdown",
      "source": [
        "## Levene Test"
      ],
      "metadata": {}
    },
    {
      "cell_type": "code",
      "source": [
        "# Levene Test\n",
        "from scipy.stats import levene\n",
        "\nstat, p_value = levene(dataset['Open'], dataset['Adj Close'])"
      ],
      "outputs": [],
      "execution_count": 50,
      "metadata": {}
    },
    {
      "cell_type": "code",
      "source": [
        "print('Levene Test')\n",
        "print('-'*40)\n",
        "print('Statistics=%.3f, p=%.3f' % (stat, p_value))\n",
        "# interpret\n",
        "alpha = 0.05\n",
        "if p_value > alpha:\n",
        "\tprint('Same distributions (fail to reject H0)')\n",
        "else:\n",
        "\tprint('Different distributions (reject H0)')"
      ],
      "outputs": [
        {
          "output_type": "stream",
          "name": "stdout",
          "text": [
            "Levene Test\n",
            "----------------------------------------\n",
            "Statistics=1.310, p=0.252\n",
            "Same distributions (fail to reject H0)\n"
          ]
        }
      ],
      "execution_count": 51,
      "metadata": {
        "collapsed": false,
        "outputHidden": false,
        "inputHidden": false
      }
    },
    {
      "cell_type": "markdown",
      "source": [
        "## Mood’s test"
      ],
      "metadata": {
        "collapsed": false,
        "outputHidden": false,
        "inputHidden": false
      }
    },
    {
      "cell_type": "code",
      "source": [
        "from scipy.stats import mood\n",
        "\nstat, p_value = mood(dataset['Open'], dataset['Adj Close'])"
      ],
      "outputs": [],
      "execution_count": 52,
      "metadata": {
        "collapsed": false,
        "outputHidden": false,
        "inputHidden": false
      }
    },
    {
      "cell_type": "code",
      "source": [
        "print('Mood Test')\n",
        "print('-'*40)\n",
        "print('Statistics=%.3f, p=%.3f' % (stat, p_value))\n",
        "# interpret\n",
        "alpha = 0.05\n",
        "if p_value > alpha:\n",
        "\tprint('Same distributions (fail to reject H0)')\n",
        "else:\n",
        "\tprint('Different distributions (reject H0)')"
      ],
      "outputs": [
        {
          "output_type": "stream",
          "name": "stdout",
          "text": [
            "Mood Test\n",
            "----------------------------------------\n",
            "Statistics=-4.115, p=0.000\n",
            "Different distributions (reject H0)\n"
          ]
        }
      ],
      "execution_count": 53,
      "metadata": {
        "collapsed": false,
        "outputHidden": false,
        "inputHidden": false
      }
    },
    {
      "cell_type": "markdown",
      "source": [
        "## Mood’s median test"
      ],
      "metadata": {}
    },
    {
      "cell_type": "code",
      "source": [
        "from scipy.stats import median_test\n",
        "\nstat, p_value, med, tbl = median_test(dataset['Open'], dataset['Adj Close'], dataset['Volume'])"
      ],
      "outputs": [],
      "execution_count": 54,
      "metadata": {
        "collapsed": false,
        "outputHidden": false,
        "inputHidden": false
      }
    },
    {
      "cell_type": "code",
      "source": [
        "print('Mood’s median test')\n",
        "print('-'*40)\n",
        "print('Statistics=%.3f, p=%.3f' % (stat, p_value))\n",
        "# interpret\n",
        "alpha = 0.05\n",
        "if p_value > alpha:\n",
        "\tprint('Same distributions (fail to reject H0)')\n",
        "else:\n",
        "\tprint('Different distributions (reject H0)')"
      ],
      "outputs": [
        {
          "output_type": "stream",
          "name": "stdout",
          "text": [
            "Mood’s median test\n",
            "----------------------------------------\n",
            "Statistics=1888.528, p=0.000\n",
            "Different distributions (reject H0)\n"
          ]
        }
      ],
      "execution_count": 55,
      "metadata": {
        "collapsed": false,
        "outputHidden": false,
        "inputHidden": false
      }
    },
    {
      "cell_type": "code",
      "source": [
        "stat, p_value, med, tbl = median_test(dataset['Open'], dataset['Adj Close'], dataset['Volume'],lambda_=\"log-likelihood\")"
      ],
      "outputs": [],
      "execution_count": 56,
      "metadata": {
        "collapsed": false,
        "outputHidden": false,
        "inputHidden": false
      }
    },
    {
      "cell_type": "code",
      "source": [
        "print('Mood’s median test with lambda')\n",
        "print('-'*40)\n",
        "print('Statistics=%.3f, p=%.3f' % (stat, p_value))\n",
        "# interpret\n",
        "alpha = 0.05\n",
        "if p_value > alpha:\n",
        "\tprint('Same distributions (fail to reject H0)')\n",
        "else:\n",
        "\tprint('Different distributions (reject H0)')"
      ],
      "outputs": [
        {
          "output_type": "stream",
          "name": "stdout",
          "text": [
            "Mood’s median test with lambda\n",
            "----------------------------------------\n",
            "Statistics=2404.242, p=0.000\n",
            "Different distributions (reject H0)\n"
          ]
        }
      ],
      "execution_count": 57,
      "metadata": {
        "collapsed": false,
        "outputHidden": false,
        "inputHidden": false
      }
    },
    {
      "cell_type": "markdown",
      "source": [
        "## Kolmogorov-Smirnov Test"
      ],
      "metadata": {}
    },
    {
      "cell_type": "code",
      "source": [
        "# Kolmogorov-Smirnov test\n",
        "from scipy.stats import ks_2samp\n",
        "\nstat, p_value = ks_2samp(dataset['Open'], dataset['Adj Close'])"
      ],
      "outputs": [],
      "execution_count": 58,
      "metadata": {}
    },
    {
      "cell_type": "code",
      "source": [
        "print('Kolmogorov-Smirnov Test')\n",
        "print('-'*40)\n",
        "print('Statistics=%.3f, p=%.3f' % (stat, p_value))\n",
        "# interpret\n",
        "alpha = 0.05\n",
        "if p_value > alpha:\n",
        "\tprint('Same distributions (fail to reject H0)')\n",
        "else:\n",
        "\tprint('Different distributions (reject H0)')"
      ],
      "outputs": [
        {
          "output_type": "stream",
          "name": "stdout",
          "text": [
            "Kolmogorov-Smirnov Test\n",
            "----------------------------------------\n",
            "Statistics=0.125, p=0.000\n",
            "Different distributions (reject H0)\n"
          ]
        }
      ],
      "execution_count": 59,
      "metadata": {
        "collapsed": false,
        "outputHidden": false,
        "inputHidden": false
      }
    },
    {
      "cell_type": "markdown",
      "source": [
        "## Box-Cox Power Transformation"
      ],
      "metadata": {}
    },
    {
      "cell_type": "code",
      "source": [
        "from scipy.stats import boxcox\n",
        "\ndataset['boxcox'], lam = boxcox(dataset['Adj Close'])"
      ],
      "outputs": [],
      "execution_count": 60,
      "metadata": {
        "collapsed": false,
        "outputHidden": false,
        "inputHidden": false
      }
    },
    {
      "cell_type": "code",
      "source": [
        "print('Lambda: %f' % lam)"
      ],
      "outputs": [
        {
          "output_type": "stream",
          "name": "stdout",
          "text": [
            "Lambda: -0.153051\n"
          ]
        }
      ],
      "execution_count": 61,
      "metadata": {
        "collapsed": false,
        "outputHidden": false,
        "inputHidden": false
      }
    },
    {
      "cell_type": "code",
      "source": [
        "# Plot line\n",
        "plt.title('Stock Box-Cox Power Transformation')\n",
        "plt.plot(dataset['boxcox'])\n",
        "plt.show()"
      ],
      "outputs": [
        {
          "output_type": "display_data",
          "data": {
            "text/plain": [
              "<Figure size 432x288 with 1 Axes>"
            ],
            "image/png": "[encoded data removed]"
          },
          "metadata": {}
        }
      ],
      "execution_count": 62,
      "metadata": {
        "collapsed": false,
        "outputHidden": false,
        "inputHidden": false
      }
    },
    {
      "cell_type": "code",
      "source": [
        "# Plot histogram\n",
        "plt.title('Stock Box-Cox Power Transformation in Histogram')\n",
        "plt.hist(dataset['boxcox'])\n",
        "plt.grid()\n",
        "plt.show()"
      ],
      "outputs": [
        {
          "output_type": "display_data",
          "data": {
            "text/plain": [
              "<Figure size 432x288 with 1 Axes>"
            ],
            "image/png": "[encoded data removed]"
          },
          "metadata": {}
        }
      ],
      "execution_count": 63,
      "metadata": {
        "collapsed": false,
        "outputHidden": false,
        "inputHidden": false
      }
    }
  ],
  "metadata": {
    "kernel_info": {
      "name": "python3"
    },
    "language_info": {
      "name": "python",
      "codemirror_mode": {
        "name": "ipython",
        "version": 3
      },
      "version": "3.5.5",
      "nbconvert_exporter": "python",
      "mimetype": "text/x-python",
      "pygments_lexer": "ipython3",
      "file_extension": ".py"
    },
    "kernelspec": {
      "name": "python3",
      "language": "python",
      "display_name": "Python 3"
    },
    "nteract": {
      "version": "0.12.2"
    }
  },
  "nbformat": 4,
  "nbformat_minor": 4
}
