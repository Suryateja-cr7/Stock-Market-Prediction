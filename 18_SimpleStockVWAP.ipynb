{
  "cells": [
    {
      "cell_type": "markdown",
      "source": [
        "# Simple Stock VWAP"
      ],
      "metadata": {}
    },
    {
      "cell_type": "markdown",
      "source": [
        "VWAP (Volume-weighted average price) is used for technical analysis. However, VWAP is calculated by adding up the dollars traded for every transaction (price multiplied by the number of shares traded) and then dividing by the total shares traded.\n",
        "\n\nTo understand more about VWAP: https://www.investopedia.com/terms/v/vwap.asp"
      ],
      "metadata": {}
    },
    {
      "cell_type": "code",
      "source": [
        "import pandas as pd, numpy as np\n",
        "import matplotlib.pyplot as plt\n",
        "import seaborn as sns\n",
        "from datetime import datetime\n",
        "import statsmodels.api as sm\n",
        "%matplotlib inline\n",
        "\n",
        "import warnings\n",
        "warnings.filterwarnings(\"ignore\")\n",
        "\n",
        "from pandas_datareader import data as pdr\n",
        "import fix_yahoo_finance as yf\n",
        "yf.pdr_override()"
      ],
      "outputs": [],
      "execution_count": 1,
      "metadata": {
        "collapsed": false,
        "outputHidden": false,
        "inputHidden": false
      }
    },
    {
      "cell_type": "code",
      "source": [
        "def get_symbol(symbol):\n",
        "    start = '2018-01-01' \n",
        "    end = '2018-12-31'\n",
        "    df = pdr.get_data_yahoo(symbol, start, end)\n",
        "    return df"
      ],
      "outputs": [],
      "execution_count": 2,
      "metadata": {
        "collapsed": false,
        "outputHidden": false,
        "inputHidden": false
      }
    },
    {
      "cell_type": "code",
      "source": [
        "stock = get_symbol('AMD')\n",
        "stock.head()"
      ],
      "outputs": [
        {
          "output_type": "stream",
          "name": "stdout",
          "text": [
            "[*********************100%***********************]  1 of 1 downloaded\n"
          ]
        },
        {
          "output_type": "execute_result",
          "execution_count": 3,
          "data": {
            "text/plain": [
              "             Open   High    Low  Close  Adj Close     Volume\n",
              "Date                                                        \n",
              "2018-01-02  10.42  11.02  10.34  10.98      10.98   44146300\n",
              "2018-01-03  11.61  12.14  11.36  11.55      11.55  154066700\n",
              "2018-01-04  12.10  12.43  11.97  12.12      12.12  109503000\n",
              "2018-01-05  12.19  12.22  11.66  11.88      11.88   63808900\n",
              "2018-01-08  12.01  12.30  11.85  12.28      12.28   63346000"
            ],
            "text/html": [
              "<div>\n",
              "<style scoped>\n",
              "    .dataframe tbody tr th:only-of-type {\n",
              "        vertical-align: middle;\n",
              "    }\n",
              "\n",
              "    .dataframe tbody tr th {\n",
              "        vertical-align: top;\n",
              "    }\n",
              "\n",
              "    .dataframe thead th {\n",
              "        text-align: right;\n",
              "    }\n",
              "</style>\n",
              "<table border=\"1\" class=\"dataframe\">\n",
              "  <thead>\n",
              "    <tr style=\"text-align: right;\">\n",
              "      <th></th>\n",
              "      <th>Open</th>\n",
              "      <th>High</th>\n",
              "      <th>Low</th>\n",
              "      <th>Close</th>\n",
              "      <th>Adj Close</th>\n",
              "      <th>Volume</th>\n",
              "    </tr>\n",
              "    <tr>\n",
              "      <th>Date</th>\n",
              "      <th></th>\n",
              "      <th></th>\n",
              "      <th></th>\n",
              "      <th></th>\n",
              "      <th></th>\n",
              "      <th></th>\n",
              "    </tr>\n",
              "  </thead>\n",
              "  <tbody>\n",
              "    <tr>\n",
              "      <th>2018-01-02</th>\n",
              "      <td>10.42</td>\n",
              "      <td>11.02</td>\n",
              "      <td>10.34</td>\n",
              "      <td>10.98</td>\n",
              "      <td>10.98</td>\n",
              "      <td>44146300</td>\n",
              "    </tr>\n",
              "    <tr>\n",
              "      <th>2018-01-03</th>\n",
              "      <td>11.61</td>\n",
              "      <td>12.14</td>\n",
              "      <td>11.36</td>\n",
              "      <td>11.55</td>\n",
              "      <td>11.55</td>\n",
              "      <td>154066700</td>\n",
              "    </tr>\n",
              "    <tr>\n",
              "      <th>2018-01-04</th>\n",
              "      <td>12.10</td>\n",
              "      <td>12.43</td>\n",
              "      <td>11.97</td>\n",
              "      <td>12.12</td>\n",
              "      <td>12.12</td>\n",
              "      <td>109503000</td>\n",
              "    </tr>\n",
              "    <tr>\n",
              "      <th>2018-01-05</th>\n",
              "      <td>12.19</td>\n",
              "      <td>12.22</td>\n",
              "      <td>11.66</td>\n",
              "      <td>11.88</td>\n",
              "      <td>11.88</td>\n",
              "      <td>63808900</td>\n",
              "    </tr>\n",
              "    <tr>\n",
              "      <th>2018-01-08</th>\n",
              "      <td>12.01</td>\n",
              "      <td>12.30</td>\n",
              "      <td>11.85</td>\n",
              "      <td>12.28</td>\n",
              "      <td>12.28</td>\n",
              "      <td>63346000</td>\n",
              "    </tr>\n",
              "  </tbody>\n",
              "</table>\n",
              "</div>"
            ]
          },
          "metadata": {}
        }
      ],
      "execution_count": 3,
      "metadata": {
        "collapsed": false,
        "outputHidden": false,
        "inputHidden": false
      }
    },
    {
      "cell_type": "code",
      "source": [
        "def VWAP():\n",
        "    df = get_symbol('AAPL')\n",
        "    df['Typical_Price'] = (df['High']+df['Low']+df['Adj Close'])/3\n",
        "    df['TP_Volume'] = df['Typical_Price'] * df['Volume']\n",
        "    Cumulative_TP_V = df['TP_Volume'].sum() \n",
        "    Cumulative_V = df['Volume'].sum()\n",
        "    vwap = Cumulative_TP_V/Cumulative_V\n",
        "    return vwap\n",
        "\nVWAP()"
      ],
      "outputs": [
        {
          "output_type": "stream",
          "name": "stdout",
          "text": [
            "[*********************100%***********************]  1 of 1 downloaded\n"
          ]
        },
        {
          "output_type": "execute_result",
          "execution_count": 4,
          "data": {
            "text/plain": [
              "186.85563818472755"
            ]
          },
          "metadata": {}
        }
      ],
      "execution_count": 4,
      "metadata": {
        "collapsed": false,
        "outputHidden": false,
        "inputHidden": false
      }
    },
    {
      "cell_type": "code",
      "source": [
        "def Update_VWAP():\n",
        "    df = get_symbol('AAPL')\n",
        "    df['OpenxVolume'] = df['Open']*df['Volume']\n",
        "    df['HighxVolume'] = df['High']*df['Volume']\n",
        "    df['LowxVolume'] = df['Low']*df['Volume']\n",
        "    df['ClosexVolume'] = df['Adj Close']*df['Volume']\n",
        "    Sum_Volume = df['Volume'].sum()\n",
        "    Sum_x_OV = df['OpenxVolume'].sum()/ Sum_Volume\n",
        "    Sum_x_HV = df['HighxVolume'].sum()/ Sum_Volume\n",
        "    Sum_x_LV = df['LowxVolume'].sum()/ Sum_Volume\n",
        "    Sum_x_CV = df['ClosexVolume'].sum()/ Sum_Volume\n",
        "    Average_Volume_Each = (Sum_x_OV + Sum_x_HV + Sum_x_LV + Sum_x_OV)/4\n",
        "    new_vwap = ((df['Adj Close'][-1] - Average_Volume_Each)+(df['Adj Close'][-1] + Average_Volume_Each))/2\n",
        "    return new_vwap\n",
        "\nUpdate_VWAP()"
      ],
      "outputs": [
        {
          "output_type": "stream",
          "name": "stdout",
          "text": [
            "[*********************100%***********************]  1 of 1 downloaded\n"
          ]
        },
        {
          "output_type": "execute_result",
          "execution_count": 5,
          "data": {
            "text/plain": [
              "157.740005"
            ]
          },
          "metadata": {}
        }
      ],
      "execution_count": 5,
      "metadata": {
        "collapsed": false,
        "outputHidden": false,
        "inputHidden": false
      }
    },
    {
      "cell_type": "code",
      "source": [
        "def VWAP_Column():\n",
        "    df = get_symbol('AAPL')\n",
        "    df['OpenxVolume'] = df['Open']*df['Volume']\n",
        "    df['HighxVolume'] = df['High']*df['Volume']\n",
        "    df['LowxVolume'] = df['Low']*df['Volume']\n",
        "    df['ClosexVolume'] = df['Adj Close']*df['Volume']\n",
        "    vwap_column = (df[['OpenxVolume','HighxVolume','LowxVolume','ClosexVolume']].mean(axis=1))/df['Volume']\n",
        "    return vwap_column\n",
        "\nUpdate_VWAP()"
      ],
      "outputs": [
        {
          "output_type": "stream",
          "name": "stdout",
          "text": [
            "[*********************100%***********************]  1 of 1 downloaded\n"
          ]
        },
        {
          "output_type": "execute_result",
          "execution_count": 6,
          "data": {
            "text/plain": [
              "157.740005"
            ]
          },
          "metadata": {}
        }
      ],
      "execution_count": 6,
      "metadata": {
        "collapsed": false,
        "outputHidden": false,
        "inputHidden": false
      }
    }
  ],
  "metadata": {
    "kernel_info": {
      "name": "python3"
    },
    "kernelspec": {
      "name": "python3",
      "language": "python",
      "display_name": "Python 3"
    },
    "language_info": {
      "pygments_lexer": "ipython3",
      "name": "python",
      "codemirror_mode": {
        "name": "ipython",
        "version": 3
      },
      "nbconvert_exporter": "python",
      "version": "3.5.5",
      "mimetype": "text/x-python",
      "file_extension": ".py"
    },
    "nteract": {
      "version": "0.12.2"
    }
  },
  "nbformat": 4,
  "nbformat_minor": 4
}
