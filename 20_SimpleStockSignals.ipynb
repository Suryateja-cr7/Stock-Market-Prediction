{
  "cells": [
    {
      "cell_type": "markdown",
      "source": [
        "# Simple Stock Signals"
      ],
      "metadata": {}
    },
    {
      "cell_type": "markdown",
      "source": [
        "This simple tutorial, we will add buy and sell signals."
      ],
      "metadata": {}
    },
    {
      "cell_type": "code",
      "source": [
        "import numpy as np\n",
        "import pandas as pd\n",
        "import matplotlib.pyplot as plt\n",
        "\n",
        "import warnings\n",
        "warnings.filterwarnings(\"ignore\")\n",
        "\n",
        "# fix_yahoo_finance is used to fetch data \n",
        "import fix_yahoo_finance as yf\n",
        "yf.pdr_override()"
      ],
      "outputs": [],
      "execution_count": 1,
      "metadata": {
        "collapsed": false,
        "outputHidden": false,
        "inputHidden": false
      }
    },
    {
      "cell_type": "code",
      "source": [
        "# input\n",
        "symbol = 'AMD'\n",
        "start = '2018-01-01'\n",
        "end = '2018-12-31'\n",
        "\n",
        "# Read data \n",
        "df = yf.download(symbol,start,end)\n",
        "\n",
        "# View Columns\n",
        "df.head()"
      ],
      "outputs": [
        {
          "output_type": "stream",
          "name": "stdout",
          "text": [
            "[*********************100%***********************]  1 of 1 downloaded\n"
          ]
        },
        {
          "output_type": "execute_result",
          "execution_count": 2,
          "data": {
            "text/html": [
              "<div>\n",
              "<style scoped>\n",
              "    .dataframe tbody tr th:only-of-type {\n",
              "        vertical-align: middle;\n",
              "    }\n",
              "\n",
              "    .dataframe tbody tr th {\n",
              "        vertical-align: top;\n",
              "    }\n",
              "\n",
              "    .dataframe thead th {\n",
              "        text-align: right;\n",
              "    }\n",
              "</style>\n",
              "<table border=\"1\" class=\"dataframe\">\n",
              "  <thead>\n",
              "    <tr style=\"text-align: right;\">\n",
              "      <th></th>\n",
              "      <th>Open</th>\n",
              "      <th>High</th>\n",
              "      <th>Low</th>\n",
              "      <th>Close</th>\n",
              "      <th>Adj Close</th>\n",
              "      <th>Volume</th>\n",
              "    </tr>\n",
              "    <tr>\n",
              "      <th>Date</th>\n",
              "      <th></th>\n",
              "      <th></th>\n",
              "      <th></th>\n",
              "      <th></th>\n",
              "      <th></th>\n",
              "      <th></th>\n",
              "    </tr>\n",
              "  </thead>\n",
              "  <tbody>\n",
              "    <tr>\n",
              "      <th>2018-01-02</th>\n",
              "      <td>10.42</td>\n",
              "      <td>11.02</td>\n",
              "      <td>10.34</td>\n",
              "      <td>10.98</td>\n",
              "      <td>10.98</td>\n",
              "      <td>44146300</td>\n",
              "    </tr>\n",
              "    <tr>\n",
              "      <th>2018-01-03</th>\n",
              "      <td>11.61</td>\n",
              "      <td>12.14</td>\n",
              "      <td>11.36</td>\n",
              "      <td>11.55</td>\n",
              "      <td>11.55</td>\n",
              "      <td>154066700</td>\n",
              "    </tr>\n",
              "    <tr>\n",
              "      <th>2018-01-04</th>\n",
              "      <td>12.10</td>\n",
              "      <td>12.43</td>\n",
              "      <td>11.97</td>\n",
              "      <td>12.12</td>\n",
              "      <td>12.12</td>\n",
              "      <td>109503000</td>\n",
              "    </tr>\n",
              "    <tr>\n",
              "      <th>2018-01-05</th>\n",
              "      <td>12.19</td>\n",
              "      <td>12.22</td>\n",
              "      <td>11.66</td>\n",
              "      <td>11.88</td>\n",
              "      <td>11.88</td>\n",
              "      <td>63808900</td>\n",
              "    </tr>\n",
              "    <tr>\n",
              "      <th>2018-01-08</th>\n",
              "      <td>12.01</td>\n",
              "      <td>12.30</td>\n",
              "      <td>11.85</td>\n",
              "      <td>12.28</td>\n",
              "      <td>12.28</td>\n",
              "      <td>63346000</td>\n",
              "    </tr>\n",
              "  </tbody>\n",
              "</table>\n",
              "</div>"
            ],
            "text/plain": [
              "             Open   High    Low  Close  Adj Close     Volume\n",
              "Date                                                        \n",
              "2018-01-02  10.42  11.02  10.34  10.98      10.98   44146300\n",
              "2018-01-03  11.61  12.14  11.36  11.55      11.55  154066700\n",
              "2018-01-04  12.10  12.43  11.97  12.12      12.12  109503000\n",
              "2018-01-05  12.19  12.22  11.66  11.88      11.88   63808900\n",
              "2018-01-08  12.01  12.30  11.85  12.28      12.28   63346000"
            ]
          },
          "metadata": {}
        }
      ],
      "execution_count": 2,
      "metadata": {
        "collapsed": false,
        "outputHidden": false,
        "inputHidden": false
      }
    },
    {
      "cell_type": "code",
      "source": [
        "df.describe()"
      ],
      "outputs": [
        {
          "output_type": "execute_result",
          "execution_count": 3,
          "data": {
            "text/html": [
              "<div>\n",
              "<style scoped>\n",
              "    .dataframe tbody tr th:only-of-type {\n",
              "        vertical-align: middle;\n",
              "    }\n",
              "\n",
              "    .dataframe tbody tr th {\n",
              "        vertical-align: top;\n",
              "    }\n",
              "\n",
              "    .dataframe thead th {\n",
              "        text-align: right;\n",
              "    }\n",
              "</style>\n",
              "<table border=\"1\" class=\"dataframe\">\n",
              "  <thead>\n",
              "    <tr style=\"text-align: right;\">\n",
              "      <th></th>\n",
              "      <th>Open</th>\n",
              "      <th>High</th>\n",
              "      <th>Low</th>\n",
              "      <th>Close</th>\n",
              "      <th>Adj Close</th>\n",
              "      <th>Volume</th>\n",
              "    </tr>\n",
              "  </thead>\n",
              "  <tbody>\n",
              "    <tr>\n",
              "      <th>count</th>\n",
              "      <td>251.000000</td>\n",
              "      <td>251.000000</td>\n",
              "      <td>251.000000</td>\n",
              "      <td>251.000000</td>\n",
              "      <td>251.000000</td>\n",
              "      <td>2.510000e+02</td>\n",
              "    </tr>\n",
              "    <tr>\n",
              "      <th>mean</th>\n",
              "      <td>17.209681</td>\n",
              "      <td>17.667610</td>\n",
              "      <td>16.729880</td>\n",
              "      <td>17.214502</td>\n",
              "      <td>17.214502</td>\n",
              "      <td>8.460868e+07</td>\n",
              "    </tr>\n",
              "    <tr>\n",
              "      <th>std</th>\n",
              "      <td>6.202684</td>\n",
              "      <td>6.430476</td>\n",
              "      <td>5.912749</td>\n",
              "      <td>6.182515</td>\n",
              "      <td>6.182515</td>\n",
              "      <td>4.636185e+07</td>\n",
              "    </tr>\n",
              "    <tr>\n",
              "      <th>min</th>\n",
              "      <td>9.080000</td>\n",
              "      <td>9.770000</td>\n",
              "      <td>9.040000</td>\n",
              "      <td>9.530000</td>\n",
              "      <td>9.530000</td>\n",
              "      <td>2.887510e+07</td>\n",
              "    </tr>\n",
              "    <tr>\n",
              "      <th>25%</th>\n",
              "      <td>12.005000</td>\n",
              "      <td>12.185000</td>\n",
              "      <td>11.710000</td>\n",
              "      <td>11.955000</td>\n",
              "      <td>11.955000</td>\n",
              "      <td>4.869910e+07</td>\n",
              "    </tr>\n",
              "    <tr>\n",
              "      <th>50%</th>\n",
              "      <td>16.180000</td>\n",
              "      <td>16.530001</td>\n",
              "      <td>15.780000</td>\n",
              "      <td>16.270000</td>\n",
              "      <td>16.270000</td>\n",
              "      <td>7.434780e+07</td>\n",
              "    </tr>\n",
              "    <tr>\n",
              "      <th>75%</th>\n",
              "      <td>20.150001</td>\n",
              "      <td>20.895001</td>\n",
              "      <td>19.574999</td>\n",
              "      <td>20.149999</td>\n",
              "      <td>20.149999</td>\n",
              "      <td>1.071805e+08</td>\n",
              "    </tr>\n",
              "    <tr>\n",
              "      <th>max</th>\n",
              "      <td>33.180000</td>\n",
              "      <td>34.139999</td>\n",
              "      <td>32.189999</td>\n",
              "      <td>32.720001</td>\n",
              "      <td>32.720001</td>\n",
              "      <td>3.250584e+08</td>\n",
              "    </tr>\n",
              "  </tbody>\n",
              "</table>\n",
              "</div>"
            ],
            "text/plain": [
              "             Open        High         Low       Close   Adj Close  \\\n",
              "count  251.000000  251.000000  251.000000  251.000000  251.000000   \n",
              "mean    17.209681   17.667610   16.729880   17.214502   17.214502   \n",
              "std      6.202684    6.430476    5.912749    6.182515    6.182515   \n",
              "min      9.080000    9.770000    9.040000    9.530000    9.530000   \n",
              "25%     12.005000   12.185000   11.710000   11.955000   11.955000   \n",
              "50%     16.180000   16.530001   15.780000   16.270000   16.270000   \n",
              "75%     20.150001   20.895001   19.574999   20.149999   20.149999   \n",
              "max     33.180000   34.139999   32.189999   32.720001   32.720001   \n",
              "\n",
              "             Volume  \n",
              "count  2.510000e+02  \n",
              "mean   8.460868e+07  \n",
              "std    4.636185e+07  \n",
              "min    2.887510e+07  \n",
              "25%    4.869910e+07  \n",
              "50%    7.434780e+07  \n",
              "75%    1.071805e+08  \n",
              "max    3.250584e+08  "
            ]
          },
          "metadata": {}
        }
      ],
      "execution_count": 3,
      "metadata": {
        "collapsed": false,
        "outputHidden": false,
        "inputHidden": false
      }
    },
    {
      "cell_type": "code",
      "source": [
        "# Create Rules, the max is 34.13 and the min is 1.61\n",
        "high = 30\n",
        "low = 15"
      ],
      "outputs": [],
      "execution_count": 4,
      "metadata": {
        "collapsed": false,
        "outputHidden": false,
        "inputHidden": false
      }
    },
    {
      "cell_type": "code",
      "source": [
        "# As default, set everything to 0\n",
        "df['Signal'] = 0\n",
        " \n",
        "# If stock is more than 30, and we set the signal to -1 which means: 'short'\n",
        "df.loc[df['Adj Close'] > high, 'Signal'] = -1\n",
        " \n",
        "# If stock is less than 15, and we set the signal to 1 which means: 'long'\n",
        "df.loc[df['Adj Close'] < low, 'Signal'] = 1\n",
        " \n",
        "buys = df.ix[df['Signal'] == 1]\n",
        "sells = df.ix[df['Signal'] == -1]"
      ],
      "outputs": [],
      "execution_count": 5,
      "metadata": {
        "collapsed": false,
        "outputHidden": false,
        "inputHidden": false
      }
    },
    {
      "cell_type": "code",
      "source": [
        "plt.figure(figsize=(16,8))\n",
        "plt.plot(df.index, df['Adj Close'], label='Closing')\n",
        "plt.plot(sells.index, df.ix[sells.index]['Adj Close'],'v', markersize=10, color='r', label='Short')\n",
        "plt.plot(buys.index, df.ix[buys.index]['Adj Close'], '^', markersize=10, color='g', label='Long')\n",
        "plt.title(symbol + ' signals')\n",
        "plt.ylabel('Price')\n",
        "plt.xlabel('Date')\n",
        "plt.legend(loc='best')\n",
        "plt.show()"
      ],
      "outputs": [
        {
          "output_type": "display_data",
          "data": {
            "text/plain": [
              "<Figure size 1152x576 with 1 Axes>"
            ],
            "image/png": "[encoded data removed]"
          },
          "metadata": {}
        }
      ],
      "execution_count": 6,
      "metadata": {
        "collapsed": false,
        "outputHidden": false,
        "inputHidden": false
      }
    }
  ],
  "metadata": {
    "kernel_info": {
      "name": "python3"
    },
    "language_info": {
      "pygments_lexer": "ipython3",
      "name": "python",
      "mimetype": "text/x-python",
      "codemirror_mode": {
        "name": "ipython",
        "version": 3
      },
      "file_extension": ".py",
      "nbconvert_exporter": "python",
      "version": "3.5.5"
    },
    "kernelspec": {
      "name": "python3",
      "language": "python",
      "display_name": "Python 3"
    },
    "nteract": {
      "version": "0.12.2"
    }
  },
  "nbformat": 4,
  "nbformat_minor": 4
}
