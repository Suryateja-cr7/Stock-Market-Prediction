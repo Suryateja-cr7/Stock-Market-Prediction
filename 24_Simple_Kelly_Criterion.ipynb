{
  "cells": [
    {
      "cell_type": "markdown",
      "source": [
        "# Simple Kelly Criterion"
      ],
      "metadata": {}
    },
    {
      "cell_type": "markdown",
      "source": [
        "http://www.elem.com/~btilly/kelly-criterion/\n",
        "\nhttps://www.investopedia.com/articles/trading/04/091504.asp"
      ],
      "metadata": {}
    },
    {
      "cell_type": "code",
      "source": [
        "import numpy as np\n",
        "import pandas as pd\n",
        "import matplotlib.pyplot as plt\n",
        "\n",
        "import warnings\n",
        "warnings.filterwarnings(\"ignore\")\n",
        "\n",
        "# fix_yahoo_finance is used to fetch data \n",
        "import fix_yahoo_finance as yf\n",
        "yf.pdr_override()"
      ],
      "outputs": [],
      "execution_count": 1,
      "metadata": {
        "collapsed": false,
        "outputHidden": false,
        "inputHidden": false
      }
    },
    {
      "cell_type": "code",
      "source": [
        "# input\n",
        "symbol = 'BAC'\n",
        "start = '2018-01-01'\n",
        "end = '2019-01-01'\n",
        "\n",
        "# Read data \n",
        "df = yf.download(symbol,start,end)\n",
        "\n",
        "# View Columns\n",
        "df.head()"
      ],
      "outputs": [
        {
          "output_type": "stream",
          "name": "stdout",
          "text": [
            "[*********************100%***********************]  1 of 1 downloaded\n"
          ]
        },
        {
          "output_type": "execute_result",
          "execution_count": 2,
          "data": {
            "text/plain": [
              "                 Open       High        Low      Close  Adj Close    Volume\n",
              "Date                                                                       \n",
              "2018-01-02  29.750000  29.900000  29.610001  29.900000  29.211069  57121600\n",
              "2018-01-03  29.900000  29.940001  29.690001  29.799999  29.113373  57865700\n",
              "2018-01-04  29.969999  30.440001  29.879999  30.190001  29.494387  76512500\n",
              "2018-01-05  30.370001  30.420000  30.049999  30.330000  29.631161  56445200\n",
              "2018-01-08  30.230000  30.270000  30.049999  30.120001  29.426003  42914800"
            ],
            "text/html": [
              "<div>\n",
              "<style scoped>\n",
              "    .dataframe tbody tr th:only-of-type {\n",
              "        vertical-align: middle;\n",
              "    }\n",
              "\n",
              "    .dataframe tbody tr th {\n",
              "        vertical-align: top;\n",
              "    }\n",
              "\n",
              "    .dataframe thead th {\n",
              "        text-align: right;\n",
              "    }\n",
              "</style>\n",
              "<table border=\"1\" class=\"dataframe\">\n",
              "  <thead>\n",
              "    <tr style=\"text-align: right;\">\n",
              "      <th></th>\n",
              "      <th>Open</th>\n",
              "      <th>High</th>\n",
              "      <th>Low</th>\n",
              "      <th>Close</th>\n",
              "      <th>Adj Close</th>\n",
              "      <th>Volume</th>\n",
              "    </tr>\n",
              "    <tr>\n",
              "      <th>Date</th>\n",
              "      <th></th>\n",
              "      <th></th>\n",
              "      <th></th>\n",
              "      <th></th>\n",
              "      <th></th>\n",
              "      <th></th>\n",
              "    </tr>\n",
              "  </thead>\n",
              "  <tbody>\n",
              "    <tr>\n",
              "      <th>2018-01-02</th>\n",
              "      <td>29.750000</td>\n",
              "      <td>29.900000</td>\n",
              "      <td>29.610001</td>\n",
              "      <td>29.900000</td>\n",
              "      <td>29.211069</td>\n",
              "      <td>57121600</td>\n",
              "    </tr>\n",
              "    <tr>\n",
              "      <th>2018-01-03</th>\n",
              "      <td>29.900000</td>\n",
              "      <td>29.940001</td>\n",
              "      <td>29.690001</td>\n",
              "      <td>29.799999</td>\n",
              "      <td>29.113373</td>\n",
              "      <td>57865700</td>\n",
              "    </tr>\n",
              "    <tr>\n",
              "      <th>2018-01-04</th>\n",
              "      <td>29.969999</td>\n",
              "      <td>30.440001</td>\n",
              "      <td>29.879999</td>\n",
              "      <td>30.190001</td>\n",
              "      <td>29.494387</td>\n",
              "      <td>76512500</td>\n",
              "    </tr>\n",
              "    <tr>\n",
              "      <th>2018-01-05</th>\n",
              "      <td>30.370001</td>\n",
              "      <td>30.420000</td>\n",
              "      <td>30.049999</td>\n",
              "      <td>30.330000</td>\n",
              "      <td>29.631161</td>\n",
              "      <td>56445200</td>\n",
              "    </tr>\n",
              "    <tr>\n",
              "      <th>2018-01-08</th>\n",
              "      <td>30.230000</td>\n",
              "      <td>30.270000</td>\n",
              "      <td>30.049999</td>\n",
              "      <td>30.120001</td>\n",
              "      <td>29.426003</td>\n",
              "      <td>42914800</td>\n",
              "    </tr>\n",
              "  </tbody>\n",
              "</table>\n",
              "</div>"
            ]
          },
          "metadata": {}
        }
      ],
      "execution_count": 2,
      "metadata": {
        "collapsed": false,
        "outputHidden": false,
        "inputHidden": false
      }
    },
    {
      "cell_type": "code",
      "source": [
        "df['Returns'] = df['Adj Close'].pct_change()"
      ],
      "outputs": [],
      "execution_count": 3,
      "metadata": {
        "collapsed": false,
        "outputHidden": false,
        "inputHidden": false
      }
    },
    {
      "cell_type": "code",
      "source": [
        "df = df.dropna()\n",
        "df.head()"
      ],
      "outputs": [
        {
          "output_type": "execute_result",
          "execution_count": 4,
          "data": {
            "text/plain": [
              "                 Open       High        Low      Close  Adj Close    Volume  \\\n",
              "Date                                                                          \n",
              "2018-01-03  29.900000  29.940001  29.690001  29.799999  29.113373  57865700   \n",
              "2018-01-04  29.969999  30.440001  29.879999  30.190001  29.494387  76512500   \n",
              "2018-01-05  30.370001  30.420000  30.049999  30.330000  29.631161  56445200   \n",
              "2018-01-08  30.230000  30.270000  30.049999  30.120001  29.426003  42914800   \n",
              "2018-01-09  30.200001  30.540001  30.129999  30.270000  29.572544  69479100   \n",
              "\n",
              "             Returns  \n",
              "Date                  \n",
              "2018-01-03 -0.003344  \n",
              "2018-01-04  0.013087  \n",
              "2018-01-05  0.004637  \n",
              "2018-01-08 -0.006924  \n",
              "2018-01-09  0.004980  "
            ],
            "text/html": [
              "<div>\n",
              "<style scoped>\n",
              "    .dataframe tbody tr th:only-of-type {\n",
              "        vertical-align: middle;\n",
              "    }\n",
              "\n",
              "    .dataframe tbody tr th {\n",
              "        vertical-align: top;\n",
              "    }\n",
              "\n",
              "    .dataframe thead th {\n",
              "        text-align: right;\n",
              "    }\n",
              "</style>\n",
              "<table border=\"1\" class=\"dataframe\">\n",
              "  <thead>\n",
              "    <tr style=\"text-align: right;\">\n",
              "      <th></th>\n",
              "      <th>Open</th>\n",
              "      <th>High</th>\n",
              "      <th>Low</th>\n",
              "      <th>Close</th>\n",
              "      <th>Adj Close</th>\n",
              "      <th>Volume</th>\n",
              "      <th>Returns</th>\n",
              "    </tr>\n",
              "    <tr>\n",
              "      <th>Date</th>\n",
              "      <th></th>\n",
              "      <th></th>\n",
              "      <th></th>\n",
              "      <th></th>\n",
              "      <th></th>\n",
              "      <th></th>\n",
              "      <th></th>\n",
              "    </tr>\n",
              "  </thead>\n",
              "  <tbody>\n",
              "    <tr>\n",
              "      <th>2018-01-03</th>\n",
              "      <td>29.900000</td>\n",
              "      <td>29.940001</td>\n",
              "      <td>29.690001</td>\n",
              "      <td>29.799999</td>\n",
              "      <td>29.113373</td>\n",
              "      <td>57865700</td>\n",
              "      <td>-0.003344</td>\n",
              "    </tr>\n",
              "    <tr>\n",
              "      <th>2018-01-04</th>\n",
              "      <td>29.969999</td>\n",
              "      <td>30.440001</td>\n",
              "      <td>29.879999</td>\n",
              "      <td>30.190001</td>\n",
              "      <td>29.494387</td>\n",
              "      <td>76512500</td>\n",
              "      <td>0.013087</td>\n",
              "    </tr>\n",
              "    <tr>\n",
              "      <th>2018-01-05</th>\n",
              "      <td>30.370001</td>\n",
              "      <td>30.420000</td>\n",
              "      <td>30.049999</td>\n",
              "      <td>30.330000</td>\n",
              "      <td>29.631161</td>\n",
              "      <td>56445200</td>\n",
              "      <td>0.004637</td>\n",
              "    </tr>\n",
              "    <tr>\n",
              "      <th>2018-01-08</th>\n",
              "      <td>30.230000</td>\n",
              "      <td>30.270000</td>\n",
              "      <td>30.049999</td>\n",
              "      <td>30.120001</td>\n",
              "      <td>29.426003</td>\n",
              "      <td>42914800</td>\n",
              "      <td>-0.006924</td>\n",
              "    </tr>\n",
              "    <tr>\n",
              "      <th>2018-01-09</th>\n",
              "      <td>30.200001</td>\n",
              "      <td>30.540001</td>\n",
              "      <td>30.129999</td>\n",
              "      <td>30.270000</td>\n",
              "      <td>29.572544</td>\n",
              "      <td>69479100</td>\n",
              "      <td>0.004980</td>\n",
              "    </tr>\n",
              "  </tbody>\n",
              "</table>\n",
              "</div>"
            ]
          },
          "metadata": {}
        }
      ],
      "execution_count": 4,
      "metadata": {
        "collapsed": false,
        "outputHidden": false,
        "inputHidden": false
      }
    },
    {
      "cell_type": "code",
      "source": [
        "returns = np.array(df['Returns'])\n",
        "wins = returns[returns > 0]\n",
        "losses = returns[returns <= 0]\n",
        "# W = Winning probability\n",
        "# R = Win/loss ratio\n",
        "W = len(wins) / len(returns)\n",
        "R = np.mean(wins) / np.abs(np.mean(losses))\n",
        "Kelly = W - ( (1 - W) / R )"
      ],
      "outputs": [],
      "execution_count": 5,
      "metadata": {
        "collapsed": false,
        "outputHidden": false,
        "inputHidden": false
      }
    },
    {
      "cell_type": "code",
      "source": [
        "# Kelly value negative means the expected returns will be negative\n",
        "# Kelly value positive means the expected returns will be positive\n",
        "print('Kelly Criterion: {}%'.format(np.round(Kelly, 3)))"
      ],
      "outputs": [
        {
          "output_type": "stream",
          "name": "stdout",
          "text": [
            "Kelly Criterion: -0.056%\n"
          ]
        }
      ],
      "execution_count": 6,
      "metadata": {
        "collapsed": false,
        "outputHidden": false,
        "inputHidden": false
      }
    }
  ],
  "metadata": {
    "kernel_info": {
      "name": "python3"
    },
    "language_info": {
      "codemirror_mode": {
        "name": "ipython",
        "version": 3
      },
      "pygments_lexer": "ipython3",
      "mimetype": "text/x-python",
      "name": "python",
      "nbconvert_exporter": "python",
      "version": "3.5.5",
      "file_extension": ".py"
    },
    "kernelspec": {
      "name": "python3",
      "language": "python",
      "display_name": "Python 3"
    },
    "nteract": {
      "version": "0.12.2"
    }
  },
  "nbformat": 4,
  "nbformat_minor": 4
}
