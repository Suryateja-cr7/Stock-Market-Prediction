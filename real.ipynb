{
 "cells": [
  {
   "cell_type": "code",
   "execution_count": 1,
   "metadata": {},
   "outputs": [
    {
     "name": "stderr",
     "output_type": "stream",
     "text": [
      "2023-11-17 12:54:15.284277: I tensorflow/core/util/port.cc:110] oneDNN custom operations are on. You may see slightly different numerical results due to floating-point round-off errors from different computation orders. To turn them off, set the environment variable `TF_ENABLE_ONEDNN_OPTS=0`.\n",
      "2023-11-17 12:54:15.320614: I tensorflow/tsl/cuda/cudart_stub.cc:28] Could not find cuda drivers on your machine, GPU will not be used.\n",
      "2023-11-17 12:54:15.574193: I tensorflow/tsl/cuda/cudart_stub.cc:28] Could not find cuda drivers on your machine, GPU will not be used.\n",
      "2023-11-17 12:54:15.575544: I tensorflow/core/platform/cpu_feature_guard.cc:182] This TensorFlow binary is optimized to use available CPU instructions in performance-critical operations.\n",
      "To enable the following instructions: AVX2 AVX512F AVX512_VNNI FMA, in other operations, rebuild TensorFlow with the appropriate compiler flags.\n",
      "2023-11-17 12:54:16.493942: W tensorflow/compiler/tf2tensorrt/utils/py_utils.cc:38] TF-TRT Warning: Could not find TensorRT\n"
     ]
    }
   ],
   "source": [
    "import math\n",
    "import pandas_datareader as web\n",
    "import numpy as np\n",
    "import pandas as pd\n",
    "from sklearn.preprocessing import MinMaxScaler\n",
    "from keras.models import Sequential\n",
    "from keras.layers import Dense,LSTM,Bidirectional\n",
    "import matplotlib.pyplot as plt\n",
    "# plt.style.use('fivethirtyeight')\n",
    "import yfinance as yf"
   ]
  },
  {
   "cell_type": "code",
   "execution_count": 2,
   "metadata": {},
   "outputs": [
    {
     "name": "stdout",
     "output_type": "stream",
     "text": [
      "[*********************100%%**********************]  1 of 1 completed\n"
     ]
    },
    {
     "data": {
      "text/html": [
       "<div>\n",
       "<style scoped>\n",
       "    .dataframe tbody tr th:only-of-type {\n",
       "        vertical-align: middle;\n",
       "    }\n",
       "\n",
       "    .dataframe tbody tr th {\n",
       "        vertical-align: top;\n",
       "    }\n",
       "\n",
       "    .dataframe thead th {\n",
       "        text-align: right;\n",
       "    }\n",
       "</style>\n",
       "<table border=\"1\" class=\"dataframe\">\n",
       "  <thead>\n",
       "    <tr style=\"text-align: right;\">\n",
       "      <th></th>\n",
       "      <th>Open</th>\n",
       "      <th>High</th>\n",
       "      <th>Low</th>\n",
       "      <th>Close</th>\n",
       "      <th>Adj Close</th>\n",
       "      <th>Volume</th>\n",
       "    </tr>\n",
       "    <tr>\n",
       "      <th>Date</th>\n",
       "      <th></th>\n",
       "      <th></th>\n",
       "      <th></th>\n",
       "      <th></th>\n",
       "      <th></th>\n",
       "      <th></th>\n",
       "    </tr>\n",
       "  </thead>\n",
       "  <tbody>\n",
       "    <tr>\n",
       "      <th>2005-10-19</th>\n",
       "      <td>127.800003</td>\n",
       "      <td>139.740005</td>\n",
       "      <td>116.050003</td>\n",
       "      <td>138.570007</td>\n",
       "      <td>136.711136</td>\n",
       "      <td>152125030</td>\n",
       "    </tr>\n",
       "    <tr>\n",
       "      <th>2005-10-20</th>\n",
       "      <td>140.199997</td>\n",
       "      <td>141.550003</td>\n",
       "      <td>127.400002</td>\n",
       "      <td>129.380005</td>\n",
       "      <td>127.644409</td>\n",
       "      <td>39078530</td>\n",
       "    </tr>\n",
       "    <tr>\n",
       "      <th>2005-10-21</th>\n",
       "      <td>127.050003</td>\n",
       "      <td>139.000000</td>\n",
       "      <td>127.050003</td>\n",
       "      <td>134.770004</td>\n",
       "      <td>132.962097</td>\n",
       "      <td>25623135</td>\n",
       "    </tr>\n",
       "    <tr>\n",
       "      <th>2005-10-24</th>\n",
       "      <td>137.399994</td>\n",
       "      <td>138.000000</td>\n",
       "      <td>129.660004</td>\n",
       "      <td>130.789993</td>\n",
       "      <td>129.035477</td>\n",
       "      <td>11125060</td>\n",
       "    </tr>\n",
       "    <tr>\n",
       "      <th>2005-10-25</th>\n",
       "      <td>128.259995</td>\n",
       "      <td>132.729996</td>\n",
       "      <td>128.259995</td>\n",
       "      <td>131.839996</td>\n",
       "      <td>130.071396</td>\n",
       "      <td>6320275</td>\n",
       "    </tr>\n",
       "    <tr>\n",
       "      <th>...</th>\n",
       "      <td>...</td>\n",
       "      <td>...</td>\n",
       "      <td>...</td>\n",
       "      <td>...</td>\n",
       "      <td>...</td>\n",
       "      <td>...</td>\n",
       "    </tr>\n",
       "    <tr>\n",
       "      <th>2023-09-11</th>\n",
       "      <td>24.299999</td>\n",
       "      <td>24.400000</td>\n",
       "      <td>23.750000</td>\n",
       "      <td>24.000000</td>\n",
       "      <td>24.000000</td>\n",
       "      <td>93344063</td>\n",
       "    </tr>\n",
       "    <tr>\n",
       "      <th>2023-09-12</th>\n",
       "      <td>24.150000</td>\n",
       "      <td>24.200001</td>\n",
       "      <td>22.799999</td>\n",
       "      <td>22.799999</td>\n",
       "      <td>22.799999</td>\n",
       "      <td>146034046</td>\n",
       "    </tr>\n",
       "    <tr>\n",
       "      <th>2023-09-13</th>\n",
       "      <td>22.200001</td>\n",
       "      <td>22.500000</td>\n",
       "      <td>21.700001</td>\n",
       "      <td>22.150000</td>\n",
       "      <td>22.150000</td>\n",
       "      <td>236321372</td>\n",
       "    </tr>\n",
       "    <tr>\n",
       "      <th>2023-09-14</th>\n",
       "      <td>22.350000</td>\n",
       "      <td>23.250000</td>\n",
       "      <td>21.750000</td>\n",
       "      <td>23.250000</td>\n",
       "      <td>23.250000</td>\n",
       "      <td>178268509</td>\n",
       "    </tr>\n",
       "    <tr>\n",
       "      <th>2023-09-15</th>\n",
       "      <td>23.600000</td>\n",
       "      <td>24.400000</td>\n",
       "      <td>23.150000</td>\n",
       "      <td>24.200001</td>\n",
       "      <td>24.200001</td>\n",
       "      <td>225766744</td>\n",
       "    </tr>\n",
       "  </tbody>\n",
       "</table>\n",
       "<p>4419 rows × 6 columns</p>\n",
       "</div>"
      ],
      "text/plain": [
       "                  Open        High         Low       Close   Adj Close  \\\n",
       "Date                                                                     \n",
       "2005-10-19  127.800003  139.740005  116.050003  138.570007  136.711136   \n",
       "2005-10-20  140.199997  141.550003  127.400002  129.380005  127.644409   \n",
       "2005-10-21  127.050003  139.000000  127.050003  134.770004  132.962097   \n",
       "2005-10-24  137.399994  138.000000  129.660004  130.789993  129.035477   \n",
       "2005-10-25  128.259995  132.729996  128.259995  131.839996  130.071396   \n",
       "...                ...         ...         ...         ...         ...   \n",
       "2023-09-11   24.299999   24.400000   23.750000   24.000000   24.000000   \n",
       "2023-09-12   24.150000   24.200001   22.799999   22.799999   22.799999   \n",
       "2023-09-13   22.200001   22.500000   21.700001   22.150000   22.150000   \n",
       "2023-09-14   22.350000   23.250000   21.750000   23.250000   23.250000   \n",
       "2023-09-15   23.600000   24.400000   23.150000   24.200001   24.200001   \n",
       "\n",
       "               Volume  \n",
       "Date                   \n",
       "2005-10-19  152125030  \n",
       "2005-10-20   39078530  \n",
       "2005-10-21   25623135  \n",
       "2005-10-24   11125060  \n",
       "2005-10-25    6320275  \n",
       "...               ...  \n",
       "2023-09-11   93344063  \n",
       "2023-09-12  146034046  \n",
       "2023-09-13  236321372  \n",
       "2023-09-14  178268509  \n",
       "2023-09-15  225766744  \n",
       "\n",
       "[4419 rows x 6 columns]"
      ]
     },
     "execution_count": 2,
     "metadata": {},
     "output_type": "execute_result"
    }
   ],
   "source": [
    "df = yf.download('SUZLON.NS',start='2000-01-01',end='2023-09-16')\n",
    "df"
   ]
  },
  {
   "cell_type": "code",
   "execution_count": 3,
   "metadata": {},
   "outputs": [
    {
     "data": {
      "image/png": "[encoded data removed]",
      "text/plain": [
       "<Figure size 1200x800 with 1 Axes>"
      ]
     },
     "metadata": {},
     "output_type": "display_data"
    }
   ],
   "source": [
    "plt.figure(figsize=(12,8))\n",
    "plt.title('Close price History')\n",
    "plt.plot(df['Close'])\n",
    "plt.xlabel('Date',fontsize=18)\n",
    "plt.xlabel('price',fontsize=18)\n",
    "plt.show()"
   ]
  },
  {
   "cell_type": "code",
   "execution_count": 5,
   "metadata": {},
   "outputs": [
    {
     "name": "stdout",
     "output_type": "stream",
     "text": [
      "                  Open        High         Low       Close   Adj Close  \\\n",
      "Date                                                                     \n",
      "2005-10-19  127.800003  139.740005  116.050003  138.570007  136.711136   \n",
      "2005-10-20  140.199997  141.550003  127.400002  129.380005  127.644409   \n",
      "2005-10-21  127.050003  139.000000  127.050003  134.770004  132.962097   \n",
      "2005-10-24  137.399994  138.000000  129.660004  130.789993  129.035477   \n",
      "2005-10-25  128.259995  132.729996  128.259995  131.839996  130.071396   \n",
      "...                ...         ...         ...         ...         ...   \n",
      "2023-09-11   24.299999   24.400000   23.750000   24.000000   24.000000   \n",
      "2023-09-12   24.150000   24.200001   22.799999   22.799999   22.799999   \n",
      "2023-09-13   22.200001   22.500000   21.700001   22.150000   22.150000   \n",
      "2023-09-14   22.350000   23.250000   21.750000   23.250000   23.250000   \n",
      "2023-09-15   23.600000   24.400000   23.150000   24.200001   24.200001   \n",
      "\n",
      "               Volume  \n",
      "Date                   \n",
      "2005-10-19  152125030  \n",
      "2005-10-20   39078530  \n",
      "2005-10-21   25623135  \n",
      "2005-10-24   11125060  \n",
      "2005-10-25    6320275  \n",
      "...               ...  \n",
      "2023-09-11   93344063  \n",
      "2023-09-12  146034046  \n",
      "2023-09-13  236321372  \n",
      "2023-09-14  178268509  \n",
      "2023-09-15  225766744  \n",
      "\n",
      "[4419 rows x 6 columns]\n"
     ]
    },
    {
     "data": {
      "text/plain": [
       "(4419, 1)"
      ]
     },
     "execution_count": 5,
     "metadata": {},
     "output_type": "execute_result"
    }
   ],
   "source": [
    "data = df.filter(['Adj Close'])\n",
    "dataset = data.values\n",
    "training_data_len = math.ceil(len(dataset)*0.1)\n",
    "x=df\n",
    "print(x)\n",
    "training_data_len = math.ceil(len(dataset))\n",
    "dataset.shape"
   ]
  },
  {
   "cell_type": "code",
   "execution_count": 6,
   "metadata": {},
   "outputs": [
    {
     "data": {
      "text/plain": [
       "array([[0.29948014],\n",
       "       [0.27936098],\n",
       "       [0.29116099],\n",
       "       ...,\n",
       "       [0.04526781],\n",
       "       [0.04770872],\n",
       "       [0.04981678]])"
      ]
     },
     "execution_count": 6,
     "metadata": {},
     "output_type": "execute_result"
    }
   ],
   "source": [
    "scaler = MinMaxScaler(feature_range=(0,1))\n",
    "scaled_data = scaler.fit_transform(dataset)\n",
    "scaled_data"
   ]
  },
  {
   "cell_type": "code",
   "execution_count": 7,
   "metadata": {},
   "outputs": [
    {
     "name": "stdout",
     "output_type": "stream",
     "text": [
      "[array([0.29948014, 0.27936098, 0.29116099, 0.28244778, 0.28474649,\n",
      "       0.29731273, 0.29203669, 0.28319211, 0.3090033 , 0.3188549 ,\n",
      "       0.3188549 , 0.3137102 , 0.33047979, 0.32299259, 0.32975729,\n",
      "       0.33575586, 0.32551024, 0.32513802, 0.33054547, 0.32708646,\n",
      "       0.32191986, 0.31651244, 0.32032169, 0.32150389, 0.32848763,\n",
      "       0.35572177, 0.37111213, 0.36885716, 0.37428651, 0.36288057,\n",
      "       0.36618633, 0.35585315, 0.35278816, 0.3581737 , 0.38597709,\n",
      "       0.39315779, 0.39569734, 0.40524241, 0.39136259, 0.40044799])]\n",
      "[0.39891551020983085]\n",
      "\n"
     ]
    }
   ],
   "source": [
    "train_data  = scaled_data[0:training_data_len,:]\n",
    "x_train = []\n",
    "y_train = []\n",
    "for i in range(40,len(train_data)):\n",
    "    x_train.append(train_data[i-40:i,0])\n",
    "    y_train.append(train_data[i,0])\n",
    "    if i <= 40:\n",
    "        print(x_train)\n",
    "        print(y_train)\n",
    "        print()"
   ]
  },
  {
   "cell_type": "code",
   "execution_count": 8,
   "metadata": {},
   "outputs": [],
   "source": [
    "x_train,y_train = np.array(x_train),np.array(y_train)"
   ]
  },
  {
   "cell_type": "code",
   "execution_count": 9,
   "metadata": {},
   "outputs": [
    {
     "data": {
      "text/plain": [
       "(4379, 40, 1)"
      ]
     },
     "execution_count": 9,
     "metadata": {},
     "output_type": "execute_result"
    }
   ],
   "source": [
    "x_train = np.reshape(x_train,(x_train.shape[0],x_train.shape[1],1))\n",
    "x_train.shape"
   ]
  },
  {
   "cell_type": "code",
   "execution_count": 10,
   "metadata": {},
   "outputs": [],
   "source": [
    "model = Sequential()\n",
    "model.add((LSTM(50,return_sequences=True,input_shape = (x_train.shape[1],1))))\n",
    "model.add((LSTM(50,return_sequences=False,input_shape = (x_train.shape[1],1))))\n",
    "model.add(Dense(25))\n",
    "model.add(Dense(1))\n"
   ]
  },
  {
   "cell_type": "code",
   "execution_count": 11,
   "metadata": {},
   "outputs": [],
   "source": [
    "model.compile(optimizer='adam',loss='mse')\n"
   ]
  },
  {
   "cell_type": "code",
   "execution_count": 12,
   "metadata": {},
   "outputs": [
    {
     "name": "stdout",
     "output_type": "stream",
     "text": [
      "Epoch 1/50\n",
      "137/137 [==============================] - 5s 17ms/step - loss: 0.0026\n",
      "Epoch 2/50\n",
      "137/137 [==============================] - 2s 16ms/step - loss: 3.8480e-04\n",
      "Epoch 3/50\n",
      "137/137 [==============================] - 2s 14ms/step - loss: 3.4130e-04\n",
      "Epoch 4/50\n",
      "137/137 [==============================] - 2s 14ms/step - loss: 3.2660e-04\n",
      "Epoch 5/50\n",
      "137/137 [==============================] - 2s 13ms/step - loss: 2.7379e-04\n",
      "Epoch 6/50\n",
      "137/137 [==============================] - 2s 14ms/step - loss: 2.3980e-04\n",
      "Epoch 7/50\n",
      "137/137 [==============================] - 2s 14ms/step - loss: 2.4373e-04\n",
      "Epoch 8/50\n",
      "137/137 [==============================] - 2s 14ms/step - loss: 2.3058e-04\n",
      "Epoch 9/50\n",
      "137/137 [==============================] - 2s 14ms/step - loss: 2.3030e-04\n",
      "Epoch 10/50\n",
      "137/137 [==============================] - 2s 14ms/step - loss: 1.8025e-04\n",
      "Epoch 11/50\n",
      "137/137 [==============================] - 2s 14ms/step - loss: 1.6240e-04\n",
      "Epoch 12/50\n",
      "137/137 [==============================] - 2s 14ms/step - loss: 1.4715e-04\n",
      "Epoch 13/50\n",
      "137/137 [==============================] - 2s 14ms/step - loss: 1.2925e-04\n",
      "Epoch 14/50\n",
      "137/137 [==============================] - 2s 15ms/step - loss: 1.1898e-04\n",
      "Epoch 15/50\n",
      "137/137 [==============================] - 2s 15ms/step - loss: 1.4201e-04\n",
      "Epoch 16/50\n",
      "137/137 [==============================] - 3s 19ms/step - loss: 1.3029e-04\n",
      "Epoch 17/50\n",
      "137/137 [==============================] - 3s 18ms/step - loss: 1.1816e-04\n",
      "Epoch 18/50\n",
      "137/137 [==============================] - 2s 18ms/step - loss: 1.0441e-04\n",
      "Epoch 19/50\n",
      "137/137 [==============================] - 2s 18ms/step - loss: 1.0246e-04\n",
      "Epoch 20/50\n",
      "137/137 [==============================] - 3s 22ms/step - loss: 1.1286e-04\n",
      "Epoch 21/50\n",
      "137/137 [==============================] - 3s 19ms/step - loss: 1.1490e-04\n",
      "Epoch 22/50\n",
      "137/137 [==============================] - 3s 18ms/step - loss: 1.0089e-04\n",
      "Epoch 23/50\n",
      "137/137 [==============================] - 3s 19ms/step - loss: 1.0140e-04\n",
      "Epoch 24/50\n",
      "137/137 [==============================] - 2s 18ms/step - loss: 9.9953e-05\n",
      "Epoch 25/50\n",
      "137/137 [==============================] - 2s 18ms/step - loss: 1.1603e-04\n",
      "Epoch 26/50\n",
      "137/137 [==============================] - 3s 18ms/step - loss: 9.9670e-05\n",
      "Epoch 27/50\n",
      "137/137 [==============================] - 2s 18ms/step - loss: 9.5364e-05\n",
      "Epoch 28/50\n",
      "137/137 [==============================] - 2s 18ms/step - loss: 1.1925e-04\n",
      "Epoch 29/50\n",
      "137/137 [==============================] - 2s 18ms/step - loss: 1.0394e-04\n",
      "Epoch 30/50\n",
      "137/137 [==============================] - 3s 18ms/step - loss: 1.3273e-04\n",
      "Epoch 31/50\n",
      "137/137 [==============================] - 3s 20ms/step - loss: 9.4353e-05\n",
      "Epoch 32/50\n",
      "137/137 [==============================] - 3s 21ms/step - loss: 1.0205e-04\n",
      "Epoch 33/50\n",
      "137/137 [==============================] - 2s 18ms/step - loss: 1.0392e-04\n",
      "Epoch 34/50\n",
      "137/137 [==============================] - 3s 18ms/step - loss: 1.0700e-04\n",
      "Epoch 35/50\n",
      "137/137 [==============================] - 2s 18ms/step - loss: 9.6070e-05\n",
      "Epoch 36/50\n",
      "137/137 [==============================] - 2s 18ms/step - loss: 1.1807e-04\n",
      "Epoch 37/50\n",
      "137/137 [==============================] - 2s 18ms/step - loss: 9.5923e-05\n",
      "Epoch 38/50\n",
      "137/137 [==============================] - 3s 20ms/step - loss: 9.1603e-05\n",
      "Epoch 39/50\n",
      "137/137 [==============================] - 3s 20ms/step - loss: 9.4017e-05\n",
      "Epoch 40/50\n",
      "137/137 [==============================] - 3s 18ms/step - loss: 1.0329e-04\n",
      "Epoch 41/50\n",
      "137/137 [==============================] - 2s 18ms/step - loss: 1.0399e-04\n",
      "Epoch 42/50\n",
      "137/137 [==============================] - 2s 18ms/step - loss: 9.4007e-05\n",
      "Epoch 43/50\n",
      "137/137 [==============================] - 2s 18ms/step - loss: 9.9191e-05\n",
      "Epoch 44/50\n",
      "137/137 [==============================] - 2s 18ms/step - loss: 9.7225e-05\n",
      "Epoch 45/50\n",
      "137/137 [==============================] - 2s 18ms/step - loss: 1.2837e-04\n",
      "Epoch 46/50\n",
      "137/137 [==============================] - 2s 18ms/step - loss: 9.3547e-05\n",
      "Epoch 47/50\n",
      "137/137 [==============================] - 3s 18ms/step - loss: 9.8033e-05\n",
      "Epoch 48/50\n",
      "137/137 [==============================] - 2s 18ms/step - loss: 1.0678e-04\n",
      "Epoch 49/50\n",
      "137/137 [==============================] - 3s 18ms/step - loss: 9.2110e-05\n",
      "Epoch 50/50\n",
      "137/137 [==============================] - 2s 18ms/step - loss: 9.5297e-05\n"
     ]
    },
    {
     "data": {
      "text/plain": [
       "<keras.src.callbacks.History at 0x7f1adc63b150>"
      ]
     },
     "execution_count": 12,
     "metadata": {},
     "output_type": "execute_result"
    }
   ],
   "source": [
    "model.fit(x_train,y_train,epochs=50)"
   ]
  },
  {
   "cell_type": "code",
   "execution_count": null,
   "metadata": {},
   "outputs": [],
   "source": []
  }
 ],
 "metadata": {
  "kernelspec": {
   "display_name": "base",
   "language": "python",
   "name": "python3"
  },
  "language_info": {
   "codemirror_mode": {
    "name": "ipython",
    "version": 3
   },
   "file_extension": ".py",
   "mimetype": "text/x-python",
   "name": "python",
   "nbconvert_exporter": "python",
   "pygments_lexer": "ipython3",
   "version": "3.11.4"
  }
 },
 "nbformat": 4,
 "nbformat_minor": 2
}
