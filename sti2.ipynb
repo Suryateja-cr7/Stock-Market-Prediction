{
 "cells": [
  {
   "cell_type": "code",
   "execution_count": 1,
   "metadata": {},
   "outputs": [
    {
     "name": "stderr",
     "output_type": "stream",
     "text": [
      "2023-10-07 00:02:05.166592: I tensorflow/core/util/port.cc:110] oneDNN custom operations are on. You may see slightly different numerical results due to floating-point round-off errors from different computation orders. To turn them off, set the environment variable `TF_ENABLE_ONEDNN_OPTS=0`.\n",
      "2023-10-07 00:02:05.350859: I tensorflow/tsl/cuda/cudart_stub.cc:28] Could not find cuda drivers on your machine, GPU will not be used.\n",
      "2023-10-07 00:02:06.438655: I tensorflow/tsl/cuda/cudart_stub.cc:28] Could not find cuda drivers on your machine, GPU will not be used.\n",
      "2023-10-07 00:02:06.446364: I tensorflow/core/platform/cpu_feature_guard.cc:182] This TensorFlow binary is optimized to use available CPU instructions in performance-critical operations.\n",
      "To enable the following instructions: AVX2 AVX512F AVX512_VNNI FMA, in other operations, rebuild TensorFlow with the appropriate compiler flags.\n",
      "2023-10-07 00:02:10.374347: W tensorflow/compiler/tf2tensorrt/utils/py_utils.cc:38] TF-TRT Warning: Could not find TensorRT\n"
     ]
    }
   ],
   "source": [
    "\n",
    "# from formulas import *\n",
    "import pandas as pd\n",
    "import numpy as np\n",
    "import datetime as dt\n",
    "import seaborn as sns\n",
    "import matplotlib.pyplot as plt\n",
    "%matplotlib inline\n",
    "\n",
    "from sklearn.preprocessing import MinMaxScaler\n",
    "import math\n",
    "import tensorflow as tf\n",
    "import yfinance as yf\n",
    "keras = tf.keras\n",
    "import statsmodels.api as sm\n",
    "from statsmodels.tsa.stattools import adfuller\n",
    "import statsmodels.tsa.api as tsa\n"
   ]
  },
  {
   "cell_type": "code",
   "execution_count": 2,
   "metadata": {},
   "outputs": [
    {
     "name": "stdout",
     "output_type": "stream",
     "text": [
      "[*********************100%%**********************]  1 of 1 completed\n"
     ]
    }
   ],
   "source": [
    "df = yf.download('AAPL',start='2000-01-01',end='2023-09-01')\n",
    "df\n",
    "series=df['Close']"
   ]
  },
  {
   "cell_type": "code",
   "execution_count": 3,
   "metadata": {},
   "outputs": [
    {
     "data": {
      "text/plain": [
       "Date\n",
       "2000-01-03      0.999442\n",
       "2000-01-04      0.915179\n",
       "2000-01-05      0.928571\n",
       "2000-01-06      0.848214\n",
       "2000-01-07      0.888393\n",
       "                 ...    \n",
       "2023-08-25    178.610001\n",
       "2023-08-28    180.190002\n",
       "2023-08-29    184.119995\n",
       "2023-08-30    187.649994\n",
       "2023-08-31    187.869995\n",
       "Name: Close, Length: 5954, dtype: float64"
      ]
     },
     "execution_count": 3,
     "metadata": {},
     "output_type": "execute_result"
    }
   ],
   "source": [
    "df['Close']"
   ]
  },
  {
   "cell_type": "code",
   "execution_count": 4,
   "metadata": {},
   "outputs": [
    {
     "name": "stdout",
     "output_type": "stream",
     "text": [
      "ADF Statistic: 2.4042850364313\n",
      "p-value: 0.9990123119295223\n",
      "Critical Values:\n",
      "   1%: -3.4314545308629105\n",
      "   5%: -2.8620280999462744\n",
      "   10%: -2.567029813313002\n"
     ]
    }
   ],
   "source": [
    "\n",
    "result = adfuller(series)\n",
    "adf_statistic = result[0]\n",
    "p_value = result[1]\n",
    "critical_values = result[4]\n",
    "\n",
    "print(f'ADF Statistic: {adf_statistic}')\n",
    "print(f'p-value: {p_value}')\n",
    "print('Critical Values:')\n",
    "for key, value in critical_values.items():\n",
    "    print(f'   {key}: {value}')"
   ]
  },
  {
   "cell_type": "code",
   "execution_count": 5,
   "metadata": {},
   "outputs": [],
   "source": [
    "a = series.diff()\n",
    "a.dropna(inplace = True)\n",
    "df['Close']=df['Close'].diff()\n"
   ]
  },
  {
   "cell_type": "code",
   "execution_count": 6,
   "metadata": {},
   "outputs": [
    {
     "name": "stdout",
     "output_type": "stream",
     "text": [
      "ADF Statistic: -14.815251610606897\n",
      "p-value: 2.0018244538649158e-27\n",
      "Critical Values:\n",
      "   1%: -3.4314545308629105\n",
      "   5%: -2.8620280999462744\n",
      "   10%: -2.567029813313002\n"
     ]
    }
   ],
   "source": [
    "result = adfuller(a)\n",
    "adf_statistic = result[0]\n",
    "p_value = result[1]\n",
    "critical_values = result[4]\n",
    "\n",
    "print(f'ADF Statistic: {adf_statistic}')\n",
    "print(f'p-value: {p_value}')\n",
    "print('Critical Values:')\n",
    "for key, value in critical_values.items():\n",
    "    print(f'   {key}: {value}')"
   ]
  },
  {
   "cell_type": "code",
   "execution_count": 7,
   "metadata": {},
   "outputs": [
    {
     "name": "stdout",
     "output_type": "stream",
     "text": [
      "Requirement already satisfied: pmdarima in /home/surya/anaconda3/lib/python3.11/site-packages (2.0.3)\n",
      "Requirement already satisfied: joblib>=0.11 in /home/surya/anaconda3/lib/python3.11/site-packages (from pmdarima) (1.2.0)\n",
      "Requirement already satisfied: Cython!=0.29.18,!=0.29.31,>=0.29 in /home/surya/anaconda3/lib/python3.11/site-packages (from pmdarima) (0.29.21)\n",
      "Requirement already satisfied: numpy>=1.21.2 in /home/surya/anaconda3/lib/python3.11/site-packages (from pmdarima) (1.25.2)\n",
      "Requirement already satisfied: pandas>=0.19 in /home/surya/anaconda3/lib/python3.11/site-packages (from pmdarima) (2.1.0)\n",
      "Requirement already satisfied: scikit-learn>=0.22 in /home/surya/anaconda3/lib/python3.11/site-packages (from pmdarima) (1.3.0)\n",
      "Requirement already satisfied: scipy>=1.3.2 in /home/surya/anaconda3/lib/python3.11/site-packages (from pmdarima) (1.11.1)\n",
      "Requirement already satisfied: statsmodels>=0.13.2 in /home/surya/anaconda3/lib/python3.11/site-packages (from pmdarima) (0.14.0)\n",
      "Requirement already satisfied: urllib3 in /home/surya/anaconda3/lib/python3.11/site-packages (from pmdarima) (1.26.16)\n",
      "Requirement already satisfied: setuptools!=50.0.0,>=38.6.0 in /home/surya/anaconda3/lib/python3.11/site-packages (from pmdarima) (68.1.2)\n",
      "Requirement already satisfied: python-dateutil>=2.8.2 in /home/surya/anaconda3/lib/python3.11/site-packages (from pandas>=0.19->pmdarima) (2.8.2)\n",
      "Requirement already satisfied: pytz>=2020.1 in /home/surya/anaconda3/lib/python3.11/site-packages (from pandas>=0.19->pmdarima) (2022.7)\n",
      "Requirement already satisfied: tzdata>=2022.1 in /home/surya/anaconda3/lib/python3.11/site-packages (from pandas>=0.19->pmdarima) (2023.3)\n",
      "Requirement already satisfied: threadpoolctl>=2.0.0 in /home/surya/anaconda3/lib/python3.11/site-packages (from scikit-learn>=0.22->pmdarima) (2.2.0)\n",
      "Requirement already satisfied: patsy>=0.5.2 in /home/surya/anaconda3/lib/python3.11/site-packages (from statsmodels>=0.13.2->pmdarima) (0.5.3)\n",
      "Requirement already satisfied: packaging>=21.3 in /home/surya/anaconda3/lib/python3.11/site-packages (from statsmodels>=0.13.2->pmdarima) (23.0)\n",
      "Requirement already satisfied: six in /home/surya/anaconda3/lib/python3.11/site-packages (from patsy>=0.5.2->statsmodels>=0.13.2->pmdarima) (1.16.0)\n",
      "Note: you may need to restart the kernel to use updated packages.\n"
     ]
    }
   ],
   "source": [
    "pip install pmdarima"
   ]
  },
  {
   "cell_type": "code",
   "execution_count": 8,
   "metadata": {},
   "outputs": [],
   "source": [
    "from pmdarima import auto_arima"
   ]
  },
  {
   "cell_type": "code",
   "execution_count": 9,
   "metadata": {},
   "outputs": [
    {
     "name": "stdout",
     "output_type": "stream",
     "text": [
      "Date\n",
      "2000-01-03    0.000000\n",
      "2000-01-04   -0.084263\n",
      "2000-01-05    0.013392\n",
      "2000-01-06   -0.080357\n",
      "2000-01-07    0.040179\n",
      "                ...   \n",
      "2023-08-25    2.229996\n",
      "2023-08-28    1.580002\n",
      "2023-08-29    3.929993\n",
      "2023-08-30    3.529999\n",
      "2023-08-31    0.220001\n",
      "Name: Close, Length: 5954, dtype: float64\n"
     ]
    },
    {
     "name": "stderr",
     "output_type": "stream",
     "text": [
      "/tmp/ipykernel_41380/2775205203.py:3: SettingWithCopyWarning: \n",
      "A value is trying to be set on a copy of a slice from a DataFrame\n",
      "\n",
      "See the caveats in the documentation: https://pandas.pydata.org/pandas-docs/stable/user_guide/indexing.html#returning-a-view-versus-a-copy\n",
      "  df['Close'][0]=0\n",
      "/tmp/ipykernel_41380/2775205203.py:3: FutureWarning: Series.__setitem__ treating keys as positions is deprecated. In a future version, integer keys will always be treated as labels (consistent with DataFrame behavior). To set a value by position, use `ser.iloc[pos] = value`\n",
      "  df['Close'][0]=0\n"
     ]
    }
   ],
   "source": [
    "df['Close']\n",
    "df['Close'].dropna(inplace=True)\n",
    "df['Close'][0]=0\n",
    "print(df['Close'])"
   ]
  },
  {
   "cell_type": "code",
   "execution_count": 10,
   "metadata": {},
   "outputs": [
    {
     "name": "stdout",
     "output_type": "stream",
     "text": [
      "Performing stepwise search to minimize aic\n",
      " ARIMA(2,1,2)(0,0,0)[0] intercept   : AIC=inf, Time=15.21 sec\n",
      " ARIMA(0,1,0)(0,0,0)[0] intercept   : AIC=22487.649, Time=0.25 sec\n",
      " ARIMA(1,1,0)(0,0,0)[0] intercept   : AIC=20700.054, Time=0.87 sec\n",
      " ARIMA(0,1,1)(0,0,0)[0] intercept   : AIC=inf, Time=6.73 sec\n",
      " ARIMA(0,1,0)(0,0,0)[0]             : AIC=22485.649, Time=0.23 sec\n",
      " ARIMA(2,1,0)(0,0,0)[0] intercept   : AIC=19971.212, Time=1.02 sec\n",
      " ARIMA(3,1,0)(0,0,0)[0] intercept   : AIC=19547.700, Time=1.40 sec\n",
      " ARIMA(4,1,0)(0,0,0)[0] intercept   : AIC=19169.602, Time=1.85 sec\n",
      " ARIMA(5,1,0)(0,0,0)[0] intercept   : AIC=19027.331, Time=2.13 sec\n",
      " ARIMA(5,1,1)(0,0,0)[0] intercept   : AIC=inf, Time=23.54 sec\n",
      " ARIMA(4,1,1)(0,0,0)[0] intercept   : AIC=inf, Time=19.28 sec\n",
      " ARIMA(5,1,0)(0,0,0)[0]             : AIC=19025.337, Time=0.96 sec\n",
      " ARIMA(4,1,0)(0,0,0)[0]             : AIC=19167.608, Time=0.84 sec\n",
      " ARIMA(5,1,1)(0,0,0)[0]             : AIC=inf, Time=6.12 sec\n",
      " ARIMA(4,1,1)(0,0,0)[0]             : AIC=inf, Time=4.49 sec\n",
      "\n",
      "Best model:  ARIMA(5,1,0)(0,0,0)[0]          \n",
      "Total fit time: 85.054 seconds\n"
     ]
    },
    {
     "data": {
      "text/html": [
       "<table class=\"simpletable\">\n",
       "<caption>SARIMAX Results</caption>\n",
       "<tr>\n",
       "  <th>Dep. Variable:</th>           <td>y</td>        <th>  No. Observations:  </th>   <td>5954</td>   \n",
       "</tr>\n",
       "<tr>\n",
       "  <th>Model:</th>           <td>SARIMAX(5, 1, 0)</td> <th>  Log Likelihood     </th> <td>-9506.669</td>\n",
       "</tr>\n",
       "<tr>\n",
       "  <th>Date:</th>            <td>Sat, 07 Oct 2023</td> <th>  AIC                </th> <td>19025.337</td>\n",
       "</tr>\n",
       "<tr>\n",
       "  <th>Time:</th>                <td>00:04:11</td>     <th>  BIC                </th> <td>19065.487</td>\n",
       "</tr>\n",
       "<tr>\n",
       "  <th>Sample:</th>                  <td>0</td>        <th>  HQIC               </th> <td>19039.286</td>\n",
       "</tr>\n",
       "<tr>\n",
       "  <th></th>                      <td> - 5954</td>     <th>                     </th>     <td> </td>    \n",
       "</tr>\n",
       "<tr>\n",
       "  <th>Covariance Type:</th>        <td>opg</td>       <th>                     </th>     <td> </td>    \n",
       "</tr>\n",
       "</table>\n",
       "<table class=\"simpletable\">\n",
       "<tr>\n",
       "     <td></td>       <th>coef</th>     <th>std err</th>      <th>z</th>      <th>P>|z|</th>  <th>[0.025</th>    <th>0.975]</th>  \n",
       "</tr>\n",
       "<tr>\n",
       "  <th>ar.L1</th>  <td>   -0.8759</td> <td>    0.005</td> <td> -179.317</td> <td> 0.000</td> <td>   -0.886</td> <td>   -0.866</td>\n",
       "</tr>\n",
       "<tr>\n",
       "  <th>ar.L2</th>  <td>   -0.7190</td> <td>    0.006</td> <td> -114.290</td> <td> 0.000</td> <td>   -0.731</td> <td>   -0.707</td>\n",
       "</tr>\n",
       "<tr>\n",
       "  <th>ar.L3</th>  <td>   -0.5556</td> <td>    0.006</td> <td>  -86.802</td> <td> 0.000</td> <td>   -0.568</td> <td>   -0.543</td>\n",
       "</tr>\n",
       "<tr>\n",
       "  <th>ar.L4</th>  <td>   -0.3788</td> <td>    0.006</td> <td>  -63.120</td> <td> 0.000</td> <td>   -0.391</td> <td>   -0.367</td>\n",
       "</tr>\n",
       "<tr>\n",
       "  <th>ar.L5</th>  <td>   -0.1552</td> <td>    0.005</td> <td>  -30.608</td> <td> 0.000</td> <td>   -0.165</td> <td>   -0.145</td>\n",
       "</tr>\n",
       "<tr>\n",
       "  <th>sigma2</th> <td>    1.4274</td> <td>    0.008</td> <td>  188.791</td> <td> 0.000</td> <td>    1.413</td> <td>    1.442</td>\n",
       "</tr>\n",
       "</table>\n",
       "<table class=\"simpletable\">\n",
       "<tr>\n",
       "  <th>Ljung-Box (L1) (Q):</th>      <td>4.75</td>   <th>  Jarque-Bera (JB):  </th> <td>135496.01</td>\n",
       "</tr>\n",
       "<tr>\n",
       "  <th>Prob(Q):</th>                 <td>0.03</td>   <th>  Prob(JB):          </th>   <td>0.00</td>   \n",
       "</tr>\n",
       "<tr>\n",
       "  <th>Heteroskedasticity (H):</th> <td>1411.13</td> <th>  Skew:              </th>   <td>0.46</td>   \n",
       "</tr>\n",
       "<tr>\n",
       "  <th>Prob(H) (two-sided):</th>     <td>0.00</td>   <th>  Kurtosis:          </th>   <td>26.35</td>  \n",
       "</tr>\n",
       "</table><br/><br/>Warnings:<br/>[1] Covariance matrix calculated using the outer product of gradients (complex-step)."
      ],
      "text/latex": [
       "\\begin{center}\n",
       "\\begin{tabular}{lclc}\n",
       "\\toprule\n",
       "\\textbf{Dep. Variable:}          &        y         & \\textbf{  No. Observations:  } &    5954     \\\\\n",
       "\\textbf{Model:}                  & SARIMAX(5, 1, 0) & \\textbf{  Log Likelihood     } & -9506.669   \\\\\n",
       "\\textbf{Date:}                   & Sat, 07 Oct 2023 & \\textbf{  AIC                } & 19025.337   \\\\\n",
       "\\textbf{Time:}                   &     00:04:11     & \\textbf{  BIC                } & 19065.487   \\\\\n",
       "\\textbf{Sample:}                 &        0         & \\textbf{  HQIC               } & 19039.286   \\\\\n",
       "\\textbf{}                        &      - 5954      & \\textbf{                     } &             \\\\\n",
       "\\textbf{Covariance Type:}        &       opg        & \\textbf{                     } &             \\\\\n",
       "\\bottomrule\n",
       "\\end{tabular}\n",
       "\\begin{tabular}{lcccccc}\n",
       "                & \\textbf{coef} & \\textbf{std err} & \\textbf{z} & \\textbf{P$> |$z$|$} & \\textbf{[0.025} & \\textbf{0.975]}  \\\\\n",
       "\\midrule\n",
       "\\textbf{ar.L1}  &      -0.8759  &        0.005     &  -179.317  &         0.000        &       -0.886    &       -0.866     \\\\\n",
       "\\textbf{ar.L2}  &      -0.7190  &        0.006     &  -114.290  &         0.000        &       -0.731    &       -0.707     \\\\\n",
       "\\textbf{ar.L3}  &      -0.5556  &        0.006     &   -86.802  &         0.000        &       -0.568    &       -0.543     \\\\\n",
       "\\textbf{ar.L4}  &      -0.3788  &        0.006     &   -63.120  &         0.000        &       -0.391    &       -0.367     \\\\\n",
       "\\textbf{ar.L5}  &      -0.1552  &        0.005     &   -30.608  &         0.000        &       -0.165    &       -0.145     \\\\\n",
       "\\textbf{sigma2} &       1.4274  &        0.008     &   188.791  &         0.000        &        1.413    &        1.442     \\\\\n",
       "\\bottomrule\n",
       "\\end{tabular}\n",
       "\\begin{tabular}{lclc}\n",
       "\\textbf{Ljung-Box (L1) (Q):}     &   4.75  & \\textbf{  Jarque-Bera (JB):  } & 135496.01  \\\\\n",
       "\\textbf{Prob(Q):}                &   0.03  & \\textbf{  Prob(JB):          } &    0.00    \\\\\n",
       "\\textbf{Heteroskedasticity (H):} & 1411.13 & \\textbf{  Skew:              } &    0.46    \\\\\n",
       "\\textbf{Prob(H) (two-sided):}    &   0.00  & \\textbf{  Kurtosis:          } &   26.35    \\\\\n",
       "\\bottomrule\n",
       "\\end{tabular}\n",
       "%\\caption{SARIMAX Results}\n",
       "\\end{center}\n",
       "\n",
       "Warnings: \\newline\n",
       " [1] Covariance matrix calculated using the outer product of gradients (complex-step)."
      ],
      "text/plain": [
       "<class 'statsmodels.iolib.summary.Summary'>\n",
       "\"\"\"\n",
       "                               SARIMAX Results                                \n",
       "==============================================================================\n",
       "Dep. Variable:                      y   No. Observations:                 5954\n",
       "Model:               SARIMAX(5, 1, 0)   Log Likelihood               -9506.669\n",
       "Date:                Sat, 07 Oct 2023   AIC                          19025.337\n",
       "Time:                        00:04:11   BIC                          19065.487\n",
       "Sample:                             0   HQIC                         19039.286\n",
       "                               - 5954                                         \n",
       "Covariance Type:                  opg                                         \n",
       "==============================================================================\n",
       "                 coef    std err          z      P>|z|      [0.025      0.975]\n",
       "------------------------------------------------------------------------------\n",
       "ar.L1         -0.8759      0.005   -179.317      0.000      -0.886      -0.866\n",
       "ar.L2         -0.7190      0.006   -114.290      0.000      -0.731      -0.707\n",
       "ar.L3         -0.5556      0.006    -86.802      0.000      -0.568      -0.543\n",
       "ar.L4         -0.3788      0.006    -63.120      0.000      -0.391      -0.367\n",
       "ar.L5         -0.1552      0.005    -30.608      0.000      -0.165      -0.145\n",
       "sigma2         1.4274      0.008    188.791      0.000       1.413       1.442\n",
       "===================================================================================\n",
       "Ljung-Box (L1) (Q):                   4.75   Jarque-Bera (JB):            135496.01\n",
       "Prob(Q):                              0.03   Prob(JB):                         0.00\n",
       "Heteroskedasticity (H):            1411.13   Skew:                             0.46\n",
       "Prob(H) (two-sided):                  0.00   Kurtosis:                        26.35\n",
       "===================================================================================\n",
       "\n",
       "Warnings:\n",
       "[1] Covariance matrix calculated using the outer product of gradients (complex-step).\n",
       "\"\"\""
      ]
     },
     "execution_count": 10,
     "metadata": {},
     "output_type": "execute_result"
    }
   ],
   "source": [
    "c = auto_arima(df['Close'],trace=True,suppress_warnings=True)\n",
    "c.summary()"
   ]
  },
  {
   "cell_type": "code",
   "execution_count": 11,
   "metadata": {},
   "outputs": [],
   "source": [
    "from statsmodels.tsa.arima_model import ARIMA"
   ]
  },
  {
   "cell_type": "code",
   "execution_count": 12,
   "metadata": {},
   "outputs": [
    {
     "name": "stdout",
     "output_type": "stream",
     "text": [
      "(5358, 6)\n"
     ]
    }
   ],
   "source": [
    "training_data_len = math.ceil(len(df)*0.1)\n",
    "train = df.iloc[:-training_data_len]\n",
    "test=df.iloc[-training_data_len:]\n",
    "print(train.shape)"
   ]
  },
  {
   "cell_type": "code",
   "execution_count": 13,
   "metadata": {},
   "outputs": [
    {
     "name": "stderr",
     "output_type": "stream",
     "text": [
      "/home/surya/anaconda3/lib/python3.11/site-packages/statsmodels/tsa/base/tsa_model.py:473: ValueWarning: A date index has been provided, but it has no associated frequency information and so will be ignored when e.g. forecasting.\n",
      "  self._init_dates(dates, freq)\n",
      "/home/surya/anaconda3/lib/python3.11/site-packages/statsmodels/tsa/base/tsa_model.py:473: ValueWarning: A date index has been provided, but it has no associated frequency information and so will be ignored when e.g. forecasting.\n",
      "  self._init_dates(dates, freq)\n",
      "/home/surya/anaconda3/lib/python3.11/site-packages/statsmodels/tsa/base/tsa_model.py:473: ValueWarning: A date index has been provided, but it has no associated frequency information and so will be ignored when e.g. forecasting.\n",
      "  self._init_dates(dates, freq)\n",
      "/home/surya/anaconda3/lib/python3.11/site-packages/statsmodels/tsa/statespace/sarimax.py:966: UserWarning: Non-stationary starting autoregressive parameters found. Using zeros as starting parameters.\n",
      "  warn('Non-stationary starting autoregressive parameters'\n",
      "/home/surya/anaconda3/lib/python3.11/site-packages/statsmodels/tsa/statespace/sarimax.py:978: UserWarning: Non-invertible starting MA parameters found. Using zeros as starting parameters.\n",
      "  warn('Non-invertible starting MA parameters found.'\n"
     ]
    },
    {
     "name": "stderr",
     "output_type": "stream",
     "text": [
      "/home/surya/anaconda3/lib/python3.11/site-packages/statsmodels/base/model.py:607: ConvergenceWarning: Maximum Likelihood optimization failed to converge. Check mle_retvals\n",
      "  warnings.warn(\"Maximum Likelihood optimization failed to \"\n"
     ]
    },
    {
     "data": {
      "text/html": [
       "<table class=\"simpletable\">\n",
       "<caption>SARIMAX Results</caption>\n",
       "<tr>\n",
       "  <th>Dep. Variable:</th>         <td>Close</td>      <th>  No. Observations:  </th>   <td>5358</td>   \n",
       "</tr>\n",
       "<tr>\n",
       "  <th>Model:</th>            <td>ARIMA(5, 0, 4)</td>  <th>  Log Likelihood     </th> <td>-5787.538</td>\n",
       "</tr>\n",
       "<tr>\n",
       "  <th>Date:</th>            <td>Sat, 07 Oct 2023</td> <th>  AIC                </th> <td>11597.076</td>\n",
       "</tr>\n",
       "<tr>\n",
       "  <th>Time:</th>                <td>00:04:33</td>     <th>  BIC                </th> <td>11669.526</td>\n",
       "</tr>\n",
       "<tr>\n",
       "  <th>Sample:</th>                  <td>0</td>        <th>  HQIC               </th> <td>11622.380</td>\n",
       "</tr>\n",
       "<tr>\n",
       "  <th></th>                      <td> - 5358</td>     <th>                     </th>     <td> </td>    \n",
       "</tr>\n",
       "<tr>\n",
       "  <th>Covariance Type:</th>        <td>opg</td>       <th>                     </th>     <td> </td>    \n",
       "</tr>\n",
       "</table>\n",
       "<table class=\"simpletable\">\n",
       "<tr>\n",
       "     <td></td>       <th>coef</th>     <th>std err</th>      <th>z</th>      <th>P>|z|</th>  <th>[0.025</th>    <th>0.975]</th>  \n",
       "</tr>\n",
       "<tr>\n",
       "  <th>const</th>  <td>    0.0247</td> <td>    0.009</td> <td>    2.792</td> <td> 0.005</td> <td>    0.007</td> <td>    0.042</td>\n",
       "</tr>\n",
       "<tr>\n",
       "  <th>ar.L1</th>  <td>    0.1568</td> <td>    0.008</td> <td>   19.693</td> <td> 0.000</td> <td>    0.141</td> <td>    0.172</td>\n",
       "</tr>\n",
       "<tr>\n",
       "  <th>ar.L2</th>  <td>   -0.2059</td> <td>    0.006</td> <td>  -32.027</td> <td> 0.000</td> <td>   -0.219</td> <td>   -0.193</td>\n",
       "</tr>\n",
       "<tr>\n",
       "  <th>ar.L3</th>  <td>    0.2941</td> <td>    0.007</td> <td>   45.166</td> <td> 0.000</td> <td>    0.281</td> <td>    0.307</td>\n",
       "</tr>\n",
       "<tr>\n",
       "  <th>ar.L4</th>  <td>   -0.8763</td> <td>    0.007</td> <td> -126.539</td> <td> 0.000</td> <td>   -0.890</td> <td>   -0.863</td>\n",
       "</tr>\n",
       "<tr>\n",
       "  <th>ar.L5</th>  <td>   -0.1476</td> <td>    0.004</td> <td>  -38.754</td> <td> 0.000</td> <td>   -0.155</td> <td>   -0.140</td>\n",
       "</tr>\n",
       "<tr>\n",
       "  <th>ma.L1</th>  <td>   -0.2655</td> <td>    0.008</td> <td>  -33.427</td> <td> 0.000</td> <td>   -0.281</td> <td>   -0.250</td>\n",
       "</tr>\n",
       "<tr>\n",
       "  <th>ma.L2</th>  <td>    0.2555</td> <td>    0.007</td> <td>   37.002</td> <td> 0.000</td> <td>    0.242</td> <td>    0.269</td>\n",
       "</tr>\n",
       "<tr>\n",
       "  <th>ma.L3</th>  <td>   -0.3392</td> <td>    0.007</td> <td>  -47.785</td> <td> 0.000</td> <td>   -0.353</td> <td>   -0.325</td>\n",
       "</tr>\n",
       "<tr>\n",
       "  <th>ma.L4</th>  <td>    0.9204</td> <td>    0.008</td> <td>  122.241</td> <td> 0.000</td> <td>    0.906</td> <td>    0.935</td>\n",
       "</tr>\n",
       "<tr>\n",
       "  <th>sigma2</th> <td>    0.5096</td> <td>    0.002</td> <td>  234.343</td> <td> 0.000</td> <td>    0.505</td> <td>    0.514</td>\n",
       "</tr>\n",
       "</table>\n",
       "<table class=\"simpletable\">\n",
       "<tr>\n",
       "  <th>Ljung-Box (L1) (Q):</th>      <td>0.02</td>  <th>  Jarque-Bera (JB):  </th> <td>495591.29</td>\n",
       "</tr>\n",
       "<tr>\n",
       "  <th>Prob(Q):</th>                 <td>0.89</td>  <th>  Prob(JB):          </th>   <td>0.00</td>   \n",
       "</tr>\n",
       "<tr>\n",
       "  <th>Heteroskedasticity (H):</th> <td>730.26</td> <th>  Skew:              </th>   <td>-0.00</td>  \n",
       "</tr>\n",
       "<tr>\n",
       "  <th>Prob(H) (two-sided):</th>     <td>0.00</td>  <th>  Kurtosis:          </th>   <td>50.12</td>  \n",
       "</tr>\n",
       "</table><br/><br/>Warnings:<br/>[1] Covariance matrix calculated using the outer product of gradients (complex-step)."
      ],
      "text/latex": [
       "\\begin{center}\n",
       "\\begin{tabular}{lclc}\n",
       "\\toprule\n",
       "\\textbf{Dep. Variable:}          &      Close       & \\textbf{  No. Observations:  } &    5358     \\\\\n",
       "\\textbf{Model:}                  &  ARIMA(5, 0, 4)  & \\textbf{  Log Likelihood     } & -5787.538   \\\\\n",
       "\\textbf{Date:}                   & Sat, 07 Oct 2023 & \\textbf{  AIC                } & 11597.076   \\\\\n",
       "\\textbf{Time:}                   &     00:04:33     & \\textbf{  BIC                } & 11669.526   \\\\\n",
       "\\textbf{Sample:}                 &        0         & \\textbf{  HQIC               } & 11622.380   \\\\\n",
       "\\textbf{}                        &      - 5358      & \\textbf{                     } &             \\\\\n",
       "\\textbf{Covariance Type:}        &       opg        & \\textbf{                     } &             \\\\\n",
       "\\bottomrule\n",
       "\\end{tabular}\n",
       "\\begin{tabular}{lcccccc}\n",
       "                & \\textbf{coef} & \\textbf{std err} & \\textbf{z} & \\textbf{P$> |$z$|$} & \\textbf{[0.025} & \\textbf{0.975]}  \\\\\n",
       "\\midrule\n",
       "\\textbf{const}  &       0.0247  &        0.009     &     2.792  &         0.005        &        0.007    &        0.042     \\\\\n",
       "\\textbf{ar.L1}  &       0.1568  &        0.008     &    19.693  &         0.000        &        0.141    &        0.172     \\\\\n",
       "\\textbf{ar.L2}  &      -0.2059  &        0.006     &   -32.027  &         0.000        &       -0.219    &       -0.193     \\\\\n",
       "\\textbf{ar.L3}  &       0.2941  &        0.007     &    45.166  &         0.000        &        0.281    &        0.307     \\\\\n",
       "\\textbf{ar.L4}  &      -0.8763  &        0.007     &  -126.539  &         0.000        &       -0.890    &       -0.863     \\\\\n",
       "\\textbf{ar.L5}  &      -0.1476  &        0.004     &   -38.754  &         0.000        &       -0.155    &       -0.140     \\\\\n",
       "\\textbf{ma.L1}  &      -0.2655  &        0.008     &   -33.427  &         0.000        &       -0.281    &       -0.250     \\\\\n",
       "\\textbf{ma.L2}  &       0.2555  &        0.007     &    37.002  &         0.000        &        0.242    &        0.269     \\\\\n",
       "\\textbf{ma.L3}  &      -0.3392  &        0.007     &   -47.785  &         0.000        &       -0.353    &       -0.325     \\\\\n",
       "\\textbf{ma.L4}  &       0.9204  &        0.008     &   122.241  &         0.000        &        0.906    &        0.935     \\\\\n",
       "\\textbf{sigma2} &       0.5096  &        0.002     &   234.343  &         0.000        &        0.505    &        0.514     \\\\\n",
       "\\bottomrule\n",
       "\\end{tabular}\n",
       "\\begin{tabular}{lclc}\n",
       "\\textbf{Ljung-Box (L1) (Q):}     &  0.02  & \\textbf{  Jarque-Bera (JB):  } & 495591.29  \\\\\n",
       "\\textbf{Prob(Q):}                &  0.89  & \\textbf{  Prob(JB):          } &    0.00    \\\\\n",
       "\\textbf{Heteroskedasticity (H):} & 730.26 & \\textbf{  Skew:              } &   -0.00    \\\\\n",
       "\\textbf{Prob(H) (two-sided):}    &  0.00  & \\textbf{  Kurtosis:          } &   50.12    \\\\\n",
       "\\bottomrule\n",
       "\\end{tabular}\n",
       "%\\caption{SARIMAX Results}\n",
       "\\end{center}\n",
       "\n",
       "Warnings: \\newline\n",
       " [1] Covariance matrix calculated using the outer product of gradients (complex-step)."
      ],
      "text/plain": [
       "<class 'statsmodels.iolib.summary.Summary'>\n",
       "\"\"\"\n",
       "                               SARIMAX Results                                \n",
       "==============================================================================\n",
       "Dep. Variable:                  Close   No. Observations:                 5358\n",
       "Model:                 ARIMA(5, 0, 4)   Log Likelihood               -5787.538\n",
       "Date:                Sat, 07 Oct 2023   AIC                          11597.076\n",
       "Time:                        00:04:33   BIC                          11669.526\n",
       "Sample:                             0   HQIC                         11622.380\n",
       "                               - 5358                                         \n",
       "Covariance Type:                  opg                                         \n",
       "==============================================================================\n",
       "                 coef    std err          z      P>|z|      [0.025      0.975]\n",
       "------------------------------------------------------------------------------\n",
       "const          0.0247      0.009      2.792      0.005       0.007       0.042\n",
       "ar.L1          0.1568      0.008     19.693      0.000       0.141       0.172\n",
       "ar.L2         -0.2059      0.006    -32.027      0.000      -0.219      -0.193\n",
       "ar.L3          0.2941      0.007     45.166      0.000       0.281       0.307\n",
       "ar.L4         -0.8763      0.007   -126.539      0.000      -0.890      -0.863\n",
       "ar.L5         -0.1476      0.004    -38.754      0.000      -0.155      -0.140\n",
       "ma.L1         -0.2655      0.008    -33.427      0.000      -0.281      -0.250\n",
       "ma.L2          0.2555      0.007     37.002      0.000       0.242       0.269\n",
       "ma.L3         -0.3392      0.007    -47.785      0.000      -0.353      -0.325\n",
       "ma.L4          0.9204      0.008    122.241      0.000       0.906       0.935\n",
       "sigma2         0.5096      0.002    234.343      0.000       0.505       0.514\n",
       "===================================================================================\n",
       "Ljung-Box (L1) (Q):                   0.02   Jarque-Bera (JB):            495591.29\n",
       "Prob(Q):                              0.89   Prob(JB):                         0.00\n",
       "Heteroskedasticity (H):             730.26   Skew:                            -0.00\n",
       "Prob(H) (two-sided):                  0.00   Kurtosis:                        50.12\n",
       "===================================================================================\n",
       "\n",
       "Warnings:\n",
       "[1] Covariance matrix calculated using the outer product of gradients (complex-step).\n",
       "\"\"\""
      ]
     },
     "execution_count": 13,
     "metadata": {},
     "output_type": "execute_result"
    }
   ],
   "source": [
    "model = tsa.ARIMA(train['Close'],order=(5,0,4))\n",
    "model = model.fit()\n",
    "model.summary()"
   ]
  },
  {
   "cell_type": "code",
   "execution_count": 14,
   "metadata": {},
   "outputs": [
    {
     "name": "stdout",
     "output_type": "stream",
     "text": [
      "Date\n",
      "2021-04-21    0.374908\n",
      "2021-04-22    0.043472\n",
      "2021-04-23   -0.141681\n",
      "2021-04-26   -0.320747\n",
      "2021-04-27   -0.037616\n",
      "                ...   \n",
      "2023-08-25    0.024602\n",
      "2023-08-28    0.024709\n",
      "2023-08-29    0.024751\n",
      "2023-08-30    0.024599\n",
      "2023-08-31    0.024733\n",
      "Name: predicted_mean, Length: 596, dtype: float64\n"
     ]
    },
    {
     "name": "stderr",
     "output_type": "stream",
     "text": [
      "/home/surya/anaconda3/lib/python3.11/site-packages/statsmodels/tsa/base/tsa_model.py:836: ValueWarning: No supported index is available. Prediction results will be given with an integer index beginning at `start`.\n",
      "  return get_prediction_index(\n",
      "/home/surya/anaconda3/lib/python3.11/site-packages/statsmodels/tsa/base/tsa_model.py:836: FutureWarning: No supported index is available. In the next version, calling this method in a model without a supported index will result in an exception.\n",
      "  return get_prediction_index(\n",
      "/home/surya/anaconda3/lib/python3.11/site-packages/statsmodels/tsa/statespace/representation.py:374: FutureWarning: Unknown keyword arguments: dict_keys(['type']).Passing unknown keyword arguments will raise a TypeError beginning in version 0.15.\n",
      "  warnings.warn(msg, FutureWarning)\n"
     ]
    }
   ],
   "source": [
    "x=len(train)\n",
    "y=len(test)+len(train)-1\n",
    "pred=model.predict(start=x,end=y,type='levels')\n",
    "pred.index=df.index[x:y+1]\n",
    "print(pred)"
   ]
  },
  {
   "cell_type": "code",
   "execution_count": 15,
   "metadata": {},
   "outputs": [
    {
     "data": {
      "text/plain": [
       "<Axes: xlabel='Date'>"
      ]
     },
     "execution_count": 15,
     "metadata": {},
     "output_type": "execute_result"
    },
    {
     "data": {
      "image/png": "[encoded data removed]",
      "text/plain": [
       "<Figure size 640x480 with 1 Axes>"
      ]
     },
     "metadata": {},
     "output_type": "display_data"
    }
   ],
   "source": [
    "pred.plot(legend=True)\n",
    "test['Close'].plot(legend=True)"
   ]
  },
  {
   "cell_type": "code",
   "execution_count": 16,
   "metadata": {},
   "outputs": [
    {
     "name": "stdout",
     "output_type": "stream",
     "text": [
      "2.7497652086229616\n"
     ]
    }
   ],
   "source": [
    "from sklearn.metrics import mean_squared_error\n",
    "from math import sqrt\n",
    "rmse=sqrt(mean_squared_error(pred,test['Close']))\n",
    "print(rmse)"
   ]
  },
  {
   "cell_type": "code",
   "execution_count": null,
   "metadata": {},
   "outputs": [],
   "source": []
  }
 ],
 "metadata": {
  "kernelspec": {
   "display_name": "ml",
   "language": "python",
   "name": "python3"
  },
  "language_info": {
   "codemirror_mode": {
    "name": "ipython",
    "version": 3
   },
   "file_extension": ".py",
   "mimetype": "text/x-python",
   "name": "python",
   "nbconvert_exporter": "python",
   "pygments_lexer": "ipython3",
   "version": "3.11.4"
  },
  "orig_nbformat": 4
 },
 "nbformat": 4,
 "nbformat_minor": 2
}
